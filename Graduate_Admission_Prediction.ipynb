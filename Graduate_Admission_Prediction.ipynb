{
 "cells": [
  {
   "cell_type": "markdown",
   "id": "8fccf07e",
   "metadata": {},
   "source": [
    "## Loading the Libraries"
   ]
  },
  {
   "cell_type": "code",
   "execution_count": 450,
   "id": "86b93ea4",
   "metadata": {},
   "outputs": [],
   "source": [
    "# Importing libraries to use in project\n",
    "import pandas as pd\n",
    "import matplotlib.pyplot as plt\n",
    "import numpy as np\n",
    "from sklearn.model_selection import train_test_split\n",
    "\n",
    "# Will use for feature scaling\n",
    "from sklearn.preprocessing import MinMaxScaler\n",
    "\n",
    "# Regression Models\n",
    "from sklearn.linear_model import LinearRegression\n",
    "from sklearn.svm import SVR\n",
    "from sklearn.ensemble import RandomForestRegressor\n",
    "from sklearn.ensemble import GradientBoostingRegressor\n",
    "\n",
    "# Classification Models\n",
    "from sklearn.neighbors import KNeighborsClassifier\n",
    "from sklearn.svm import SVC\n",
    "from sklearn.ensemble import RandomForestClassifier\n",
    "from sklearn.ensemble import GradientBoostingClassifier\n",
    "\n",
    "# Will use to implement ANN\n",
    "import tensorflow\n",
    "from tensorflow import keras\n",
    "from keras import Sequential\n",
    "from keras.layers import Dense\n",
    "\n",
    "# To evaluate the model performance\n",
    "from sklearn import metrics\n",
    "\n",
    "# To visualize the results\n",
    "import seaborn as sns\n",
    "import matplotlib.pyplot as plt\n",
    "\n",
    "# To save the model\n",
    "import joblib"
   ]
  },
  {
   "cell_type": "code",
   "execution_count": 287,
   "id": "6ac7ff8b",
   "metadata": {},
   "outputs": [
    {
     "data": {
      "text/html": [
       "<div>\n",
       "<style scoped>\n",
       "    .dataframe tbody tr th:only-of-type {\n",
       "        vertical-align: middle;\n",
       "    }\n",
       "\n",
       "    .dataframe tbody tr th {\n",
       "        vertical-align: top;\n",
       "    }\n",
       "\n",
       "    .dataframe thead th {\n",
       "        text-align: right;\n",
       "    }\n",
       "</style>\n",
       "<table border=\"1\" class=\"dataframe\">\n",
       "  <thead>\n",
       "    <tr style=\"text-align: right;\">\n",
       "      <th></th>\n",
       "      <th>Serial No.</th>\n",
       "      <th>GRE Score</th>\n",
       "      <th>TOEFL Score</th>\n",
       "      <th>University Rating</th>\n",
       "      <th>SOP</th>\n",
       "      <th>LOR</th>\n",
       "      <th>CGPA</th>\n",
       "      <th>Research</th>\n",
       "      <th>Chance of Admit</th>\n",
       "    </tr>\n",
       "  </thead>\n",
       "  <tbody>\n",
       "    <tr>\n",
       "      <th>0</th>\n",
       "      <td>1</td>\n",
       "      <td>337</td>\n",
       "      <td>118</td>\n",
       "      <td>4</td>\n",
       "      <td>4.5</td>\n",
       "      <td>4.5</td>\n",
       "      <td>9.65</td>\n",
       "      <td>1</td>\n",
       "      <td>0.92</td>\n",
       "    </tr>\n",
       "    <tr>\n",
       "      <th>1</th>\n",
       "      <td>2</td>\n",
       "      <td>324</td>\n",
       "      <td>107</td>\n",
       "      <td>4</td>\n",
       "      <td>4.0</td>\n",
       "      <td>4.5</td>\n",
       "      <td>8.87</td>\n",
       "      <td>1</td>\n",
       "      <td>0.76</td>\n",
       "    </tr>\n",
       "    <tr>\n",
       "      <th>2</th>\n",
       "      <td>3</td>\n",
       "      <td>316</td>\n",
       "      <td>104</td>\n",
       "      <td>3</td>\n",
       "      <td>3.0</td>\n",
       "      <td>3.5</td>\n",
       "      <td>8.00</td>\n",
       "      <td>1</td>\n",
       "      <td>0.72</td>\n",
       "    </tr>\n",
       "    <tr>\n",
       "      <th>3</th>\n",
       "      <td>4</td>\n",
       "      <td>322</td>\n",
       "      <td>110</td>\n",
       "      <td>3</td>\n",
       "      <td>3.5</td>\n",
       "      <td>2.5</td>\n",
       "      <td>8.67</td>\n",
       "      <td>1</td>\n",
       "      <td>0.80</td>\n",
       "    </tr>\n",
       "    <tr>\n",
       "      <th>4</th>\n",
       "      <td>5</td>\n",
       "      <td>314</td>\n",
       "      <td>103</td>\n",
       "      <td>2</td>\n",
       "      <td>2.0</td>\n",
       "      <td>3.0</td>\n",
       "      <td>8.21</td>\n",
       "      <td>0</td>\n",
       "      <td>0.65</td>\n",
       "    </tr>\n",
       "    <tr>\n",
       "      <th>...</th>\n",
       "      <td>...</td>\n",
       "      <td>...</td>\n",
       "      <td>...</td>\n",
       "      <td>...</td>\n",
       "      <td>...</td>\n",
       "      <td>...</td>\n",
       "      <td>...</td>\n",
       "      <td>...</td>\n",
       "      <td>...</td>\n",
       "    </tr>\n",
       "    <tr>\n",
       "      <th>495</th>\n",
       "      <td>496</td>\n",
       "      <td>332</td>\n",
       "      <td>108</td>\n",
       "      <td>5</td>\n",
       "      <td>4.5</td>\n",
       "      <td>4.0</td>\n",
       "      <td>9.02</td>\n",
       "      <td>1</td>\n",
       "      <td>0.87</td>\n",
       "    </tr>\n",
       "    <tr>\n",
       "      <th>496</th>\n",
       "      <td>497</td>\n",
       "      <td>337</td>\n",
       "      <td>117</td>\n",
       "      <td>5</td>\n",
       "      <td>5.0</td>\n",
       "      <td>5.0</td>\n",
       "      <td>9.87</td>\n",
       "      <td>1</td>\n",
       "      <td>0.96</td>\n",
       "    </tr>\n",
       "    <tr>\n",
       "      <th>497</th>\n",
       "      <td>498</td>\n",
       "      <td>330</td>\n",
       "      <td>120</td>\n",
       "      <td>5</td>\n",
       "      <td>4.5</td>\n",
       "      <td>5.0</td>\n",
       "      <td>9.56</td>\n",
       "      <td>1</td>\n",
       "      <td>0.93</td>\n",
       "    </tr>\n",
       "    <tr>\n",
       "      <th>498</th>\n",
       "      <td>499</td>\n",
       "      <td>312</td>\n",
       "      <td>103</td>\n",
       "      <td>4</td>\n",
       "      <td>4.0</td>\n",
       "      <td>5.0</td>\n",
       "      <td>8.43</td>\n",
       "      <td>0</td>\n",
       "      <td>0.73</td>\n",
       "    </tr>\n",
       "    <tr>\n",
       "      <th>499</th>\n",
       "      <td>500</td>\n",
       "      <td>327</td>\n",
       "      <td>113</td>\n",
       "      <td>4</td>\n",
       "      <td>4.5</td>\n",
       "      <td>4.5</td>\n",
       "      <td>9.04</td>\n",
       "      <td>0</td>\n",
       "      <td>0.84</td>\n",
       "    </tr>\n",
       "  </tbody>\n",
       "</table>\n",
       "<p>500 rows × 9 columns</p>\n",
       "</div>"
      ],
      "text/plain": [
       "     Serial No.  GRE Score  TOEFL Score  University Rating  SOP  LOR   CGPA  \\\n",
       "0             1        337          118                  4  4.5   4.5  9.65   \n",
       "1             2        324          107                  4  4.0   4.5  8.87   \n",
       "2             3        316          104                  3  3.0   3.5  8.00   \n",
       "3             4        322          110                  3  3.5   2.5  8.67   \n",
       "4             5        314          103                  2  2.0   3.0  8.21   \n",
       "..          ...        ...          ...                ...  ...   ...   ...   \n",
       "495         496        332          108                  5  4.5   4.0  9.02   \n",
       "496         497        337          117                  5  5.0   5.0  9.87   \n",
       "497         498        330          120                  5  4.5   5.0  9.56   \n",
       "498         499        312          103                  4  4.0   5.0  8.43   \n",
       "499         500        327          113                  4  4.5   4.5  9.04   \n",
       "\n",
       "     Research  Chance of Admit   \n",
       "0           1              0.92  \n",
       "1           1              0.76  \n",
       "2           1              0.72  \n",
       "3           1              0.80  \n",
       "4           0              0.65  \n",
       "..        ...               ...  \n",
       "495         1              0.87  \n",
       "496         1              0.96  \n",
       "497         1              0.93  \n",
       "498         0              0.73  \n",
       "499         0              0.84  \n",
       "\n",
       "[500 rows x 9 columns]"
      ]
     },
     "execution_count": 287,
     "metadata": {},
     "output_type": "execute_result"
    }
   ],
   "source": [
    "# Importing Dataset\n",
    "dataset = pd.read_csv(\"Gr_Admission_Predict_Data.csv\")\n",
    "dataset"
   ]
  },
  {
   "cell_type": "markdown",
   "id": "9693b553",
   "metadata": {},
   "source": [
    "## Loading and Examining the dataset"
   ]
  },
  {
   "cell_type": "code",
   "execution_count": 288,
   "id": "8d4f19fb",
   "metadata": {},
   "outputs": [
    {
     "name": "stdout",
     "output_type": "stream",
     "text": [
      "Number of Rows in dataset : 500\n",
      "Number of columns in dataset : 9\n",
      "Number of features of Graduate Admission Analysis and Prediction Problem : 8\n"
     ]
    }
   ],
   "source": [
    "# Printing the sahpe of the dataset\n",
    "print(f'Number of Rows in dataset : {dataset.shape[0]}')\n",
    "print(f'Number of columns in dataset : {dataset.shape[1]}')\n",
    "print(f'Number of features of Graduate Admission Analysis and Prediction Problem : {dataset.shape[1]-1}')"
   ]
  },
  {
   "cell_type": "code",
   "execution_count": 289,
   "id": "d3b486fc",
   "metadata": {},
   "outputs": [
    {
     "name": "stdout",
     "output_type": "stream",
     "text": [
      "<class 'pandas.core.frame.DataFrame'>\n",
      "RangeIndex: 500 entries, 0 to 499\n",
      "Data columns (total 9 columns):\n",
      " #   Column             Non-Null Count  Dtype  \n",
      "---  ------             --------------  -----  \n",
      " 0   Serial No.         500 non-null    int64  \n",
      " 1   GRE Score          500 non-null    int64  \n",
      " 2   TOEFL Score        500 non-null    int64  \n",
      " 3   University Rating  500 non-null    int64  \n",
      " 4   SOP                500 non-null    float64\n",
      " 5   LOR                500 non-null    float64\n",
      " 6   CGPA               500 non-null    float64\n",
      " 7   Research           500 non-null    int64  \n",
      " 8   Chance of Admit    500 non-null    float64\n",
      "dtypes: float64(4), int64(5)\n",
      "memory usage: 35.3 KB\n"
     ]
    }
   ],
   "source": [
    "# Printing the basic information of dataset\n",
    "dataset.info()"
   ]
  },
  {
   "cell_type": "code",
   "execution_count": 290,
   "id": "1882e1cb",
   "metadata": {},
   "outputs": [
    {
     "data": {
      "text/html": [
       "<div>\n",
       "<style scoped>\n",
       "    .dataframe tbody tr th:only-of-type {\n",
       "        vertical-align: middle;\n",
       "    }\n",
       "\n",
       "    .dataframe tbody tr th {\n",
       "        vertical-align: top;\n",
       "    }\n",
       "\n",
       "    .dataframe thead th {\n",
       "        text-align: right;\n",
       "    }\n",
       "</style>\n",
       "<table border=\"1\" class=\"dataframe\">\n",
       "  <thead>\n",
       "    <tr style=\"text-align: right;\">\n",
       "      <th></th>\n",
       "      <th>Serial No.</th>\n",
       "      <th>GRE Score</th>\n",
       "      <th>TOEFL Score</th>\n",
       "      <th>University Rating</th>\n",
       "      <th>SOP</th>\n",
       "      <th>LOR</th>\n",
       "      <th>CGPA</th>\n",
       "      <th>Research</th>\n",
       "      <th>Chance of Admit</th>\n",
       "    </tr>\n",
       "  </thead>\n",
       "  <tbody>\n",
       "    <tr>\n",
       "      <th>count</th>\n",
       "      <td>500.000000</td>\n",
       "      <td>500.000000</td>\n",
       "      <td>500.000000</td>\n",
       "      <td>500.000000</td>\n",
       "      <td>500.000000</td>\n",
       "      <td>500.00000</td>\n",
       "      <td>500.000000</td>\n",
       "      <td>500.000000</td>\n",
       "      <td>500.00000</td>\n",
       "    </tr>\n",
       "    <tr>\n",
       "      <th>mean</th>\n",
       "      <td>250.500000</td>\n",
       "      <td>316.472000</td>\n",
       "      <td>107.192000</td>\n",
       "      <td>3.114000</td>\n",
       "      <td>3.374000</td>\n",
       "      <td>3.48400</td>\n",
       "      <td>8.576440</td>\n",
       "      <td>0.560000</td>\n",
       "      <td>0.72174</td>\n",
       "    </tr>\n",
       "    <tr>\n",
       "      <th>std</th>\n",
       "      <td>144.481833</td>\n",
       "      <td>11.295148</td>\n",
       "      <td>6.081868</td>\n",
       "      <td>1.143512</td>\n",
       "      <td>0.991004</td>\n",
       "      <td>0.92545</td>\n",
       "      <td>0.604813</td>\n",
       "      <td>0.496884</td>\n",
       "      <td>0.14114</td>\n",
       "    </tr>\n",
       "    <tr>\n",
       "      <th>min</th>\n",
       "      <td>1.000000</td>\n",
       "      <td>290.000000</td>\n",
       "      <td>92.000000</td>\n",
       "      <td>1.000000</td>\n",
       "      <td>1.000000</td>\n",
       "      <td>1.00000</td>\n",
       "      <td>6.800000</td>\n",
       "      <td>0.000000</td>\n",
       "      <td>0.34000</td>\n",
       "    </tr>\n",
       "    <tr>\n",
       "      <th>25%</th>\n",
       "      <td>125.750000</td>\n",
       "      <td>308.000000</td>\n",
       "      <td>103.000000</td>\n",
       "      <td>2.000000</td>\n",
       "      <td>2.500000</td>\n",
       "      <td>3.00000</td>\n",
       "      <td>8.127500</td>\n",
       "      <td>0.000000</td>\n",
       "      <td>0.63000</td>\n",
       "    </tr>\n",
       "    <tr>\n",
       "      <th>50%</th>\n",
       "      <td>250.500000</td>\n",
       "      <td>317.000000</td>\n",
       "      <td>107.000000</td>\n",
       "      <td>3.000000</td>\n",
       "      <td>3.500000</td>\n",
       "      <td>3.50000</td>\n",
       "      <td>8.560000</td>\n",
       "      <td>1.000000</td>\n",
       "      <td>0.72000</td>\n",
       "    </tr>\n",
       "    <tr>\n",
       "      <th>75%</th>\n",
       "      <td>375.250000</td>\n",
       "      <td>325.000000</td>\n",
       "      <td>112.000000</td>\n",
       "      <td>4.000000</td>\n",
       "      <td>4.000000</td>\n",
       "      <td>4.00000</td>\n",
       "      <td>9.040000</td>\n",
       "      <td>1.000000</td>\n",
       "      <td>0.82000</td>\n",
       "    </tr>\n",
       "    <tr>\n",
       "      <th>max</th>\n",
       "      <td>500.000000</td>\n",
       "      <td>340.000000</td>\n",
       "      <td>120.000000</td>\n",
       "      <td>5.000000</td>\n",
       "      <td>5.000000</td>\n",
       "      <td>5.00000</td>\n",
       "      <td>9.920000</td>\n",
       "      <td>1.000000</td>\n",
       "      <td>0.97000</td>\n",
       "    </tr>\n",
       "  </tbody>\n",
       "</table>\n",
       "</div>"
      ],
      "text/plain": [
       "       Serial No.   GRE Score  TOEFL Score  University Rating         SOP  \\\n",
       "count  500.000000  500.000000   500.000000         500.000000  500.000000   \n",
       "mean   250.500000  316.472000   107.192000           3.114000    3.374000   \n",
       "std    144.481833   11.295148     6.081868           1.143512    0.991004   \n",
       "min      1.000000  290.000000    92.000000           1.000000    1.000000   \n",
       "25%    125.750000  308.000000   103.000000           2.000000    2.500000   \n",
       "50%    250.500000  317.000000   107.000000           3.000000    3.500000   \n",
       "75%    375.250000  325.000000   112.000000           4.000000    4.000000   \n",
       "max    500.000000  340.000000   120.000000           5.000000    5.000000   \n",
       "\n",
       "            LOR         CGPA    Research  Chance of Admit   \n",
       "count  500.00000  500.000000  500.000000         500.00000  \n",
       "mean     3.48400    8.576440    0.560000           0.72174  \n",
       "std      0.92545    0.604813    0.496884           0.14114  \n",
       "min      1.00000    6.800000    0.000000           0.34000  \n",
       "25%      3.00000    8.127500    0.000000           0.63000  \n",
       "50%      3.50000    8.560000    1.000000           0.72000  \n",
       "75%      4.00000    9.040000    1.000000           0.82000  \n",
       "max      5.00000    9.920000    1.000000           0.97000  "
      ]
     },
     "execution_count": 290,
     "metadata": {},
     "output_type": "execute_result"
    }
   ],
   "source": [
    "# Examiming the dataset\n",
    "dataset.describe()"
   ]
  },
  {
   "cell_type": "code",
   "execution_count": 291,
   "id": "761bca62",
   "metadata": {},
   "outputs": [
    {
     "data": {
      "text/html": [
       "<div>\n",
       "<style scoped>\n",
       "    .dataframe tbody tr th:only-of-type {\n",
       "        vertical-align: middle;\n",
       "    }\n",
       "\n",
       "    .dataframe tbody tr th {\n",
       "        vertical-align: top;\n",
       "    }\n",
       "\n",
       "    .dataframe thead th {\n",
       "        text-align: right;\n",
       "    }\n",
       "</style>\n",
       "<table border=\"1\" class=\"dataframe\">\n",
       "  <thead>\n",
       "    <tr style=\"text-align: right;\">\n",
       "      <th></th>\n",
       "      <th>Serial No.</th>\n",
       "      <th>GRE Score</th>\n",
       "      <th>TOEFL Score</th>\n",
       "      <th>University Rating</th>\n",
       "      <th>SOP</th>\n",
       "      <th>LOR</th>\n",
       "      <th>CGPA</th>\n",
       "      <th>Research</th>\n",
       "      <th>Chance of Admit</th>\n",
       "    </tr>\n",
       "  </thead>\n",
       "  <tbody>\n",
       "    <tr>\n",
       "      <th>0</th>\n",
       "      <td>False</td>\n",
       "      <td>False</td>\n",
       "      <td>False</td>\n",
       "      <td>False</td>\n",
       "      <td>False</td>\n",
       "      <td>False</td>\n",
       "      <td>False</td>\n",
       "      <td>False</td>\n",
       "      <td>False</td>\n",
       "    </tr>\n",
       "    <tr>\n",
       "      <th>1</th>\n",
       "      <td>False</td>\n",
       "      <td>False</td>\n",
       "      <td>False</td>\n",
       "      <td>False</td>\n",
       "      <td>False</td>\n",
       "      <td>False</td>\n",
       "      <td>False</td>\n",
       "      <td>False</td>\n",
       "      <td>False</td>\n",
       "    </tr>\n",
       "    <tr>\n",
       "      <th>2</th>\n",
       "      <td>False</td>\n",
       "      <td>False</td>\n",
       "      <td>False</td>\n",
       "      <td>False</td>\n",
       "      <td>False</td>\n",
       "      <td>False</td>\n",
       "      <td>False</td>\n",
       "      <td>False</td>\n",
       "      <td>False</td>\n",
       "    </tr>\n",
       "    <tr>\n",
       "      <th>3</th>\n",
       "      <td>False</td>\n",
       "      <td>False</td>\n",
       "      <td>False</td>\n",
       "      <td>False</td>\n",
       "      <td>False</td>\n",
       "      <td>False</td>\n",
       "      <td>False</td>\n",
       "      <td>False</td>\n",
       "      <td>False</td>\n",
       "    </tr>\n",
       "    <tr>\n",
       "      <th>4</th>\n",
       "      <td>False</td>\n",
       "      <td>False</td>\n",
       "      <td>False</td>\n",
       "      <td>False</td>\n",
       "      <td>False</td>\n",
       "      <td>False</td>\n",
       "      <td>False</td>\n",
       "      <td>False</td>\n",
       "      <td>False</td>\n",
       "    </tr>\n",
       "    <tr>\n",
       "      <th>...</th>\n",
       "      <td>...</td>\n",
       "      <td>...</td>\n",
       "      <td>...</td>\n",
       "      <td>...</td>\n",
       "      <td>...</td>\n",
       "      <td>...</td>\n",
       "      <td>...</td>\n",
       "      <td>...</td>\n",
       "      <td>...</td>\n",
       "    </tr>\n",
       "    <tr>\n",
       "      <th>495</th>\n",
       "      <td>False</td>\n",
       "      <td>False</td>\n",
       "      <td>False</td>\n",
       "      <td>False</td>\n",
       "      <td>False</td>\n",
       "      <td>False</td>\n",
       "      <td>False</td>\n",
       "      <td>False</td>\n",
       "      <td>False</td>\n",
       "    </tr>\n",
       "    <tr>\n",
       "      <th>496</th>\n",
       "      <td>False</td>\n",
       "      <td>False</td>\n",
       "      <td>False</td>\n",
       "      <td>False</td>\n",
       "      <td>False</td>\n",
       "      <td>False</td>\n",
       "      <td>False</td>\n",
       "      <td>False</td>\n",
       "      <td>False</td>\n",
       "    </tr>\n",
       "    <tr>\n",
       "      <th>497</th>\n",
       "      <td>False</td>\n",
       "      <td>False</td>\n",
       "      <td>False</td>\n",
       "      <td>False</td>\n",
       "      <td>False</td>\n",
       "      <td>False</td>\n",
       "      <td>False</td>\n",
       "      <td>False</td>\n",
       "      <td>False</td>\n",
       "    </tr>\n",
       "    <tr>\n",
       "      <th>498</th>\n",
       "      <td>False</td>\n",
       "      <td>False</td>\n",
       "      <td>False</td>\n",
       "      <td>False</td>\n",
       "      <td>False</td>\n",
       "      <td>False</td>\n",
       "      <td>False</td>\n",
       "      <td>False</td>\n",
       "      <td>False</td>\n",
       "    </tr>\n",
       "    <tr>\n",
       "      <th>499</th>\n",
       "      <td>False</td>\n",
       "      <td>False</td>\n",
       "      <td>False</td>\n",
       "      <td>False</td>\n",
       "      <td>False</td>\n",
       "      <td>False</td>\n",
       "      <td>False</td>\n",
       "      <td>False</td>\n",
       "      <td>False</td>\n",
       "    </tr>\n",
       "  </tbody>\n",
       "</table>\n",
       "<p>500 rows × 9 columns</p>\n",
       "</div>"
      ],
      "text/plain": [
       "     Serial No.  GRE Score  TOEFL Score  University Rating    SOP   LOR   \\\n",
       "0         False      False        False              False  False  False   \n",
       "1         False      False        False              False  False  False   \n",
       "2         False      False        False              False  False  False   \n",
       "3         False      False        False              False  False  False   \n",
       "4         False      False        False              False  False  False   \n",
       "..          ...        ...          ...                ...    ...    ...   \n",
       "495       False      False        False              False  False  False   \n",
       "496       False      False        False              False  False  False   \n",
       "497       False      False        False              False  False  False   \n",
       "498       False      False        False              False  False  False   \n",
       "499       False      False        False              False  False  False   \n",
       "\n",
       "      CGPA  Research  Chance of Admit   \n",
       "0    False     False             False  \n",
       "1    False     False             False  \n",
       "2    False     False             False  \n",
       "3    False     False             False  \n",
       "4    False     False             False  \n",
       "..     ...       ...               ...  \n",
       "495  False     False             False  \n",
       "496  False     False             False  \n",
       "497  False     False             False  \n",
       "498  False     False             False  \n",
       "499  False     False             False  \n",
       "\n",
       "[500 rows x 9 columns]"
      ]
     },
     "execution_count": 291,
     "metadata": {},
     "output_type": "execute_result"
    }
   ],
   "source": [
    "# Checking if the dataset has any null values\n",
    "dataset.isnull()"
   ]
  },
  {
   "cell_type": "code",
   "execution_count": 292,
   "id": "4a295118",
   "metadata": {},
   "outputs": [
    {
     "data": {
      "text/plain": [
       "Serial No.           0\n",
       "GRE Score            0\n",
       "TOEFL Score          0\n",
       "University Rating    0\n",
       "SOP                  0\n",
       "LOR                  0\n",
       "CGPA                 0\n",
       "Research             0\n",
       "Chance of Admit      0\n",
       "dtype: int64"
      ]
     },
     "execution_count": 292,
     "metadata": {},
     "output_type": "execute_result"
    }
   ],
   "source": [
    "# Summing up all available null values\n",
    "dataset.isnull().sum()\n",
    "# Comments on Result: Here all columns have 0 null values"
   ]
  },
  {
   "cell_type": "code",
   "execution_count": 293,
   "id": "d6f8cebe",
   "metadata": {},
   "outputs": [
    {
     "data": {
      "text/plain": [
       "0"
      ]
     },
     "execution_count": 293,
     "metadata": {},
     "output_type": "execute_result"
    }
   ],
   "source": [
    "# Will check if there is any duplicate row in the dataset\n",
    "dataset.duplicated().sum()"
   ]
  },
  {
   "cell_type": "code",
   "execution_count": 294,
   "id": "16886d45",
   "metadata": {},
   "outputs": [
    {
     "data": {
      "text/plain": [
       "Index(['Serial No.', 'GRE Score', 'TOEFL Score', 'University Rating', 'SOP',\n",
       "       'LOR ', 'CGPA', 'Research', 'Chance of Admit '],\n",
       "      dtype='object')"
      ]
     },
     "execution_count": 294,
     "metadata": {},
     "output_type": "execute_result"
    }
   ],
   "source": [
    "# Checking what and all columns we have in dataset\n",
    "dataset.columns\n",
    "# Comments on Result: Here, Serial No. column is not relevant with problem "
   ]
  },
  {
   "cell_type": "code",
   "execution_count": 295,
   "id": "1230c4a0",
   "metadata": {},
   "outputs": [
    {
     "data": {
      "text/html": [
       "<div>\n",
       "<style scoped>\n",
       "    .dataframe tbody tr th:only-of-type {\n",
       "        vertical-align: middle;\n",
       "    }\n",
       "\n",
       "    .dataframe tbody tr th {\n",
       "        vertical-align: top;\n",
       "    }\n",
       "\n",
       "    .dataframe thead th {\n",
       "        text-align: right;\n",
       "    }\n",
       "</style>\n",
       "<table border=\"1\" class=\"dataframe\">\n",
       "  <thead>\n",
       "    <tr style=\"text-align: right;\">\n",
       "      <th></th>\n",
       "      <th>GRE Score</th>\n",
       "      <th>TOEFL Score</th>\n",
       "      <th>University Rating</th>\n",
       "      <th>SOP</th>\n",
       "      <th>LOR</th>\n",
       "      <th>CGPA</th>\n",
       "      <th>Research</th>\n",
       "      <th>Chance of Admit</th>\n",
       "    </tr>\n",
       "  </thead>\n",
       "  <tbody>\n",
       "    <tr>\n",
       "      <th>0</th>\n",
       "      <td>337</td>\n",
       "      <td>118</td>\n",
       "      <td>4</td>\n",
       "      <td>4.5</td>\n",
       "      <td>4.5</td>\n",
       "      <td>9.65</td>\n",
       "      <td>1</td>\n",
       "      <td>0.92</td>\n",
       "    </tr>\n",
       "    <tr>\n",
       "      <th>1</th>\n",
       "      <td>324</td>\n",
       "      <td>107</td>\n",
       "      <td>4</td>\n",
       "      <td>4.0</td>\n",
       "      <td>4.5</td>\n",
       "      <td>8.87</td>\n",
       "      <td>1</td>\n",
       "      <td>0.76</td>\n",
       "    </tr>\n",
       "    <tr>\n",
       "      <th>2</th>\n",
       "      <td>316</td>\n",
       "      <td>104</td>\n",
       "      <td>3</td>\n",
       "      <td>3.0</td>\n",
       "      <td>3.5</td>\n",
       "      <td>8.00</td>\n",
       "      <td>1</td>\n",
       "      <td>0.72</td>\n",
       "    </tr>\n",
       "    <tr>\n",
       "      <th>3</th>\n",
       "      <td>322</td>\n",
       "      <td>110</td>\n",
       "      <td>3</td>\n",
       "      <td>3.5</td>\n",
       "      <td>2.5</td>\n",
       "      <td>8.67</td>\n",
       "      <td>1</td>\n",
       "      <td>0.80</td>\n",
       "    </tr>\n",
       "    <tr>\n",
       "      <th>4</th>\n",
       "      <td>314</td>\n",
       "      <td>103</td>\n",
       "      <td>2</td>\n",
       "      <td>2.0</td>\n",
       "      <td>3.0</td>\n",
       "      <td>8.21</td>\n",
       "      <td>0</td>\n",
       "      <td>0.65</td>\n",
       "    </tr>\n",
       "    <tr>\n",
       "      <th>...</th>\n",
       "      <td>...</td>\n",
       "      <td>...</td>\n",
       "      <td>...</td>\n",
       "      <td>...</td>\n",
       "      <td>...</td>\n",
       "      <td>...</td>\n",
       "      <td>...</td>\n",
       "      <td>...</td>\n",
       "    </tr>\n",
       "    <tr>\n",
       "      <th>495</th>\n",
       "      <td>332</td>\n",
       "      <td>108</td>\n",
       "      <td>5</td>\n",
       "      <td>4.5</td>\n",
       "      <td>4.0</td>\n",
       "      <td>9.02</td>\n",
       "      <td>1</td>\n",
       "      <td>0.87</td>\n",
       "    </tr>\n",
       "    <tr>\n",
       "      <th>496</th>\n",
       "      <td>337</td>\n",
       "      <td>117</td>\n",
       "      <td>5</td>\n",
       "      <td>5.0</td>\n",
       "      <td>5.0</td>\n",
       "      <td>9.87</td>\n",
       "      <td>1</td>\n",
       "      <td>0.96</td>\n",
       "    </tr>\n",
       "    <tr>\n",
       "      <th>497</th>\n",
       "      <td>330</td>\n",
       "      <td>120</td>\n",
       "      <td>5</td>\n",
       "      <td>4.5</td>\n",
       "      <td>5.0</td>\n",
       "      <td>9.56</td>\n",
       "      <td>1</td>\n",
       "      <td>0.93</td>\n",
       "    </tr>\n",
       "    <tr>\n",
       "      <th>498</th>\n",
       "      <td>312</td>\n",
       "      <td>103</td>\n",
       "      <td>4</td>\n",
       "      <td>4.0</td>\n",
       "      <td>5.0</td>\n",
       "      <td>8.43</td>\n",
       "      <td>0</td>\n",
       "      <td>0.73</td>\n",
       "    </tr>\n",
       "    <tr>\n",
       "      <th>499</th>\n",
       "      <td>327</td>\n",
       "      <td>113</td>\n",
       "      <td>4</td>\n",
       "      <td>4.5</td>\n",
       "      <td>4.5</td>\n",
       "      <td>9.04</td>\n",
       "      <td>0</td>\n",
       "      <td>0.84</td>\n",
       "    </tr>\n",
       "  </tbody>\n",
       "</table>\n",
       "<p>500 rows × 8 columns</p>\n",
       "</div>"
      ],
      "text/plain": [
       "     GRE Score  TOEFL Score  University Rating  SOP  LOR   CGPA  Research  \\\n",
       "0          337          118                  4  4.5   4.5  9.65         1   \n",
       "1          324          107                  4  4.0   4.5  8.87         1   \n",
       "2          316          104                  3  3.0   3.5  8.00         1   \n",
       "3          322          110                  3  3.5   2.5  8.67         1   \n",
       "4          314          103                  2  2.0   3.0  8.21         0   \n",
       "..         ...          ...                ...  ...   ...   ...       ...   \n",
       "495        332          108                  5  4.5   4.0  9.02         1   \n",
       "496        337          117                  5  5.0   5.0  9.87         1   \n",
       "497        330          120                  5  4.5   5.0  9.56         1   \n",
       "498        312          103                  4  4.0   5.0  8.43         0   \n",
       "499        327          113                  4  4.5   4.5  9.04         0   \n",
       "\n",
       "     Chance of Admit   \n",
       "0                0.92  \n",
       "1                0.76  \n",
       "2                0.72  \n",
       "3                0.80  \n",
       "4                0.65  \n",
       "..                ...  \n",
       "495              0.87  \n",
       "496              0.96  \n",
       "497              0.93  \n",
       "498              0.73  \n",
       "499              0.84  \n",
       "\n",
       "[500 rows x 8 columns]"
      ]
     },
     "execution_count": 295,
     "metadata": {},
     "output_type": "execute_result"
    }
   ],
   "source": [
    "# Dropping Irrelevent column(Serial No.) from Dataset\n",
    "dataset = dataset.drop(\"Serial No.\", axis = 1)\n",
    "dataset"
   ]
  },
  {
   "cell_type": "code",
   "execution_count": 541,
   "id": "3242acee",
   "metadata": {},
   "outputs": [
    {
     "data": {
      "text/plain": [
       "Index(['GRE Score', 'TOEFL Score', 'University Rating', 'SOP', 'LOR ', 'CGPA',\n",
       "       'Research', 'Chance of Admit '],\n",
       "      dtype='object')"
      ]
     },
     "execution_count": 541,
     "metadata": {},
     "output_type": "execute_result"
    }
   ],
   "source": [
    "# To see what final columns available in dataset\n",
    "dataset.columns"
   ]
  },
  {
   "cell_type": "code",
   "execution_count": 597,
   "id": "3deb36e8",
   "metadata": {},
   "outputs": [
    {
     "name": "stdout",
     "output_type": "stream",
     "text": [
      "        GRE Score\n",
      "count  500.000000\n",
      "mean   316.472000\n",
      "std     11.295148\n",
      "min    290.000000\n",
      "25%    308.000000\n",
      "50%    317.000000\n",
      "75%    325.000000\n",
      "max    340.000000\n"
     ]
    },
    {
     "data": {
      "image/png": "[encoded data removed]",
      "text/plain": [
       "<Figure size 640x480 with 1 Axes>"
      ]
     },
     "metadata": {},
     "output_type": "display_data"
    }
   ],
   "source": [
    "# Analyzing GRE Score feature\n",
    "GRE_Score = pd.DataFrame(dataset['GRE Score'])\n",
    "\n",
    "print(f'{GRE_Score.describe()}')\n",
    "\n",
    "sns.histplot(GRE_Score).set_title('Probability Distribution for GRE Scores', color='#1f77b4', size='15')\n",
    "plt.show()\n",
    "\n",
    "# Comments on Result : we have GRE Score between 290 to 340 and the data is having mostly proper distribution"
   ]
  },
  {
   "cell_type": "code",
   "execution_count": 596,
   "id": "bc2feb1b",
   "metadata": {},
   "outputs": [
    {
     "name": "stdout",
     "output_type": "stream",
     "text": [
      "       TOEFL Score\n",
      "count   500.000000\n",
      "mean    107.192000\n",
      "std       6.081868\n",
      "min      92.000000\n",
      "25%     103.000000\n",
      "50%     107.000000\n",
      "75%     112.000000\n",
      "max     120.000000\n"
     ]
    },
    {
     "data": {
      "image/png": "[encoded data removed]",
      "text/plain": [
       "<Figure size 640x480 with 1 Axes>"
      ]
     },
     "metadata": {},
     "output_type": "display_data"
    }
   ],
   "source": [
    "# Analyzing TOEFL Score feature\n",
    "TOEFL_Score = pd.DataFrame(dataset['TOEFL Score'])\n",
    "\n",
    "print(f'{TOEFL_Score.describe()}')\n",
    "\n",
    "sns.histplot(TOEFL_Score).set_title('Probability Distribution for TOEFL Scores', color='#1f77b4', size='15')\n",
    "plt.show()\n",
    "\n",
    "# Comments on Result : we have TOEFL Score between 92 to 120 and the data is having more values in range 105 to 107 than others"
   ]
  },
  {
   "cell_type": "code",
   "execution_count": 629,
   "id": "55d53549",
   "metadata": {},
   "outputs": [
    {
     "name": "stdout",
     "output_type": "stream",
     "text": [
      "   University Rating\n",
      "1                 34\n",
      "2                126\n",
      "3                162\n",
      "4                105\n",
      "5                 73\n"
     ]
    },
    {
     "data": {
      "image/png": "[encoded data removed]",
      "text/plain": [
       "<Figure size 800x600 with 1 Axes>"
      ]
     },
     "metadata": {},
     "output_type": "display_data"
    }
   ],
   "source": [
    "# Analyzing University Rating\n",
    "rating = pd.DataFrame(dataset[\"University Rating\"].value_counts().sort_index())\n",
    "print(rating)\n",
    "\n",
    "sns.set(font_scale=1.2)\n",
    "rating.plot(kind='bar', figsize=(8, 6), rot=0, colormap = 'Set3')\n",
    "plt.xlabel(\"University Rating\", labelpad=5)\n",
    "plt.ylabel(\"Count of rating\", labelpad=5)\n",
    "plt.title(\"Distribution of University Rating\", color = '#1f77b4');\n",
    "\n",
    "# Comments on Result : University Rating is also mostly evenly distributed between 5 levels describing 1 as high level and 5 as low level"
   ]
  },
  {
   "cell_type": "code",
   "execution_count": 638,
   "id": "cab568f4",
   "metadata": {},
   "outputs": [
    {
     "name": "stdout",
     "output_type": "stream",
     "text": [
      "     SOP\n",
      "1.0    6\n",
      "1.5   25\n",
      "2.0   43\n",
      "2.5   64\n",
      "3.0   80\n",
      "3.5   88\n",
      "4.0   89\n",
      "4.5   63\n",
      "5.0   42\n"
     ]
    },
    {
     "data": {
      "image/png": "[encoded data removed]",
      "text/plain": [
       "<Figure size 800x600 with 1 Axes>"
      ]
     },
     "metadata": {},
     "output_type": "display_data"
    }
   ],
   "source": [
    "# Analyzing Statement of Purpose(SOP) Strength\n",
    "SOP = pd.DataFrame(dataset[\"SOP\"].value_counts().sort_index())\n",
    "print(SOP)\n",
    "\n",
    "sns.set(font_scale=1.2)\n",
    "SOP.plot(kind='bar', figsize=(8, 6), rot=0, colormap = 'Set3')\n",
    "plt.xlabel(\"SOP\", labelpad=5)\n",
    "plt.ylabel(\"Count\", labelpad=5)\n",
    "plt.title(\"Distribution of SOP Strength\", color = '#1f77b4');\n",
    "\n",
    "# Comments on Result : Distribution of SOP Strength is also mostly proper and having most values between 2.5 to 4.5"
   ]
  },
  {
   "cell_type": "code",
   "execution_count": 637,
   "id": "6a9ff4a0",
   "metadata": {},
   "outputs": [
    {
     "name": "stdout",
     "output_type": "stream",
     "text": [
      "     LOR \n",
      "1.0     1\n",
      "1.5    11\n",
      "2.0    46\n",
      "2.5    50\n",
      "3.0    99\n",
      "3.5    86\n",
      "4.0    94\n",
      "4.5    63\n",
      "5.0    50\n"
     ]
    },
    {
     "data": {
      "image/png": "[encoded data removed]",
      "text/plain": [
       "<Figure size 800x600 with 1 Axes>"
      ]
     },
     "metadata": {},
     "output_type": "display_data"
    }
   ],
   "source": [
    "# Analyzing Letter of Recommendation(LOR) Strength\n",
    "LOR = pd.DataFrame(dataset[\"LOR \"].value_counts().sort_index())\n",
    "print(LOR)\n",
    "\n",
    "sns.set(font_scale=1.2)\n",
    "LOR.plot(kind='bar', figsize=(8, 6), rot=0, colormap = 'Set3')\n",
    "plt.xlabel(\"LOR\", labelpad=5)\n",
    "plt.ylabel(\"Count\", labelpad=5)\n",
    "plt.title(\"Distribution of LOR Strength\", color = '#1f77b4');\n",
    "\n",
    "# Comments on Result : Distribution of LOR Strength is mostly between 3.0 to 5.0"
   ]
  },
  {
   "cell_type": "code",
   "execution_count": 676,
   "id": "73942ced",
   "metadata": {},
   "outputs": [
    {
     "name": "stdout",
     "output_type": "stream",
     "text": [
      "             CGPA\n",
      "count  500.000000\n",
      "mean     8.576440\n",
      "std      0.604813\n",
      "min      6.800000\n",
      "25%      8.127500\n",
      "50%      8.560000\n",
      "75%      9.040000\n",
      "max      9.920000\n"
     ]
    },
    {
     "data": {
      "image/png": "[encoded data removed]",
      "text/plain": [
       "<Figure size 640x480 with 1 Axes>"
      ]
     },
     "metadata": {},
     "output_type": "display_data"
    }
   ],
   "source": [
    "# Analyzing CGPA feature\n",
    "CGPA = pd.DataFrame(dataset['CGPA'])\n",
    "\n",
    "print(f'{CGPA.describe()}')\n",
    "\n",
    "sns.histplot(CGPA).set_title('Probability Distribution for CGPA', color='#1f77b4', size='15')\n",
    "plt.show()\n",
    "\n",
    "# Comments on Result : Distribution of CGPA data is mostly between 8.0 to 9.2"
   ]
  },
  {
   "cell_type": "code",
   "execution_count": 688,
   "id": "9c6fccf3",
   "metadata": {},
   "outputs": [
    {
     "name": "stdout",
     "output_type": "stream",
     "text": [
      "   Research\n",
      "0       220\n",
      "1       280\n"
     ]
    },
    {
     "data": {
      "image/png": "[encoded data removed]",
      "text/plain": [
       "<Figure size 500x500 with 1 Axes>"
      ]
     },
     "metadata": {},
     "output_type": "display_data"
    }
   ],
   "source": [
    "# Analyzing Research feature\n",
    "research = pd.DataFrame(dataset[\"Research\"].value_counts().sort_index())\n",
    "print(research)\n",
    "\n",
    "sns.set(font_scale=1.2)\n",
    "research.plot(kind='pie', figsize=(5, 5), colormap = 'Set3', subplots=True)\n",
    "plt.xlabel(\"Research\", labelpad=5)\n",
    "plt.ylabel(\"Count\", labelpad=5)\n",
    "plt.title(\"Distribution of Research data\", color = '#1f77b4');\n",
    "\n",
    "# Comments on Result : The available records for each Reasearch type does not have a major difference"
   ]
  },
  {
   "cell_type": "code",
   "execution_count": 701,
   "id": "cf40d050",
   "metadata": {},
   "outputs": [
    {
     "data": {
      "image/png": "[encoded data removed]",
      "text/plain": [
       "<Figure size 640x480 with 1 Axes>"
      ]
     },
     "metadata": {},
     "output_type": "display_data"
    }
   ],
   "source": [
    "# Analysis of Chance of Admit\n",
    "\n",
    "\n",
    "target_corr = pd.DataFrame(dataset.corr()['Chance of Admit '])\n",
    "target_corr.rename({'Chance of Admit ': 'Correlation Coeffecient'}, axis=1, inplace=True)\n",
    "target_corr.drop('Chance of Admit ', inplace=True)\n",
    "target_corr.sort_values(['Correlation Coeffecient'], inplace=True)\n",
    "target_corr_y = target_corr.index\n",
    "target_corr_x = target_corr['Correlation Coeffecient']\n",
    "sns.barplot(y=target_corr_y,x=target_corr_x, palette='Set3').set_title('Chance of Admit Correlation Coeffecients', size='15', color = '#1f77b4')\n",
    "plt.show()\n",
    "\n",
    "# Comments on Result : Chanse of Admit is having high correlation with CGPA, GRE Score and TOEFL Score "
   ]
  },
  {
   "cell_type": "markdown",
   "id": "851533ff",
   "metadata": {},
   "source": [
    "## Separating Independent and Dependent Variables "
   ]
  },
  {
   "cell_type": "code",
   "execution_count": 296,
   "id": "c9d3dbe1",
   "metadata": {},
   "outputs": [
    {
     "data": {
      "text/html": [
       "<div>\n",
       "<style scoped>\n",
       "    .dataframe tbody tr th:only-of-type {\n",
       "        vertical-align: middle;\n",
       "    }\n",
       "\n",
       "    .dataframe tbody tr th {\n",
       "        vertical-align: top;\n",
       "    }\n",
       "\n",
       "    .dataframe thead th {\n",
       "        text-align: right;\n",
       "    }\n",
       "</style>\n",
       "<table border=\"1\" class=\"dataframe\">\n",
       "  <thead>\n",
       "    <tr style=\"text-align: right;\">\n",
       "      <th></th>\n",
       "      <th>GRE Score</th>\n",
       "      <th>TOEFL Score</th>\n",
       "      <th>University Rating</th>\n",
       "      <th>SOP</th>\n",
       "      <th>LOR</th>\n",
       "      <th>CGPA</th>\n",
       "      <th>Research</th>\n",
       "    </tr>\n",
       "  </thead>\n",
       "  <tbody>\n",
       "    <tr>\n",
       "      <th>0</th>\n",
       "      <td>337</td>\n",
       "      <td>118</td>\n",
       "      <td>4</td>\n",
       "      <td>4.5</td>\n",
       "      <td>4.5</td>\n",
       "      <td>9.65</td>\n",
       "      <td>1</td>\n",
       "    </tr>\n",
       "    <tr>\n",
       "      <th>1</th>\n",
       "      <td>324</td>\n",
       "      <td>107</td>\n",
       "      <td>4</td>\n",
       "      <td>4.0</td>\n",
       "      <td>4.5</td>\n",
       "      <td>8.87</td>\n",
       "      <td>1</td>\n",
       "    </tr>\n",
       "    <tr>\n",
       "      <th>2</th>\n",
       "      <td>316</td>\n",
       "      <td>104</td>\n",
       "      <td>3</td>\n",
       "      <td>3.0</td>\n",
       "      <td>3.5</td>\n",
       "      <td>8.00</td>\n",
       "      <td>1</td>\n",
       "    </tr>\n",
       "    <tr>\n",
       "      <th>3</th>\n",
       "      <td>322</td>\n",
       "      <td>110</td>\n",
       "      <td>3</td>\n",
       "      <td>3.5</td>\n",
       "      <td>2.5</td>\n",
       "      <td>8.67</td>\n",
       "      <td>1</td>\n",
       "    </tr>\n",
       "    <tr>\n",
       "      <th>4</th>\n",
       "      <td>314</td>\n",
       "      <td>103</td>\n",
       "      <td>2</td>\n",
       "      <td>2.0</td>\n",
       "      <td>3.0</td>\n",
       "      <td>8.21</td>\n",
       "      <td>0</td>\n",
       "    </tr>\n",
       "    <tr>\n",
       "      <th>...</th>\n",
       "      <td>...</td>\n",
       "      <td>...</td>\n",
       "      <td>...</td>\n",
       "      <td>...</td>\n",
       "      <td>...</td>\n",
       "      <td>...</td>\n",
       "      <td>...</td>\n",
       "    </tr>\n",
       "    <tr>\n",
       "      <th>495</th>\n",
       "      <td>332</td>\n",
       "      <td>108</td>\n",
       "      <td>5</td>\n",
       "      <td>4.5</td>\n",
       "      <td>4.0</td>\n",
       "      <td>9.02</td>\n",
       "      <td>1</td>\n",
       "    </tr>\n",
       "    <tr>\n",
       "      <th>496</th>\n",
       "      <td>337</td>\n",
       "      <td>117</td>\n",
       "      <td>5</td>\n",
       "      <td>5.0</td>\n",
       "      <td>5.0</td>\n",
       "      <td>9.87</td>\n",
       "      <td>1</td>\n",
       "    </tr>\n",
       "    <tr>\n",
       "      <th>497</th>\n",
       "      <td>330</td>\n",
       "      <td>120</td>\n",
       "      <td>5</td>\n",
       "      <td>4.5</td>\n",
       "      <td>5.0</td>\n",
       "      <td>9.56</td>\n",
       "      <td>1</td>\n",
       "    </tr>\n",
       "    <tr>\n",
       "      <th>498</th>\n",
       "      <td>312</td>\n",
       "      <td>103</td>\n",
       "      <td>4</td>\n",
       "      <td>4.0</td>\n",
       "      <td>5.0</td>\n",
       "      <td>8.43</td>\n",
       "      <td>0</td>\n",
       "    </tr>\n",
       "    <tr>\n",
       "      <th>499</th>\n",
       "      <td>327</td>\n",
       "      <td>113</td>\n",
       "      <td>4</td>\n",
       "      <td>4.5</td>\n",
       "      <td>4.5</td>\n",
       "      <td>9.04</td>\n",
       "      <td>0</td>\n",
       "    </tr>\n",
       "  </tbody>\n",
       "</table>\n",
       "<p>500 rows × 7 columns</p>\n",
       "</div>"
      ],
      "text/plain": [
       "     GRE Score  TOEFL Score  University Rating  SOP  LOR   CGPA  Research\n",
       "0          337          118                  4  4.5   4.5  9.65         1\n",
       "1          324          107                  4  4.0   4.5  8.87         1\n",
       "2          316          104                  3  3.0   3.5  8.00         1\n",
       "3          322          110                  3  3.5   2.5  8.67         1\n",
       "4          314          103                  2  2.0   3.0  8.21         0\n",
       "..         ...          ...                ...  ...   ...   ...       ...\n",
       "495        332          108                  5  4.5   4.0  9.02         1\n",
       "496        337          117                  5  5.0   5.0  9.87         1\n",
       "497        330          120                  5  4.5   5.0  9.56         1\n",
       "498        312          103                  4  4.0   5.0  8.43         0\n",
       "499        327          113                  4  4.5   4.5  9.04         0\n",
       "\n",
       "[500 rows x 7 columns]"
      ]
     },
     "execution_count": 296,
     "metadata": {},
     "output_type": "execute_result"
    }
   ],
   "source": [
    "# Input Dataset or the features of problem\n",
    "X = dataset.drop(\"Chance of Admit \", axis=1)\n",
    "X"
   ]
  },
  {
   "cell_type": "code",
   "execution_count": 297,
   "id": "3ac1fab5",
   "metadata": {},
   "outputs": [
    {
     "data": {
      "text/plain": [
       "0      0.92\n",
       "1      0.76\n",
       "2      0.72\n",
       "3      0.80\n",
       "4      0.65\n",
       "       ... \n",
       "495    0.87\n",
       "496    0.96\n",
       "497    0.93\n",
       "498    0.73\n",
       "499    0.84\n",
       "Name: Chance of Admit , Length: 500, dtype: float64"
      ]
     },
     "execution_count": 297,
     "metadata": {},
     "output_type": "execute_result"
    }
   ],
   "source": [
    "# Output Dataset or the target of problem\n",
    "y = dataset[\"Chance of Admit \"]\n",
    "y"
   ]
  },
  {
   "cell_type": "code",
   "execution_count": 487,
   "id": "7a67984b",
   "metadata": {},
   "outputs": [
    {
     "data": {
      "text/plain": [
       "Text(0.5, 1.0, 'Correlation between variables')"
      ]
     },
     "execution_count": 487,
     "metadata": {},
     "output_type": "execute_result"
    },
    {
     "data": {
      "image/png": "[encoded data removed]",
      "text/plain": [
       "<Figure size 640x480 with 2 Axes>"
      ]
     },
     "metadata": {},
     "output_type": "display_data"
    }
   ],
   "source": [
    "# Plotting the correlation between input dataset variables/features\n",
    "sns.heatmap(dataset.corr(), annot=True, cmap = \"coolwarm\").set_title('Correlation between all variables', color='red', size='15')\n",
    "\n",
    "# Comments on Result : Chance of Admit is having strong direct correlation with GRE Score, TOEFL Score and CGPA "
   ]
  },
  {
   "cell_type": "markdown",
   "id": "3108bec1",
   "metadata": {},
   "source": [
    "## Spilitting Training and Testing sets "
   ]
  },
  {
   "cell_type": "code",
   "execution_count": 299,
   "id": "2dbd3d56",
   "metadata": {},
   "outputs": [
    {
     "data": {
      "text/plain": [
       "(     GRE Score  TOEFL Score  University Rating  SOP  LOR   CGPA  Research\n",
       " 238        310          104                  3  2.0   3.5  8.37         0\n",
       " 438        318          110                  1  2.5   3.5  8.54         1\n",
       " 475        300          101                  3  3.5   2.5  7.88         0\n",
       " 58         300           99                  1  3.0   2.0  6.80         1\n",
       " 380        322          104                  3  3.5   4.0  8.84         1\n",
       " ..         ...          ...                ...  ...   ...   ...       ...\n",
       " 255        307          110                  4  4.0   4.5  8.37         0\n",
       " 72         321          111                  5  5.0   5.0  9.45         1\n",
       " 396        325          107                  3  3.0   3.5  9.11         1\n",
       " 235        326          111                  5  4.5   4.0  9.23         1\n",
       " 37         300          105                  1  1.0   2.0  7.80         0\n",
       " \n",
       " [400 rows x 7 columns],\n",
       "      GRE Score  TOEFL Score  University Rating  SOP  LOR   CGPA  Research\n",
       " 304        313          106                  2  2.5   2.0  8.43         0\n",
       " 340        312          107                  3  3.0   3.0  8.46         1\n",
       " 47         339          119                  5  4.5   4.0  9.70         0\n",
       " 67         316          107                  2  3.5   3.5  8.64         1\n",
       " 479        325          110                  4  4.5   4.0  8.96         1\n",
       " ..         ...          ...                ...  ...   ...   ...       ...\n",
       " 11         327          111                  4  4.0   4.5  9.00         1\n",
       " 192        322          114                  5  4.5   4.0  8.94         1\n",
       " 92         298           98                  2  4.0   3.0  8.03         0\n",
       " 221        316          110                  3  3.5   4.0  8.56         0\n",
       " 110        305          108                  5  3.0   3.0  8.48         0\n",
       " \n",
       " [100 rows x 7 columns],\n",
       " 238    0.70\n",
       " 438    0.67\n",
       " 475    0.59\n",
       " 58     0.36\n",
       " 380    0.78\n",
       "        ... \n",
       " 255    0.79\n",
       " 72     0.93\n",
       " 396    0.84\n",
       " 235    0.88\n",
       " 37     0.58\n",
       " Name: Chance of Admit , Length: 400, dtype: float64,\n",
       " 304    0.62\n",
       " 340    0.75\n",
       " 47     0.89\n",
       " 67     0.57\n",
       " 479    0.79\n",
       "        ... \n",
       " 11     0.84\n",
       " 192    0.86\n",
       " 92     0.34\n",
       " 221    0.75\n",
       " 110    0.61\n",
       " Name: Chance of Admit , Length: 100, dtype: float64)"
      ]
     },
     "execution_count": 299,
     "metadata": {},
     "output_type": "execute_result"
    }
   ],
   "source": [
    "# Spilitting the dataset into training and testing set\n",
    "X_train, X_test, y_train, y_test = train_test_split(X, y, test_size = 0.2, random_state = 1)\n",
    "X_train, X_test, y_train, y_test\n",
    "# Comments on Result: 20% of the data will be set aside for Testing purpose "
   ]
  },
  {
   "cell_type": "markdown",
   "id": "cb8e2c18",
   "metadata": {},
   "source": [
    "## Preprocessing"
   ]
  },
  {
   "cell_type": "code",
   "execution_count": 300,
   "id": "69c0f81a",
   "metadata": {},
   "outputs": [
    {
     "data": {
      "text/plain": [
       "(array([[0.4       , 0.42857143, 0.5       , ..., 0.57142857, 0.50320513,\n",
       "         0.        ],\n",
       "        [0.56      , 0.64285714, 0.        , ..., 0.57142857, 0.55769231,\n",
       "         1.        ],\n",
       "        [0.2       , 0.32142857, 0.5       , ..., 0.28571429, 0.34615385,\n",
       "         0.        ],\n",
       "        ...,\n",
       "        [0.7       , 0.53571429, 0.5       , ..., 0.57142857, 0.74038462,\n",
       "         1.        ],\n",
       "        [0.72      , 0.67857143, 1.        , ..., 0.71428571, 0.77884615,\n",
       "         1.        ],\n",
       "        [0.2       , 0.46428571, 0.        , ..., 0.14285714, 0.32051282,\n",
       "         0.        ]]),\n",
       " array([[ 0.46      ,  0.5       ,  0.25      ,  0.375     ,  0.14285714,\n",
       "          0.5224359 ,  0.        ],\n",
       "        [ 0.44      ,  0.53571429,  0.5       ,  0.5       ,  0.42857143,\n",
       "          0.53205128,  1.        ],\n",
       "        [ 0.98      ,  0.96428571,  1.        ,  0.875     ,  0.71428571,\n",
       "          0.92948718,  0.        ],\n",
       "        [ 0.52      ,  0.53571429,  0.25      ,  0.625     ,  0.57142857,\n",
       "          0.58974359,  1.        ],\n",
       "        [ 0.7       ,  0.64285714,  0.75      ,  0.875     ,  0.71428571,\n",
       "          0.69230769,  1.        ],\n",
       "        [ 0.42      ,  0.32142857,  0.25      ,  0.375     ,  0.57142857,\n",
       "          0.49358974,  1.        ],\n",
       "        [ 0.6       ,  0.42857143,  0.5       ,  0.5       ,  0.57142857,\n",
       "          0.62179487,  1.        ],\n",
       "        [ 0.74      ,  0.39285714,  0.5       ,  0.75      ,  0.71428571,\n",
       "          0.48076923,  1.        ],\n",
       "        [ 0.62      ,  0.67857143,  0.5       ,  0.625     ,  0.71428571,\n",
       "          0.65064103,  1.        ],\n",
       "        [ 0.56      ,  0.5       ,  0.25      ,  0.75      ,  0.71428571,\n",
       "          0.35897436,  1.        ],\n",
       "        [ 0.48      ,  0.53571429,  0.25      ,  0.375     ,  0.71428571,\n",
       "          0.47115385,  0.        ],\n",
       "        [ 0.06      ,  0.17857143,  0.25      ,  0.25      ,  0.71428571,\n",
       "          0.32051282,  1.        ],\n",
       "        [ 0.74      ,  0.42857143,  1.        ,  0.5       ,  0.57142857,\n",
       "          0.65384615,  1.        ],\n",
       "        [ 0.74      ,  0.78571429,  0.5       ,  0.5       ,  0.42857143,\n",
       "          0.71153846,  0.        ],\n",
       "        [ 0.62      ,  0.60714286,  0.5       ,  0.625     ,  0.57142857,\n",
       "          0.64102564,  1.        ],\n",
       "        [ 0.68      ,  0.71428571,  1.        ,  1.        ,  1.        ,\n",
       "          0.73076923,  1.        ],\n",
       "        [ 0.32      ,  0.39285714,  0.5       ,  0.625     ,  0.42857143,\n",
       "          0.45192308,  0.        ],\n",
       "        [ 0.46      ,  0.60714286,  0.5       ,  0.75      ,  0.57142857,\n",
       "          0.70512821,  0.        ],\n",
       "        [ 0.82      ,  0.82142857,  1.        ,  0.75      ,  0.57142857,\n",
       "          0.84615385,  1.        ],\n",
       "        [ 0.5       ,  0.46428571,  0.5       ,  0.25      ,  0.28571429,\n",
       "          0.53846154,  0.        ],\n",
       "        [ 0.44      ,  0.21428571,  0.        ,  0.625     ,  0.42857143,\n",
       "          0.44230769,  1.        ],\n",
       "        [ 0.42      ,  0.53571429,  0.75      ,  0.875     ,  0.85714286,\n",
       "          0.70512821,  1.        ],\n",
       "        [ 0.76      ,  0.57142857,  0.75      ,  0.875     ,  0.71428571,\n",
       "          0.76282051,  1.        ],\n",
       "        [ 0.16      ,  0.32142857,  0.75      ,  0.375     ,  0.85714286,\n",
       "          0.28525641,  1.        ],\n",
       "        [ 0.7       ,  0.71428571,  0.75      ,  0.625     ,  0.57142857,\n",
       "          0.67948718,  0.        ],\n",
       "        [ 0.5       ,  0.46428571,  0.25      ,  0.25      ,  0.28571429,\n",
       "          0.2724359 ,  0.        ],\n",
       "        [ 0.82      ,  0.71428571,  1.        ,  0.75      ,  1.        ,\n",
       "          0.96153846,  1.        ],\n",
       "        [ 0.36      ,  0.5       ,  0.5       ,  0.5       ,  0.42857143,\n",
       "          0.46153846,  0.        ],\n",
       "        [ 0.66      ,  0.75      ,  0.75      ,  0.75      ,  0.85714286,\n",
       "          0.77884615,  1.        ],\n",
       "        [ 0.5       ,  0.64285714,  0.25      ,  0.625     ,  0.42857143,\n",
       "          0.53205128,  1.        ],\n",
       "        [ 0.34      ,  0.35714286,  0.5       ,  0.5       ,  0.42857143,\n",
       "          0.47115385,  0.        ],\n",
       "        [ 0.66      ,  0.64285714,  0.5       ,  0.75      ,  0.57142857,\n",
       "          0.73717949,  1.        ],\n",
       "        [ 0.28      ,  0.28571429,  0.25      ,  0.375     ,  0.57142857,\n",
       "          0.40705128,  0.        ],\n",
       "        [ 0.82      ,  0.85714286,  0.75      ,  0.875     ,  0.85714286,\n",
       "          0.84615385,  1.        ],\n",
       "        [ 0.52      ,  0.21428571,  0.        ,  0.125     ,  0.14285714,\n",
       "          0.20192308,  0.        ],\n",
       "        [ 0.72      ,  0.71428571,  0.5       ,  0.625     ,  0.42857143,\n",
       "          0.73717949,  1.        ],\n",
       "        [ 0.6       ,  0.32142857,  0.25      ,  0.375     ,  0.42857143,\n",
       "          0.58333333,  0.        ],\n",
       "        [ 0.48      ,  0.39285714,  0.25      ,  0.25      ,  0.42857143,\n",
       "          0.45192308,  0.        ],\n",
       "        [ 0.5       ,  0.46428571,  0.25      ,  0.5       ,  0.42857143,\n",
       "          0.49358974,  0.        ],\n",
       "        [ 0.88      ,  0.85714286,  0.75      ,  0.75      ,  0.57142857,\n",
       "          0.87820513,  1.        ],\n",
       "        [ 0.18      ,  0.28571429,  0.5       ,  0.25      ,  0.14285714,\n",
       "          0.39102564,  0.        ],\n",
       "        [ 0.42      ,  0.42857143,  0.5       ,  0.75      ,  0.57142857,\n",
       "          0.42628205,  1.        ],\n",
       "        [ 0.56      ,  0.32142857,  1.        ,  0.625     ,  1.        ,\n",
       "          0.63461538,  1.        ],\n",
       "        [ 0.86      ,  0.96428571,  1.        ,  1.        ,  0.85714286,\n",
       "          0.95512821,  1.        ],\n",
       "        [ 0.74      ,  0.75      ,  0.5       ,  0.625     ,  0.42857143,\n",
       "          0.59615385,  1.        ],\n",
       "        [ 0.14      ,  0.14285714,  0.25      ,  0.375     ,  0.        ,\n",
       "          0.34935897,  0.        ],\n",
       "        [ 0.54      ,  0.28571429,  0.25      ,  0.5       ,  0.28571429,\n",
       "          0.56730769,  0.        ],\n",
       "        [ 0.5       ,  0.42857143,  0.5       ,  0.75      ,  0.28571429,\n",
       "          0.41666667,  0.        ],\n",
       "        [ 0.64      ,  0.39285714,  0.75      ,  0.5       ,  0.28571429,\n",
       "          0.39102564,  1.        ],\n",
       "        [ 0.48      ,  0.5       ,  0.25      ,  0.75      ,  0.57142857,\n",
       "          0.46474359,  0.        ],\n",
       "        [ 0.78      ,  0.67857143,  0.75      ,  0.875     ,  0.71428571,\n",
       "          0.70833333,  1.        ],\n",
       "        [ 0.82      ,  0.89285714,  0.75      ,  0.875     ,  1.        ,\n",
       "          0.83974359,  1.        ],\n",
       "        [ 0.8       ,  0.82142857,  1.        ,  0.875     ,  0.42857143,\n",
       "          0.81410256,  1.        ],\n",
       "        [ 0.36      ,  0.35714286,  0.25      ,  0.25      ,  0.57142857,\n",
       "          0.37820513,  1.        ],\n",
       "        [ 0.5       ,  0.32142857,  0.5       ,  0.625     ,  0.85714286,\n",
       "          0.74679487,  0.        ],\n",
       "        [ 0.28      ,  0.46428571,  0.25      ,  0.5       ,  0.42857143,\n",
       "          0.44871795,  1.        ],\n",
       "        [ 0.44      ,  0.53571429,  0.75      ,  0.875     ,  0.71428571,\n",
       "          0.59294872,  1.        ],\n",
       "        [ 0.38      ,  0.5       ,  0.25      ,  0.375     ,  0.28571429,\n",
       "          0.38461538,  0.        ],\n",
       "        [ 0.58      ,  0.5       ,  0.5       ,  0.75      ,  0.42857143,\n",
       "          0.38461538,  1.        ],\n",
       "        [ 0.56      ,  0.53571429,  0.5       ,  0.5       ,  0.57142857,\n",
       "          0.47115385,  1.        ],\n",
       "        [ 0.18      ,  0.07142857,  0.        ,  0.        , -0.14285714,\n",
       "          0.17307692,  0.        ],\n",
       "        [ 0.58      ,  0.39285714,  0.75      ,  0.875     ,  0.57142857,\n",
       "          0.59615385,  0.        ],\n",
       "        [ 0.68      ,  0.28571429,  0.5       ,  0.75      ,  1.        ,\n",
       "          0.58974359,  1.        ],\n",
       "        [ 0.8       ,  0.78571429,  0.75      ,  0.875     ,  0.42857143,\n",
       "          0.75961538,  1.        ],\n",
       "        [ 0.9       ,  0.89285714,  1.        ,  1.        ,  1.        ,\n",
       "          0.96794872,  1.        ],\n",
       "        [ 0.36      ,  0.42857143,  0.25      ,  0.375     ,  0.42857143,\n",
       "          0.40705128,  0.        ],\n",
       "        [ 0.6       ,  0.57142857,  0.5       ,  0.625     ,  0.71428571,\n",
       "          0.52564103,  1.        ],\n",
       "        [ 0.68      ,  0.53571429,  1.        ,  0.625     ,  0.71428571,\n",
       "          0.59615385,  1.        ],\n",
       "        [ 1.        ,  0.71428571,  0.75      ,  1.        ,  0.85714286,\n",
       "          0.91666667,  1.        ],\n",
       "        [ 0.56      ,  0.60714286,  0.5       ,  0.5       ,  0.42857143,\n",
       "          0.54487179,  0.        ],\n",
       "        [ 0.3       ,  0.35714286,  0.25      ,  0.25      ,  0.28571429,\n",
       "          0.44230769,  0.        ],\n",
       "        [ 0.5       ,  0.42857143,  0.5       ,  0.5       ,  0.28571429,\n",
       "          0.49038462,  0.        ],\n",
       "        [ 0.72      ,  0.78571429,  0.5       ,  0.5       ,  0.42857143,\n",
       "          0.74038462,  1.        ],\n",
       "        [ 0.4       ,  0.25      ,  0.25      ,  0.125     ,  0.14285714,\n",
       "          0.16025641,  0.        ],\n",
       "        [ 0.96      ,  0.89285714,  0.75      ,  0.625     ,  0.85714286,\n",
       "          0.8525641 ,  1.        ],\n",
       "        [ 0.28      ,  0.53571429,  0.5       ,  0.625     ,  0.42857143,\n",
       "          0.33974359,  0.        ],\n",
       "        [ 0.84      ,  0.57142857,  1.        ,  0.875     ,  0.71428571,\n",
       "          0.71153846,  1.        ],\n",
       "        [ 0.66      ,  0.67857143,  1.        ,  0.75      ,  1.        ,\n",
       "          0.98076923,  1.        ],\n",
       "        [ 0.6       ,  0.42857143,  0.5       ,  0.5       ,  0.28571429,\n",
       "          0.56730769,  1.        ],\n",
       "        [ 0.48      ,  0.60714286,  0.75      ,  0.625     ,  0.71428571,\n",
       "          0.63141026,  1.        ],\n",
       "        [ 0.74      ,  0.57142857,  1.        ,  1.        ,  0.57142857,\n",
       "          0.74679487,  1.        ],\n",
       "        [ 0.        ,  0.42857143,  0.75      ,  0.25      ,  0.28571429,\n",
       "          0.21153846,  0.        ],\n",
       "        [ 0.9       ,  0.92857143,  1.        ,  0.875     ,  0.57142857,\n",
       "          0.84615385,  1.        ],\n",
       "        [ 0.74      ,  0.5       ,  0.75      ,  0.75      ,  0.85714286,\n",
       "          0.625     ,  1.        ],\n",
       "        [ 0.64      ,  0.64285714,  1.        ,  0.875     ,  0.71428571,\n",
       "          0.69551282,  0.        ],\n",
       "        [ 0.36      ,  0.60714286,  0.25      ,  0.5       ,  0.71428571,\n",
       "          0.52884615,  0.        ],\n",
       "        [ 0.68      ,  0.75      ,  1.        ,  0.75      ,  1.        ,\n",
       "          0.78525641,  1.        ],\n",
       "        [ 0.82      ,  0.85714286,  1.        ,  0.75      ,  0.71428571,\n",
       "          0.78846154,  1.        ],\n",
       "        [ 0.14      ,  0.25      ,  0.75      ,  0.5       ,  0.57142857,\n",
       "          0.32371795,  0.        ],\n",
       "        [ 0.28      ,  0.42857143,  0.5       ,  0.375     ,  0.14285714,\n",
       "          0.42307692,  0.        ],\n",
       "        [ 0.38      ,  0.46428571,  0.75      ,  0.625     ,  0.14285714,\n",
       "          0.44230769,  0.        ],\n",
       "        [ 0.62      ,  0.35714286,  0.5       ,  0.625     ,  0.71428571,\n",
       "          0.70833333,  1.        ],\n",
       "        [ 0.52      ,  0.39285714,  0.5       ,  0.625     ,  0.14285714,\n",
       "          0.28205128,  0.        ],\n",
       "        [ 0.62      ,  0.60714286,  0.5       ,  0.5       ,  0.71428571,\n",
       "          0.44871795,  1.        ],\n",
       "        [ 0.64      ,  0.71428571,  0.75      ,  0.625     ,  0.28571429,\n",
       "          0.71153846,  1.        ],\n",
       "        [ 0.74      ,  0.67857143,  0.75      ,  0.75      ,  0.85714286,\n",
       "          0.70512821,  1.        ],\n",
       "        [ 0.64      ,  0.78571429,  1.        ,  0.875     ,  0.71428571,\n",
       "          0.68589744,  1.        ],\n",
       "        [ 0.16      ,  0.21428571,  0.25      ,  0.75      ,  0.42857143,\n",
       "          0.39423077,  0.        ],\n",
       "        [ 0.52      ,  0.64285714,  0.5       ,  0.625     ,  0.71428571,\n",
       "          0.56410256,  0.        ],\n",
       "        [ 0.3       ,  0.57142857,  1.        ,  0.5       ,  0.42857143,\n",
       "          0.53846154,  0.        ]]))"
      ]
     },
     "execution_count": 300,
     "metadata": {},
     "output_type": "execute_result"
    }
   ],
   "source": [
    "# Fearure Scaling\n",
    "\n",
    "#scaler = StandardScaler() \n",
    "scaler = MinMaxScaler()\n",
    "\n",
    "X_train = scaler.fit_transform(X_train)\n",
    "X_test = scaler.transform(X_test)\n",
    "\n",
    "X_train, X_test\n",
    "# Note : Feature Scaling put the data into same scale and it is import for ML algorithms use distances like SVM, Logistic Regression, KNN, etc."
   ]
  },
  {
   "cell_type": "markdown",
   "id": "24812292",
   "metadata": {},
   "source": [
    "# Regression Models\n",
    "## 1. Regression using Linear Regression"
   ]
  },
  {
   "cell_type": "code",
   "execution_count": 301,
   "id": "c9b24b1e",
   "metadata": {},
   "outputs": [
    {
     "name": "stdout",
     "output_type": "stream",
     "text": [
      "Prediction Results of Linear Regression Model : \n",
      "\n",
      "[0.65364463 0.70043542 0.94400884 0.73135825 0.81719181 0.66513709\n",
      " 0.74546219 0.71398256 0.78873127 0.65653766 0.66883172 0.56215153\n",
      " 0.78221604 0.79560121 0.77166888 0.85777014 0.62918292 0.76196454\n",
      " 0.89748589 0.67181012 0.62843768 0.79390017 0.84201562 0.59214465\n",
      " 0.78876323 0.5688167  0.95161786 0.64436779 0.86027013 0.71082762\n",
      " 0.63334096 0.81502112 0.59773752 0.91046031 0.5079117  0.81814977\n",
      " 0.68720131 0.63320441 0.65956114 0.91169813 0.56572719 0.66078745\n",
      " 0.77234455 0.97095744 0.77180606 0.52235571 0.66698457 0.63029872\n",
      " 0.65362771 0.66061792 0.83352993 0.91851356 0.87827235 0.61929821\n",
      " 0.76833342 0.64295764 0.74767251 0.60334621 0.6594083  0.69646847\n",
      " 0.4376351  0.72186637 0.75307031 0.84912984 0.98015564 0.61054881\n",
      " 0.73186256 0.77395027 0.94143227 0.70255514 0.60282575 0.65413563\n",
      " 0.82416213 0.49104946 0.92578896 0.59736765 0.83680077 0.94078823\n",
      " 0.71119566 0.7686843  0.83476616 0.50992057 0.9158392  0.78936354\n",
      " 0.79910119 0.68669543 0.87777872 0.88686645 0.56515501 0.6007571\n",
      " 0.62922844 0.78117268 0.57122529 0.70735717 0.8003999  0.83440926\n",
      " 0.82818556 0.57302223 0.72499618 0.68548566]\n",
      "\n",
      "\n",
      "Accuracy of Linear Regression Model : 82.08741703103732 %\n"
     ]
    }
   ],
   "source": [
    "# Prediction using Regression Models\n",
    "# Note : We will first use regression model as our target variable : 'Chance of Admit' is having continuous values\n",
    "\n",
    "# Linear Regression Model\n",
    "lin_regressor = LinearRegression()\n",
    "\n",
    "# Training the model\n",
    "lin_regressor.fit(X_train, y_train)\n",
    "\n",
    "# Predicting the results for trained Linear Regression Model\n",
    "y_pred_lr = lin_regressor.predict(X_test)\n",
    "print(f'Prediction Results of Linear Regression Model : \\n\\n{y_pred_lr}\\n\\n')\n",
    "\n",
    "# Calculating Accuracy of Linear Regression Model\n",
    "accuracy_lr = metrics.r2_score(y_test, y_pred_lr) * 100\n",
    "print(f'Accuracy of Linear Regression Model : {accuracy_lr} %')"
   ]
  },
  {
   "cell_type": "markdown",
   "id": "18ec64af",
   "metadata": {},
   "source": [
    "## 2. Regression using Support Vector Machine"
   ]
  },
  {
   "cell_type": "code",
   "execution_count": 302,
   "id": "7a985c36",
   "metadata": {},
   "outputs": [
    {
     "name": "stdout",
     "output_type": "stream",
     "text": [
      "Prediction Results of Support Vector Regression Model : \n",
      "\n",
      "[0.65047064 0.67601718 0.76869573 0.70175084 0.8159094  0.63004579\n",
      " 0.705501   0.69803768 0.7706371  0.65547797 0.65403625 0.60031395\n",
      " 0.73989998 0.72613658 0.75355518 0.82735927 0.60548214 0.71527891\n",
      " 0.85924692 0.62019158 0.59870999 0.76589071 0.82262913 0.63754816\n",
      " 0.72752196 0.58470862 0.85885903 0.62226093 0.8383632  0.69693463\n",
      " 0.59454149 0.7919165  0.57473231 0.87516249 0.56147368 0.79296367\n",
      " 0.64158031 0.60309039 0.64276723 0.87036942 0.52449309 0.65363878\n",
      " 0.7351311  0.87794591 0.76664232 0.52073467 0.63143675 0.61994163\n",
      " 0.63894626 0.64975212 0.83183017 0.86493963 0.83837553 0.6054404\n",
      " 0.70557367 0.61940571 0.74401995 0.60636101 0.65916126 0.68012639\n",
      " 0.53542406 0.67713141 0.7138657  0.83327156 0.87160627 0.59475503\n",
      " 0.72066351 0.76380163 0.86357622 0.67384308 0.56831566 0.62207709\n",
      " 0.79127208 0.51293421 0.86097215 0.60643264 0.82063282 0.84079974\n",
      " 0.67097454 0.75561809 0.80844213 0.54272521 0.86648962 0.77620907\n",
      " 0.73800373 0.67496238 0.83658344 0.86413462 0.56572719 0.57963112\n",
      " 0.61697784 0.7298925  0.58995785 0.69942315 0.77804903 0.82383603\n",
      " 0.82775852 0.57319338 0.70121247 0.64731051]\n",
      "\n",
      "\n",
      "Accuracy of Support Vector Regression Model : 74.71986784282183 %\n"
     ]
    }
   ],
   "source": [
    "# Support Vector Machine Regression Model\n",
    "svm_regressor = SVR(C=0.1)\n",
    "\n",
    "# Training the model\n",
    "svm_regressor.fit(X_train, y_train)\n",
    "\n",
    "# Predicting the results for trained Support Vector Regression Model\n",
    "y_pred_svr = svm_regressor.predict(X_test)\n",
    "print(f'Prediction Results of Support Vector Regression Model : \\n\\n{y_pred_svr}\\n\\n')\n",
    "\n",
    "# Calculating Accuracy of Support Vector Regression Model\n",
    "accuracy_svr = metrics.r2_score(y_test, y_pred_svr) * 100\n",
    "print(f'Accuracy of Support Vector Regression Model : {accuracy_svr} %')"
   ]
  },
  {
   "cell_type": "markdown",
   "id": "3c34450f",
   "metadata": {},
   "source": [
    "## 3. Regression using Random Forest"
   ]
  },
  {
   "cell_type": "code",
   "execution_count": 867,
   "id": "c43c093b",
   "metadata": {},
   "outputs": [
    {
     "name": "stdout",
     "output_type": "stream",
     "text": [
      "Prediction Results of Random Forest Regression Model : \n",
      "\n",
      "[0.6034 0.686  0.947  0.7284 0.8242 0.6934 0.7604 0.633  0.7882 0.6806\n",
      " 0.671  0.5078 0.8058 0.7768 0.7658 0.884  0.6486 0.7916 0.9282 0.6858\n",
      " 0.6622 0.7392 0.8326 0.5548 0.7972 0.61   0.9572 0.679  0.8858 0.661\n",
      " 0.6352 0.8126 0.5846 0.9168 0.5448 0.7928 0.6614 0.6422 0.678  0.9302\n",
      " 0.5666 0.6936 0.7358 0.9638 0.7738 0.5334 0.659  0.6574 0.6868 0.6938\n",
      " 0.8276 0.9192 0.9152 0.5832 0.7576 0.6564 0.7384 0.5914 0.6968 0.7056\n",
      " 0.4432 0.7214 0.7488 0.8612 0.9594 0.6124 0.7176 0.7568 0.9302 0.6654\n",
      " 0.5998 0.6678 0.8046 0.5452 0.9188 0.5456 0.8602 0.9478 0.7094 0.7482\n",
      " 0.875  0.5416 0.9304 0.7714 0.8598 0.677  0.8838 0.9166 0.5436 0.6332\n",
      " 0.6572 0.7832 0.5984 0.6942 0.8022 0.821  0.8442 0.6232 0.6972 0.6428]\n",
      "\n",
      "\n",
      "Accuracy of Random Forest Regression Model : 77.16124074361763 %\n"
     ]
    }
   ],
   "source": [
    "# Random Forest Regression Model\n",
    "rf_regressor = RandomForestRegressor(n_estimators=50)\n",
    "\n",
    "# Training the model\n",
    "rf_regressor.fit(X_train, y_train)\n",
    "\n",
    "# Predicting the results for trained Random Forest Regression Model\n",
    "y_pred_rfr = rf_regressor.predict(X_test)\n",
    "print(f'Prediction Results of Random Forest Regression Model : \\n\\n{y_pred_rfr}\\n\\n')\n",
    "\n",
    "# Calculating Accuracy of Random Forest Regression Model\n",
    "accuracy_rfr = metrics.r2_score(y_test, y_pred_rfr) * 100\n",
    "print(f'Accuracy of Random Forest Regression Model : {accuracy_rfr} %')"
   ]
  },
  {
   "cell_type": "markdown",
   "id": "63e5c753",
   "metadata": {},
   "source": [
    "## 4. Regression using Gradient Boosting"
   ]
  },
  {
   "cell_type": "code",
   "execution_count": 864,
   "id": "c7bc61d9",
   "metadata": {},
   "outputs": [
    {
     "name": "stdout",
     "output_type": "stream",
     "text": [
      "Prediction Results of Gradient Boosting Regression Model : \n",
      "\n",
      "[0.66431832 0.68653287 0.93701313 0.72702852 0.82028311 0.68174739\n",
      " 0.76177841 0.68312145 0.78660756 0.65666992 0.67555984 0.51800429\n",
      " 0.80003009 0.76967558 0.76271355 0.87886833 0.65561955 0.75870596\n",
      " 0.92162016 0.66578661 0.69516877 0.74780467 0.8033758  0.55248324\n",
      " 0.7813968  0.60244456 0.94278612 0.66461395 0.88515858 0.68164091\n",
      " 0.64118539 0.82941345 0.6104655  0.92499235 0.60533728 0.81075403\n",
      " 0.66447862 0.64838087 0.68073676 0.93215169 0.54323093 0.68628706\n",
      " 0.73435008 0.9569893  0.74655359 0.52494667 0.66123142 0.63872387\n",
      " 0.68562097 0.67120936 0.82633411 0.93089824 0.90902997 0.59362888\n",
      " 0.77294978 0.63744411 0.74026498 0.62240099 0.66385057 0.6962039\n",
      " 0.4252616  0.73718046 0.75648394 0.87106256 0.96282519 0.63679607\n",
      " 0.71856308 0.76699824 0.93315792 0.67772072 0.59900061 0.68005933\n",
      " 0.81364712 0.51692539 0.91166986 0.59969253 0.85437136 0.92211785\n",
      " 0.71413931 0.7511004  0.86653138 0.50548613 0.93055486 0.75976748\n",
      " 0.83981664 0.68529268 0.89302614 0.91472842 0.55384339 0.63538277\n",
      " 0.65819603 0.79002609 0.60274403 0.68709394 0.81354015 0.82674065\n",
      " 0.84676064 0.6224393  0.6912607  0.68583863]\n",
      "\n",
      "\n",
      "Accuracy of Gradient Boosting Regression Model : 78.69635655510443 %\n"
     ]
    }
   ],
   "source": [
    "# Gradient Boosting Regression Model\n",
    "gb_regressor = GradientBoostingRegressor(n_estimators=85)\n",
    "\n",
    "# Training the model\n",
    "gb_regressor.fit(X_train, y_train)\n",
    "\n",
    "# Predicting the results for trained Gradient Boosting Regression Model\n",
    "y_pred_gbr = gb_regressor.predict(X_test)\n",
    "print(f'Prediction Results of Gradient Boosting Regression Model : \\n\\n{y_pred_gbr}\\n\\n')\n",
    "\n",
    "# Calculating Accuracy of Random Forest Regression Model\n",
    "accuracy_gbr = metrics.r2_score(y_test, y_pred_gbr) * 100\n",
    "print(f'Accuracy of Gradient Boosting Regression Model : {accuracy_gbr} %')"
   ]
  },
  {
   "cell_type": "markdown",
   "id": "197ef11c",
   "metadata": {},
   "source": [
    "## 5. Regression using Artificial Neural Network "
   ]
  },
  {
   "cell_type": "code",
   "execution_count": 419,
   "id": "4e280f93",
   "metadata": {},
   "outputs": [],
   "source": [
    "# Using Artificial Neural Network Model (Regression)\n",
    "ann_model = Sequential()\n",
    "\n",
    "# Adding Layers\n",
    "ann_model.add(Dense(7,activation = \"relu\" , input_dim = 7))\n",
    "ann_model.add(Dense(7,activation = \"relu\"))\n",
    "ann_model.add(Dense(1,activation = \"linear\"))"
   ]
  },
  {
   "cell_type": "code",
   "execution_count": 420,
   "id": "6fedb141",
   "metadata": {},
   "outputs": [
    {
     "name": "stdout",
     "output_type": "stream",
     "text": [
      "Model: \"sequential_20\"\n",
      "_________________________________________________________________\n",
      " Layer (type)                Output Shape              Param #   \n",
      "=================================================================\n",
      " dense_58 (Dense)            (None, 7)                 56        \n",
      "                                                                 \n",
      " dense_59 (Dense)            (None, 7)                 56        \n",
      "                                                                 \n",
      " dense_60 (Dense)            (None, 1)                 8         \n",
      "                                                                 \n",
      "=================================================================\n",
      "Total params: 120\n",
      "Trainable params: 120\n",
      "Non-trainable params: 0\n",
      "_________________________________________________________________\n"
     ]
    }
   ],
   "source": [
    "ann_model.summary()"
   ]
  },
  {
   "cell_type": "code",
   "execution_count": 421,
   "id": "d7e31f84",
   "metadata": {},
   "outputs": [],
   "source": [
    "# Compiling the model\n",
    "ann_model.compile(loss = \"mean_squared_error\", optimizer = \"Adam\")"
   ]
  },
  {
   "cell_type": "code",
   "execution_count": 422,
   "id": "75d545d0",
   "metadata": {},
   "outputs": [
    {
     "name": "stdout",
     "output_type": "stream",
     "text": [
      "Epoch 1/250\n",
      "10/10 [==============================] - 1s 25ms/step - loss: 0.5506 - val_loss: 0.5176\n",
      "Epoch 2/250\n",
      "10/10 [==============================] - 0s 7ms/step - loss: 0.4376 - val_loss: 0.4144\n",
      "Epoch 3/250\n",
      "10/10 [==============================] - 0s 6ms/step - loss: 0.3483 - val_loss: 0.3245\n",
      "Epoch 4/250\n",
      "10/10 [==============================] - 0s 8ms/step - loss: 0.2687 - val_loss: 0.2431\n",
      "Epoch 5/250\n",
      "10/10 [==============================] - 0s 8ms/step - loss: 0.1965 - val_loss: 0.1708\n",
      "Epoch 6/250\n",
      "10/10 [==============================] - 0s 6ms/step - loss: 0.1341 - val_loss: 0.1104\n",
      "Epoch 7/250\n",
      "10/10 [==============================] - 0s 5ms/step - loss: 0.0844 - val_loss: 0.0664\n",
      "Epoch 8/250\n",
      "10/10 [==============================] - 0s 7ms/step - loss: 0.0505 - val_loss: 0.0393\n",
      "Epoch 9/250\n",
      "10/10 [==============================] - 0s 5ms/step - loss: 0.0315 - val_loss: 0.0256\n",
      "Epoch 10/250\n",
      "10/10 [==============================] - 0s 7ms/step - loss: 0.0231 - val_loss: 0.0204\n",
      "Epoch 11/250\n",
      "10/10 [==============================] - 0s 8ms/step - loss: 0.0199 - val_loss: 0.0186\n",
      "Epoch 12/250\n",
      "10/10 [==============================] - 0s 8ms/step - loss: 0.0187 - val_loss: 0.0177\n",
      "Epoch 13/250\n",
      "10/10 [==============================] - 0s 6ms/step - loss: 0.0176 - val_loss: 0.0170\n",
      "Epoch 14/250\n",
      "10/10 [==============================] - 0s 8ms/step - loss: 0.0166 - val_loss: 0.0163\n",
      "Epoch 15/250\n",
      "10/10 [==============================] - 0s 7ms/step - loss: 0.0157 - val_loss: 0.0158\n",
      "Epoch 16/250\n",
      "10/10 [==============================] - 0s 9ms/step - loss: 0.0150 - val_loss: 0.0153\n",
      "Epoch 17/250\n",
      "10/10 [==============================] - 0s 8ms/step - loss: 0.0143 - val_loss: 0.0147\n",
      "Epoch 18/250\n",
      "10/10 [==============================] - 0s 6ms/step - loss: 0.0137 - val_loss: 0.0143\n",
      "Epoch 19/250\n",
      "10/10 [==============================] - 0s 7ms/step - loss: 0.0132 - val_loss: 0.0138\n",
      "Epoch 20/250\n",
      "10/10 [==============================] - 0s 7ms/step - loss: 0.0127 - val_loss: 0.0133\n",
      "Epoch 21/250\n",
      "10/10 [==============================] - 0s 7ms/step - loss: 0.0123 - val_loss: 0.0128\n",
      "Epoch 22/250\n",
      "10/10 [==============================] - 0s 5ms/step - loss: 0.0118 - val_loss: 0.0124\n",
      "Epoch 23/250\n",
      "10/10 [==============================] - 0s 8ms/step - loss: 0.0114 - val_loss: 0.0120\n",
      "Epoch 24/250\n",
      "10/10 [==============================] - 0s 7ms/step - loss: 0.0110 - val_loss: 0.0116\n",
      "Epoch 25/250\n",
      "10/10 [==============================] - 0s 7ms/step - loss: 0.0106 - val_loss: 0.0113\n",
      "Epoch 26/250\n",
      "10/10 [==============================] - 0s 7ms/step - loss: 0.0102 - val_loss: 0.0109\n",
      "Epoch 27/250\n",
      "10/10 [==============================] - 0s 7ms/step - loss: 0.0098 - val_loss: 0.0105\n",
      "Epoch 28/250\n",
      "10/10 [==============================] - 0s 6ms/step - loss: 0.0094 - val_loss: 0.0102\n",
      "Epoch 29/250\n",
      "10/10 [==============================] - 0s 6ms/step - loss: 0.0090 - val_loss: 0.0099\n",
      "Epoch 30/250\n",
      "10/10 [==============================] - 0s 6ms/step - loss: 0.0086 - val_loss: 0.0098\n",
      "Epoch 31/250\n",
      "10/10 [==============================] - 0s 6ms/step - loss: 0.0083 - val_loss: 0.0096\n",
      "Epoch 32/250\n",
      "10/10 [==============================] - 0s 5ms/step - loss: 0.0080 - val_loss: 0.0093\n",
      "Epoch 33/250\n",
      "10/10 [==============================] - 0s 8ms/step - loss: 0.0078 - val_loss: 0.0092\n",
      "Epoch 34/250\n",
      "10/10 [==============================] - 0s 8ms/step - loss: 0.0076 - val_loss: 0.0089\n",
      "Epoch 35/250\n",
      "10/10 [==============================] - 0s 7ms/step - loss: 0.0074 - val_loss: 0.0088\n",
      "Epoch 36/250\n",
      "10/10 [==============================] - 0s 7ms/step - loss: 0.0072 - val_loss: 0.0086\n",
      "Epoch 37/250\n",
      "10/10 [==============================] - 0s 8ms/step - loss: 0.0070 - val_loss: 0.0084\n",
      "Epoch 38/250\n",
      "10/10 [==============================] - 0s 7ms/step - loss: 0.0068 - val_loss: 0.0082\n",
      "Epoch 39/250\n",
      "10/10 [==============================] - 0s 8ms/step - loss: 0.0067 - val_loss: 0.0080\n",
      "Epoch 40/250\n",
      "10/10 [==============================] - 0s 7ms/step - loss: 0.0065 - val_loss: 0.0079\n",
      "Epoch 41/250\n",
      "10/10 [==============================] - 0s 8ms/step - loss: 0.0063 - val_loss: 0.0076\n",
      "Epoch 42/250\n",
      "10/10 [==============================] - 0s 8ms/step - loss: 0.0061 - val_loss: 0.0075\n",
      "Epoch 43/250\n",
      "10/10 [==============================] - 0s 7ms/step - loss: 0.0059 - val_loss: 0.0072\n",
      "Epoch 44/250\n",
      "10/10 [==============================] - 0s 9ms/step - loss: 0.0057 - val_loss: 0.0070\n",
      "Epoch 45/250\n",
      "10/10 [==============================] - 0s 8ms/step - loss: 0.0056 - val_loss: 0.0068\n",
      "Epoch 46/250\n",
      "10/10 [==============================] - 0s 9ms/step - loss: 0.0055 - val_loss: 0.0066\n",
      "Epoch 47/250\n",
      "10/10 [==============================] - 0s 6ms/step - loss: 0.0053 - val_loss: 0.0064\n",
      "Epoch 48/250\n",
      "10/10 [==============================] - 0s 7ms/step - loss: 0.0052 - val_loss: 0.0062\n",
      "Epoch 49/250\n",
      "10/10 [==============================] - 0s 9ms/step - loss: 0.0050 - val_loss: 0.0060\n",
      "Epoch 50/250\n",
      "10/10 [==============================] - 0s 8ms/step - loss: 0.0049 - val_loss: 0.0058\n",
      "Epoch 51/250\n",
      "10/10 [==============================] - 0s 8ms/step - loss: 0.0048 - val_loss: 0.0057\n",
      "Epoch 52/250\n",
      "10/10 [==============================] - 0s 7ms/step - loss: 0.0047 - val_loss: 0.0056\n",
      "Epoch 53/250\n",
      "10/10 [==============================] - 0s 9ms/step - loss: 0.0046 - val_loss: 0.0054\n",
      "Epoch 54/250\n",
      "10/10 [==============================] - 0s 7ms/step - loss: 0.0045 - val_loss: 0.0052\n",
      "Epoch 55/250\n",
      "10/10 [==============================] - 0s 6ms/step - loss: 0.0044 - val_loss: 0.0051\n",
      "Epoch 56/250\n",
      "10/10 [==============================] - 0s 9ms/step - loss: 0.0044 - val_loss: 0.0050\n",
      "Epoch 57/250\n",
      "10/10 [==============================] - 0s 7ms/step - loss: 0.0043 - val_loss: 0.0050\n",
      "Epoch 58/250\n",
      "10/10 [==============================] - 0s 5ms/step - loss: 0.0043 - val_loss: 0.0049\n",
      "Epoch 59/250\n",
      "10/10 [==============================] - 0s 7ms/step - loss: 0.0043 - val_loss: 0.0049\n",
      "Epoch 60/250\n",
      "10/10 [==============================] - 0s 7ms/step - loss: 0.0042 - val_loss: 0.0048\n",
      "Epoch 61/250\n",
      "10/10 [==============================] - 0s 7ms/step - loss: 0.0042 - val_loss: 0.0048\n",
      "Epoch 62/250\n",
      "10/10 [==============================] - 0s 7ms/step - loss: 0.0041 - val_loss: 0.0048\n",
      "Epoch 63/250\n",
      "10/10 [==============================] - 0s 7ms/step - loss: 0.0042 - val_loss: 0.0047\n",
      "Epoch 64/250\n",
      "10/10 [==============================] - 0s 7ms/step - loss: 0.0041 - val_loss: 0.0047\n",
      "Epoch 65/250\n",
      "10/10 [==============================] - 0s 7ms/step - loss: 0.0041 - val_loss: 0.0047\n",
      "Epoch 66/250\n",
      "10/10 [==============================] - 0s 7ms/step - loss: 0.0041 - val_loss: 0.0047\n",
      "Epoch 67/250\n",
      "10/10 [==============================] - 0s 6ms/step - loss: 0.0040 - val_loss: 0.0046\n",
      "Epoch 68/250\n",
      "10/10 [==============================] - 0s 6ms/step - loss: 0.0040 - val_loss: 0.0046\n",
      "Epoch 69/250\n",
      "10/10 [==============================] - 0s 6ms/step - loss: 0.0040 - val_loss: 0.0046\n",
      "Epoch 70/250\n",
      "10/10 [==============================] - 0s 7ms/step - loss: 0.0040 - val_loss: 0.0046\n",
      "Epoch 71/250\n",
      "10/10 [==============================] - 0s 6ms/step - loss: 0.0040 - val_loss: 0.0045\n",
      "Epoch 72/250\n",
      "10/10 [==============================] - 0s 5ms/step - loss: 0.0040 - val_loss: 0.0045\n",
      "Epoch 73/250\n",
      "10/10 [==============================] - 0s 8ms/step - loss: 0.0040 - val_loss: 0.0045\n",
      "Epoch 74/250\n",
      "10/10 [==============================] - 0s 5ms/step - loss: 0.0039 - val_loss: 0.0045\n",
      "Epoch 75/250\n",
      "10/10 [==============================] - 0s 7ms/step - loss: 0.0040 - val_loss: 0.0045\n",
      "Epoch 76/250\n",
      "10/10 [==============================] - 0s 6ms/step - loss: 0.0040 - val_loss: 0.0045\n",
      "Epoch 77/250\n",
      "10/10 [==============================] - 0s 7ms/step - loss: 0.0039 - val_loss: 0.0046\n",
      "Epoch 78/250\n",
      "10/10 [==============================] - 0s 5ms/step - loss: 0.0039 - val_loss: 0.0045\n",
      "Epoch 79/250\n",
      "10/10 [==============================] - 0s 6ms/step - loss: 0.0039 - val_loss: 0.0045\n",
      "Epoch 80/250\n",
      "10/10 [==============================] - 0s 5ms/step - loss: 0.0039 - val_loss: 0.0044\n",
      "Epoch 81/250\n",
      "10/10 [==============================] - 0s 4ms/step - loss: 0.0039 - val_loss: 0.0045\n",
      "Epoch 82/250\n",
      "10/10 [==============================] - 0s 6ms/step - loss: 0.0039 - val_loss: 0.0044\n",
      "Epoch 83/250\n"
     ]
    },
    {
     "name": "stdout",
     "output_type": "stream",
     "text": [
      "10/10 [==============================] - 0s 5ms/step - loss: 0.0039 - val_loss: 0.0044\n",
      "Epoch 84/250\n",
      "10/10 [==============================] - 0s 6ms/step - loss: 0.0039 - val_loss: 0.0044\n",
      "Epoch 85/250\n",
      "10/10 [==============================] - 0s 4ms/step - loss: 0.0038 - val_loss: 0.0044\n",
      "Epoch 86/250\n",
      "10/10 [==============================] - 0s 6ms/step - loss: 0.0038 - val_loss: 0.0044\n",
      "Epoch 87/250\n",
      "10/10 [==============================] - 0s 6ms/step - loss: 0.0039 - val_loss: 0.0044\n",
      "Epoch 88/250\n",
      "10/10 [==============================] - 0s 6ms/step - loss: 0.0038 - val_loss: 0.0045\n",
      "Epoch 89/250\n",
      "10/10 [==============================] - 0s 5ms/step - loss: 0.0039 - val_loss: 0.0044\n",
      "Epoch 90/250\n",
      "10/10 [==============================] - 0s 6ms/step - loss: 0.0038 - val_loss: 0.0044\n",
      "Epoch 91/250\n",
      "10/10 [==============================] - 0s 6ms/step - loss: 0.0039 - val_loss: 0.0044\n",
      "Epoch 92/250\n",
      "10/10 [==============================] - 0s 6ms/step - loss: 0.0039 - val_loss: 0.0043\n",
      "Epoch 93/250\n",
      "10/10 [==============================] - 0s 5ms/step - loss: 0.0039 - val_loss: 0.0044\n",
      "Epoch 94/250\n",
      "10/10 [==============================] - 0s 6ms/step - loss: 0.0038 - val_loss: 0.0043\n",
      "Epoch 95/250\n",
      "10/10 [==============================] - 0s 6ms/step - loss: 0.0038 - val_loss: 0.0043\n",
      "Epoch 96/250\n",
      "10/10 [==============================] - 0s 6ms/step - loss: 0.0038 - val_loss: 0.0043\n",
      "Epoch 97/250\n",
      "10/10 [==============================] - 0s 7ms/step - loss: 0.0038 - val_loss: 0.0043\n",
      "Epoch 98/250\n",
      "10/10 [==============================] - 0s 6ms/step - loss: 0.0038 - val_loss: 0.0043\n",
      "Epoch 99/250\n",
      "10/10 [==============================] - 0s 6ms/step - loss: 0.0038 - val_loss: 0.0043\n",
      "Epoch 100/250\n",
      "10/10 [==============================] - 0s 6ms/step - loss: 0.0038 - val_loss: 0.0043\n",
      "Epoch 101/250\n",
      "10/10 [==============================] - 0s 6ms/step - loss: 0.0038 - val_loss: 0.0043\n",
      "Epoch 102/250\n",
      "10/10 [==============================] - 0s 6ms/step - loss: 0.0038 - val_loss: 0.0043\n",
      "Epoch 103/250\n",
      "10/10 [==============================] - 0s 6ms/step - loss: 0.0038 - val_loss: 0.0043\n",
      "Epoch 104/250\n",
      "10/10 [==============================] - 0s 6ms/step - loss: 0.0038 - val_loss: 0.0043\n",
      "Epoch 105/250\n",
      "10/10 [==============================] - 0s 6ms/step - loss: 0.0037 - val_loss: 0.0043\n",
      "Epoch 106/250\n",
      "10/10 [==============================] - 0s 6ms/step - loss: 0.0037 - val_loss: 0.0042\n",
      "Epoch 107/250\n",
      "10/10 [==============================] - 0s 5ms/step - loss: 0.0038 - val_loss: 0.0042\n",
      "Epoch 108/250\n",
      "10/10 [==============================] - 0s 6ms/step - loss: 0.0037 - val_loss: 0.0043\n",
      "Epoch 109/250\n",
      "10/10 [==============================] - 0s 5ms/step - loss: 0.0038 - val_loss: 0.0042\n",
      "Epoch 110/250\n",
      "10/10 [==============================] - 0s 6ms/step - loss: 0.0037 - val_loss: 0.0043\n",
      "Epoch 111/250\n",
      "10/10 [==============================] - 0s 6ms/step - loss: 0.0037 - val_loss: 0.0042\n",
      "Epoch 112/250\n",
      "10/10 [==============================] - 0s 6ms/step - loss: 0.0037 - val_loss: 0.0042\n",
      "Epoch 113/250\n",
      "10/10 [==============================] - 0s 6ms/step - loss: 0.0037 - val_loss: 0.0042\n",
      "Epoch 114/250\n",
      "10/10 [==============================] - 0s 6ms/step - loss: 0.0037 - val_loss: 0.0043\n",
      "Epoch 115/250\n",
      "10/10 [==============================] - 0s 6ms/step - loss: 0.0037 - val_loss: 0.0042\n",
      "Epoch 116/250\n",
      "10/10 [==============================] - 0s 7ms/step - loss: 0.0037 - val_loss: 0.0042\n",
      "Epoch 117/250\n",
      "10/10 [==============================] - 0s 6ms/step - loss: 0.0037 - val_loss: 0.0042\n",
      "Epoch 118/250\n",
      "10/10 [==============================] - 0s 7ms/step - loss: 0.0037 - val_loss: 0.0042\n",
      "Epoch 119/250\n",
      "10/10 [==============================] - 0s 7ms/step - loss: 0.0037 - val_loss: 0.0042\n",
      "Epoch 120/250\n",
      "10/10 [==============================] - 0s 7ms/step - loss: 0.0037 - val_loss: 0.0042\n",
      "Epoch 121/250\n",
      "10/10 [==============================] - 0s 5ms/step - loss: 0.0037 - val_loss: 0.0042\n",
      "Epoch 122/250\n",
      "10/10 [==============================] - 0s 7ms/step - loss: 0.0037 - val_loss: 0.0042\n",
      "Epoch 123/250\n",
      "10/10 [==============================] - 0s 6ms/step - loss: 0.0037 - val_loss: 0.0042\n",
      "Epoch 124/250\n",
      "10/10 [==============================] - 0s 6ms/step - loss: 0.0037 - val_loss: 0.0042\n",
      "Epoch 125/250\n",
      "10/10 [==============================] - 0s 6ms/step - loss: 0.0037 - val_loss: 0.0042\n",
      "Epoch 126/250\n",
      "10/10 [==============================] - 0s 6ms/step - loss: 0.0037 - val_loss: 0.0042\n",
      "Epoch 127/250\n",
      "10/10 [==============================] - 0s 5ms/step - loss: 0.0037 - val_loss: 0.0042\n",
      "Epoch 128/250\n",
      "10/10 [==============================] - 0s 6ms/step - loss: 0.0037 - val_loss: 0.0041\n",
      "Epoch 129/250\n",
      "10/10 [==============================] - 0s 5ms/step - loss: 0.0037 - val_loss: 0.0042\n",
      "Epoch 130/250\n",
      "10/10 [==============================] - 0s 6ms/step - loss: 0.0037 - val_loss: 0.0041\n",
      "Epoch 131/250\n",
      "10/10 [==============================] - 0s 5ms/step - loss: 0.0036 - val_loss: 0.0041\n",
      "Epoch 132/250\n",
      "10/10 [==============================] - 0s 6ms/step - loss: 0.0037 - val_loss: 0.0041\n",
      "Epoch 133/250\n",
      "10/10 [==============================] - 0s 6ms/step - loss: 0.0037 - val_loss: 0.0041\n",
      "Epoch 134/250\n",
      "10/10 [==============================] - 0s 6ms/step - loss: 0.0037 - val_loss: 0.0042\n",
      "Epoch 135/250\n",
      "10/10 [==============================] - 0s 6ms/step - loss: 0.0037 - val_loss: 0.0041\n",
      "Epoch 136/250\n",
      "10/10 [==============================] - 0s 7ms/step - loss: 0.0037 - val_loss: 0.0041\n",
      "Epoch 137/250\n",
      "10/10 [==============================] - 0s 6ms/step - loss: 0.0036 - val_loss: 0.0041\n",
      "Epoch 138/250\n",
      "10/10 [==============================] - 0s 6ms/step - loss: 0.0036 - val_loss: 0.0041\n",
      "Epoch 139/250\n",
      "10/10 [==============================] - 0s 5ms/step - loss: 0.0036 - val_loss: 0.0041\n",
      "Epoch 140/250\n",
      "10/10 [==============================] - 0s 6ms/step - loss: 0.0036 - val_loss: 0.0041\n",
      "Epoch 141/250\n",
      "10/10 [==============================] - 0s 6ms/step - loss: 0.0037 - val_loss: 0.0041\n",
      "Epoch 142/250\n",
      "10/10 [==============================] - 0s 6ms/step - loss: 0.0038 - val_loss: 0.0041\n",
      "Epoch 143/250\n",
      "10/10 [==============================] - 0s 6ms/step - loss: 0.0037 - val_loss: 0.0041\n",
      "Epoch 144/250\n",
      "10/10 [==============================] - 0s 7ms/step - loss: 0.0036 - val_loss: 0.0041\n",
      "Epoch 145/250\n",
      "10/10 [==============================] - 0s 6ms/step - loss: 0.0037 - val_loss: 0.0041\n",
      "Epoch 146/250\n",
      "10/10 [==============================] - 0s 6ms/step - loss: 0.0037 - val_loss: 0.0041\n",
      "Epoch 147/250\n",
      "10/10 [==============================] - 0s 6ms/step - loss: 0.0037 - val_loss: 0.0041\n",
      "Epoch 148/250\n",
      "10/10 [==============================] - 0s 6ms/step - loss: 0.0036 - val_loss: 0.0041\n",
      "Epoch 149/250\n",
      "10/10 [==============================] - 0s 6ms/step - loss: 0.0036 - val_loss: 0.0041\n",
      "Epoch 150/250\n",
      "10/10 [==============================] - 0s 5ms/step - loss: 0.0037 - val_loss: 0.0041\n",
      "Epoch 151/250\n",
      "10/10 [==============================] - 0s 6ms/step - loss: 0.0036 - val_loss: 0.0041\n",
      "Epoch 152/250\n",
      "10/10 [==============================] - 0s 6ms/step - loss: 0.0036 - val_loss: 0.0040\n",
      "Epoch 153/250\n",
      "10/10 [==============================] - 0s 6ms/step - loss: 0.0036 - val_loss: 0.0040\n",
      "Epoch 154/250\n",
      "10/10 [==============================] - 0s 5ms/step - loss: 0.0036 - val_loss: 0.0040\n",
      "Epoch 155/250\n",
      "10/10 [==============================] - 0s 6ms/step - loss: 0.0036 - val_loss: 0.0040\n",
      "Epoch 156/250\n",
      "10/10 [==============================] - 0s 6ms/step - loss: 0.0036 - val_loss: 0.0040\n",
      "Epoch 157/250\n",
      "10/10 [==============================] - 0s 6ms/step - loss: 0.0036 - val_loss: 0.0040\n",
      "Epoch 158/250\n",
      "10/10 [==============================] - 0s 7ms/step - loss: 0.0036 - val_loss: 0.0040\n",
      "Epoch 159/250\n",
      "10/10 [==============================] - 0s 6ms/step - loss: 0.0036 - val_loss: 0.0040\n",
      "Epoch 160/250\n",
      "10/10 [==============================] - 0s 7ms/step - loss: 0.0036 - val_loss: 0.0040\n",
      "Epoch 161/250\n",
      "10/10 [==============================] - 0s 6ms/step - loss: 0.0036 - val_loss: 0.0040\n",
      "Epoch 162/250\n",
      "10/10 [==============================] - 0s 5ms/step - loss: 0.0036 - val_loss: 0.0040\n",
      "Epoch 163/250\n",
      "10/10 [==============================] - 0s 7ms/step - loss: 0.0036 - val_loss: 0.0040\n",
      "Epoch 164/250\n",
      "10/10 [==============================] - 0s 5ms/step - loss: 0.0036 - val_loss: 0.0040\n",
      "Epoch 165/250\n",
      "10/10 [==============================] - 0s 6ms/step - loss: 0.0036 - val_loss: 0.0040\n",
      "Epoch 166/250\n",
      "10/10 [==============================] - 0s 6ms/step - loss: 0.0036 - val_loss: 0.0040\n",
      "Epoch 167/250\n",
      "10/10 [==============================] - 0s 5ms/step - loss: 0.0036 - val_loss: 0.0040\n",
      "Epoch 168/250\n",
      "10/10 [==============================] - 0s 6ms/step - loss: 0.0036 - val_loss: 0.0040\n",
      "Epoch 169/250\n",
      "10/10 [==============================] - 0s 6ms/step - loss: 0.0036 - val_loss: 0.0040\n",
      "Epoch 170/250\n",
      "10/10 [==============================] - 0s 6ms/step - loss: 0.0035 - val_loss: 0.0040\n",
      "Epoch 171/250\n",
      "10/10 [==============================] - 0s 6ms/step - loss: 0.0036 - val_loss: 0.0040\n",
      "Epoch 172/250\n",
      "10/10 [==============================] - 0s 6ms/step - loss: 0.0036 - val_loss: 0.0040\n",
      "Epoch 173/250\n",
      "10/10 [==============================] - 0s 8ms/step - loss: 0.0035 - val_loss: 0.0040\n",
      "Epoch 174/250\n",
      "10/10 [==============================] - 0s 6ms/step - loss: 0.0036 - val_loss: 0.0040\n",
      "Epoch 175/250\n",
      "10/10 [==============================] - 0s 6ms/step - loss: 0.0036 - val_loss: 0.0040\n",
      "Epoch 176/250\n",
      "10/10 [==============================] - 0s 5ms/step - loss: 0.0036 - val_loss: 0.0040\n",
      "Epoch 177/250\n",
      "10/10 [==============================] - 0s 6ms/step - loss: 0.0036 - val_loss: 0.0039\n",
      "Epoch 178/250\n",
      "10/10 [==============================] - 0s 6ms/step - loss: 0.0035 - val_loss: 0.0040\n",
      "Epoch 179/250\n",
      "10/10 [==============================] - 0s 6ms/step - loss: 0.0035 - val_loss: 0.0039\n",
      "Epoch 180/250\n",
      "10/10 [==============================] - 0s 7ms/step - loss: 0.0035 - val_loss: 0.0039\n",
      "Epoch 181/250\n",
      "10/10 [==============================] - 0s 6ms/step - loss: 0.0035 - val_loss: 0.0039\n",
      "Epoch 182/250\n",
      "10/10 [==============================] - 0s 6ms/step - loss: 0.0035 - val_loss: 0.0039\n",
      "Epoch 183/250\n",
      "10/10 [==============================] - 0s 6ms/step - loss: 0.0035 - val_loss: 0.0039\n",
      "Epoch 184/250\n",
      "10/10 [==============================] - 0s 6ms/step - loss: 0.0035 - val_loss: 0.0039\n",
      "Epoch 185/250\n",
      "10/10 [==============================] - 0s 6ms/step - loss: 0.0035 - val_loss: 0.0039\n",
      "Epoch 186/250\n",
      "10/10 [==============================] - 0s 6ms/step - loss: 0.0035 - val_loss: 0.0039\n",
      "Epoch 187/250\n",
      "10/10 [==============================] - 0s 6ms/step - loss: 0.0035 - val_loss: 0.0039\n",
      "Epoch 188/250\n",
      "10/10 [==============================] - 0s 5ms/step - loss: 0.0035 - val_loss: 0.0039\n",
      "Epoch 189/250\n",
      "10/10 [==============================] - 0s 4ms/step - loss: 0.0035 - val_loss: 0.0039\n",
      "Epoch 190/250\n",
      "10/10 [==============================] - 0s 6ms/step - loss: 0.0036 - val_loss: 0.0039\n",
      "Epoch 191/250\n",
      "10/10 [==============================] - 0s 5ms/step - loss: 0.0036 - val_loss: 0.0039\n",
      "Epoch 192/250\n",
      "10/10 [==============================] - 0s 5ms/step - loss: 0.0035 - val_loss: 0.0039\n",
      "Epoch 193/250\n",
      "10/10 [==============================] - 0s 6ms/step - loss: 0.0035 - val_loss: 0.0039\n",
      "Epoch 194/250\n",
      "10/10 [==============================] - 0s 5ms/step - loss: 0.0036 - val_loss: 0.0040\n",
      "Epoch 195/250\n",
      "10/10 [==============================] - 0s 6ms/step - loss: 0.0035 - val_loss: 0.0039\n",
      "Epoch 196/250\n",
      "10/10 [==============================] - 0s 6ms/step - loss: 0.0035 - val_loss: 0.0039\n",
      "Epoch 197/250\n",
      "10/10 [==============================] - 0s 5ms/step - loss: 0.0035 - val_loss: 0.0039\n",
      "Epoch 198/250\n",
      "10/10 [==============================] - 0s 6ms/step - loss: 0.0035 - val_loss: 0.0039\n",
      "Epoch 199/250\n",
      "10/10 [==============================] - 0s 6ms/step - loss: 0.0035 - val_loss: 0.0039\n",
      "Epoch 200/250\n",
      "10/10 [==============================] - 0s 5ms/step - loss: 0.0035 - val_loss: 0.0039\n",
      "Epoch 201/250\n",
      "10/10 [==============================] - 0s 6ms/step - loss: 0.0035 - val_loss: 0.0039\n",
      "Epoch 202/250\n",
      "10/10 [==============================] - 0s 6ms/step - loss: 0.0035 - val_loss: 0.0039\n",
      "Epoch 203/250\n",
      "10/10 [==============================] - 0s 5ms/step - loss: 0.0035 - val_loss: 0.0039\n",
      "Epoch 204/250\n",
      "10/10 [==============================] - 0s 5ms/step - loss: 0.0035 - val_loss: 0.0039\n",
      "Epoch 205/250\n",
      "10/10 [==============================] - 0s 4ms/step - loss: 0.0035 - val_loss: 0.0039\n",
      "Epoch 206/250\n",
      "10/10 [==============================] - 0s 5ms/step - loss: 0.0035 - val_loss: 0.0039\n",
      "Epoch 207/250\n",
      "10/10 [==============================] - 0s 6ms/step - loss: 0.0035 - val_loss: 0.0039\n",
      "Epoch 208/250\n",
      "10/10 [==============================] - 0s 6ms/step - loss: 0.0035 - val_loss: 0.0039\n",
      "Epoch 209/250\n",
      "10/10 [==============================] - 0s 5ms/step - loss: 0.0037 - val_loss: 0.0039\n",
      "Epoch 210/250\n",
      "10/10 [==============================] - 0s 5ms/step - loss: 0.0036 - val_loss: 0.0039\n",
      "Epoch 211/250\n",
      "10/10 [==============================] - 0s 6ms/step - loss: 0.0035 - val_loss: 0.0039\n",
      "Epoch 212/250\n",
      "10/10 [==============================] - 0s 6ms/step - loss: 0.0035 - val_loss: 0.0039\n",
      "Epoch 213/250\n",
      "10/10 [==============================] - 0s 5ms/step - loss: 0.0035 - val_loss: 0.0039\n",
      "Epoch 214/250\n",
      "10/10 [==============================] - 0s 6ms/step - loss: 0.0035 - val_loss: 0.0039\n",
      "Epoch 215/250\n",
      "10/10 [==============================] - 0s 6ms/step - loss: 0.0035 - val_loss: 0.0039\n",
      "Epoch 216/250\n",
      "10/10 [==============================] - 0s 6ms/step - loss: 0.0035 - val_loss: 0.0039\n",
      "Epoch 217/250\n",
      "10/10 [==============================] - 0s 5ms/step - loss: 0.0035 - val_loss: 0.0039\n",
      "Epoch 218/250\n",
      "10/10 [==============================] - 0s 6ms/step - loss: 0.0035 - val_loss: 0.0039\n",
      "Epoch 219/250\n",
      "10/10 [==============================] - 0s 6ms/step - loss: 0.0035 - val_loss: 0.0039\n",
      "Epoch 220/250\n",
      "10/10 [==============================] - 0s 6ms/step - loss: 0.0035 - val_loss: 0.0039\n",
      "Epoch 221/250\n",
      "10/10 [==============================] - 0s 6ms/step - loss: 0.0035 - val_loss: 0.0038\n",
      "Epoch 222/250\n",
      "10/10 [==============================] - 0s 6ms/step - loss: 0.0035 - val_loss: 0.0038\n",
      "Epoch 223/250\n",
      "10/10 [==============================] - 0s 5ms/step - loss: 0.0034 - val_loss: 0.0039\n",
      "Epoch 224/250\n",
      "10/10 [==============================] - 0s 6ms/step - loss: 0.0034 - val_loss: 0.0039\n",
      "Epoch 225/250\n",
      "10/10 [==============================] - 0s 7ms/step - loss: 0.0035 - val_loss: 0.0038\n",
      "Epoch 226/250\n",
      "10/10 [==============================] - 0s 5ms/step - loss: 0.0035 - val_loss: 0.0039\n",
      "Epoch 227/250\n",
      "10/10 [==============================] - 0s 5ms/step - loss: 0.0035 - val_loss: 0.0039\n",
      "Epoch 228/250\n",
      "10/10 [==============================] - 0s 5ms/step - loss: 0.0035 - val_loss: 0.0038\n",
      "Epoch 229/250\n",
      "10/10 [==============================] - 0s 7ms/step - loss: 0.0035 - val_loss: 0.0038\n",
      "Epoch 230/250\n",
      "10/10 [==============================] - 0s 5ms/step - loss: 0.0035 - val_loss: 0.0038\n",
      "Epoch 231/250\n",
      "10/10 [==============================] - 0s 7ms/step - loss: 0.0034 - val_loss: 0.0038\n",
      "Epoch 232/250\n",
      "10/10 [==============================] - 0s 6ms/step - loss: 0.0034 - val_loss: 0.0038\n",
      "Epoch 233/250\n",
      "10/10 [==============================] - 0s 7ms/step - loss: 0.0035 - val_loss: 0.0038\n",
      "Epoch 234/250\n",
      "10/10 [==============================] - 0s 6ms/step - loss: 0.0035 - val_loss: 0.0038\n",
      "Epoch 235/250\n",
      "10/10 [==============================] - 0s 5ms/step - loss: 0.0034 - val_loss: 0.0038\n",
      "Epoch 236/250\n",
      "10/10 [==============================] - 0s 6ms/step - loss: 0.0034 - val_loss: 0.0038\n",
      "Epoch 237/250\n",
      "10/10 [==============================] - 0s 4ms/step - loss: 0.0034 - val_loss: 0.0038\n",
      "Epoch 238/250\n",
      "10/10 [==============================] - 0s 6ms/step - loss: 0.0034 - val_loss: 0.0038\n",
      "Epoch 239/250\n",
      "10/10 [==============================] - 0s 5ms/step - loss: 0.0034 - val_loss: 0.0038\n",
      "Epoch 240/250\n",
      "10/10 [==============================] - 0s 8ms/step - loss: 0.0034 - val_loss: 0.0038\n",
      "Epoch 241/250\n",
      "10/10 [==============================] - 0s 5ms/step - loss: 0.0034 - val_loss: 0.0038\n",
      "Epoch 242/250\n",
      "10/10 [==============================] - 0s 5ms/step - loss: 0.0034 - val_loss: 0.0038\n",
      "Epoch 243/250\n",
      "10/10 [==============================] - 0s 7ms/step - loss: 0.0034 - val_loss: 0.0038\n",
      "Epoch 244/250\n",
      "10/10 [==============================] - 0s 6ms/step - loss: 0.0034 - val_loss: 0.0038\n",
      "Epoch 245/250\n"
     ]
    },
    {
     "name": "stdout",
     "output_type": "stream",
     "text": [
      "10/10 [==============================] - 0s 6ms/step - loss: 0.0034 - val_loss: 0.0038\n",
      "Epoch 246/250\n",
      "10/10 [==============================] - 0s 5ms/step - loss: 0.0034 - val_loss: 0.0038\n",
      "Epoch 247/250\n",
      "10/10 [==============================] - 0s 5ms/step - loss: 0.0034 - val_loss: 0.0038\n",
      "Epoch 248/250\n",
      "10/10 [==============================] - 0s 6ms/step - loss: 0.0034 - val_loss: 0.0038\n",
      "Epoch 249/250\n",
      "10/10 [==============================] - 0s 6ms/step - loss: 0.0034 - val_loss: 0.0038\n",
      "Epoch 250/250\n",
      "10/10 [==============================] - 0s 5ms/step - loss: 0.0034 - val_loss: 0.0038\n"
     ]
    }
   ],
   "source": [
    "# Training the model\n",
    "history = ann_model.fit(X_train, y_train, epochs = 250, validation_split = 0.2)"
   ]
  },
  {
   "cell_type": "code",
   "execution_count": 426,
   "id": "38e00b66",
   "metadata": {},
   "outputs": [
    {
     "name": "stdout",
     "output_type": "stream",
     "text": [
      "4/4 [==============================] - 0s 2ms/step\n"
     ]
    }
   ],
   "source": [
    "# Predicting the result for the model\n",
    "y_pred_ann = ann_model.predict(X_test)"
   ]
  },
  {
   "cell_type": "code",
   "execution_count": 430,
   "id": "ac164c6f",
   "metadata": {},
   "outputs": [
    {
     "name": "stdout",
     "output_type": "stream",
     "text": [
      "Accuracy of ANN Model : 81.2685847327153 %\n"
     ]
    }
   ],
   "source": [
    "# Calculating accuracies of the model\n",
    "accuracy_ann = metrics.r2_score(y_test, y_pred_ann) * 100\n",
    "print(f'Accuracy of ANN Model : {accuracy_ann} %')"
   ]
  },
  {
   "cell_type": "code",
   "execution_count": 759,
   "id": "fe684007",
   "metadata": {},
   "outputs": [
    {
     "data": {
      "text/plain": [
       "<matplotlib.legend.Legend at 0x18755ac44c0>"
      ]
     },
     "execution_count": 759,
     "metadata": {},
     "output_type": "execute_result"
    },
    {
     "data": {
      "image/png": "[encoded data removed]",
      "text/plain": [
       "<Figure size 640x480 with 1 Axes>"
      ]
     },
     "metadata": {},
     "output_type": "display_data"
    }
   ],
   "source": [
    "plt.plot(history.history['loss'])\n",
    "plt.plot(history.history['val_loss'])\n",
    "plt.title('ANN Model Loss')\n",
    "plt.ylabel('Loss')\n",
    "plt.xlabel('Epoch')\n",
    "plt.legend(['Train', 'Test'], loc='upper right')\n",
    "\n",
    "# Comments on Result : Both Training loss and validation loss are very similar so training and testing accuracies will also be same."
   ]
  },
  {
   "cell_type": "markdown",
   "id": "2dc95730",
   "metadata": {},
   "source": [
    "## Comparision of Regression Model Accuracies"
   ]
  },
  {
   "cell_type": "code",
   "execution_count": 868,
   "id": "c075c243",
   "metadata": {},
   "outputs": [
    {
     "data": {
      "text/html": [
       "<div>\n",
       "<style scoped>\n",
       "    .dataframe tbody tr th:only-of-type {\n",
       "        vertical-align: middle;\n",
       "    }\n",
       "\n",
       "    .dataframe tbody tr th {\n",
       "        vertical-align: top;\n",
       "    }\n",
       "\n",
       "    .dataframe thead th {\n",
       "        text-align: right;\n",
       "    }\n",
       "</style>\n",
       "<table border=\"1\" class=\"dataframe\">\n",
       "  <thead>\n",
       "    <tr style=\"text-align: right;\">\n",
       "      <th></th>\n",
       "      <th>Regression Models</th>\n",
       "      <th>Accuracies</th>\n",
       "    </tr>\n",
       "  </thead>\n",
       "  <tbody>\n",
       "    <tr>\n",
       "      <th>0</th>\n",
       "      <td>Linear</td>\n",
       "      <td>82.087417</td>\n",
       "    </tr>\n",
       "    <tr>\n",
       "      <th>1</th>\n",
       "      <td>SVR</td>\n",
       "      <td>74.719868</td>\n",
       "    </tr>\n",
       "    <tr>\n",
       "      <th>2</th>\n",
       "      <td>RFR</td>\n",
       "      <td>77.161241</td>\n",
       "    </tr>\n",
       "    <tr>\n",
       "      <th>3</th>\n",
       "      <td>GBR</td>\n",
       "      <td>78.696357</td>\n",
       "    </tr>\n",
       "    <tr>\n",
       "      <th>4</th>\n",
       "      <td>ANN</td>\n",
       "      <td>81.268585</td>\n",
       "    </tr>\n",
       "  </tbody>\n",
       "</table>\n",
       "</div>"
      ],
      "text/plain": [
       "  Regression Models  Accuracies\n",
       "0            Linear   82.087417\n",
       "1               SVR   74.719868\n",
       "2               RFR   77.161241\n",
       "3               GBR   78.696357\n",
       "4               ANN   81.268585"
      ]
     },
     "execution_count": 868,
     "metadata": {},
     "output_type": "execute_result"
    }
   ],
   "source": [
    "results_regression = pd.DataFrame({'Regression Models' : ['Linear','SVR','RFR', 'GBR', 'ANN'],\n",
    "                                  'Accuracies' : [accuracy_lr, accuracy_svr, accuracy_rfr, accuracy_gbr, accuracy_ann]})\n",
    "results_regression"
   ]
  },
  {
   "cell_type": "code",
   "execution_count": 869,
   "id": "4af613af",
   "metadata": {},
   "outputs": [
    {
     "data": {
      "image/png": "[encoded data removed]",
      "text/plain": [
       "<Figure size 640x480 with 1 Axes>"
      ]
     },
     "metadata": {},
     "output_type": "display_data"
    }
   ],
   "source": [
    "with sns.color_palette(\"pastel\"):\n",
    "    sns.barplot(x = results_regression['Regression Models'], y = results_regression['Accuracies'])"
   ]
  },
  {
   "cell_type": "markdown",
   "id": "78fcd99e",
   "metadata": {},
   "source": [
    "# Classification Models\n",
    "## Preprocessing for Classification"
   ]
  },
  {
   "cell_type": "code",
   "execution_count": 662,
   "id": "e28e8bec",
   "metadata": {},
   "outputs": [
    {
     "data": {
      "text/plain": [
       "238     Low\n",
       "438     Low\n",
       "475     Low\n",
       "58      Low\n",
       "380     Low\n",
       "       ... \n",
       "255     Low\n",
       "72     High\n",
       "396    High\n",
       "235    High\n",
       "37      Low\n",
       "Name: Chance of Admit , Length: 400, dtype: category\n",
       "Categories (2, object): ['Low' < 'High']"
      ]
     },
     "execution_count": 662,
     "metadata": {},
     "output_type": "execute_result"
    }
   ],
   "source": [
    "# Prediction using Classification Problems\n",
    "\n",
    "# Converting Target continuous variables from training dataset into categorical variables\n",
    "y_train_cl = pd.cut(y_train, bins=[0,0.8,1.0], labels = ['Low', 'High'])\n",
    "y_train_cl"
   ]
  },
  {
   "cell_type": "code",
   "execution_count": 663,
   "id": "605d0815",
   "metadata": {},
   "outputs": [
    {
     "data": {
      "text/plain": [
       "304     Low\n",
       "340     Low\n",
       "47     High\n",
       "67      Low\n",
       "479     Low\n",
       "       ... \n",
       "11     High\n",
       "192    High\n",
       "92      Low\n",
       "221     Low\n",
       "110     Low\n",
       "Name: Chance of Admit , Length: 100, dtype: category\n",
       "Categories (2, object): ['Low' < 'High']"
      ]
     },
     "execution_count": 663,
     "metadata": {},
     "output_type": "execute_result"
    }
   ],
   "source": [
    "# Converting Target continuous variables from testing dataset into categorical variables\n",
    "y_test_cl = pd.cut(y_test, bins=[0,0.8,1.0], labels = ['Low', 'High'])\n",
    "y_test_cl"
   ]
  },
  {
   "cell_type": "code",
   "execution_count": 664,
   "id": "6d18a56f",
   "metadata": {},
   "outputs": [
    {
     "data": {
      "text/plain": [
       "Low     286\n",
       "High    114\n",
       "Name: Chance of Admit , dtype: int64"
      ]
     },
     "execution_count": 664,
     "metadata": {},
     "output_type": "execute_result"
    }
   ],
   "source": [
    "y_train_cl.value_counts()\n",
    "# Comments on Results : Now We have only 3 classes in target variable as below"
   ]
  },
  {
   "cell_type": "code",
   "execution_count": 665,
   "id": "e3540cf6",
   "metadata": {},
   "outputs": [
    {
     "data": {
      "text/plain": [
       "Low     72\n",
       "High    28\n",
       "Name: Chance of Admit , dtype: int64"
      ]
     },
     "execution_count": 665,
     "metadata": {},
     "output_type": "execute_result"
    }
   ],
   "source": [
    "y_test_cl.value_counts()\n",
    "# Comments on Results : Now We have only 3 classes in target variable as below"
   ]
  },
  {
   "cell_type": "code",
   "execution_count": 666,
   "id": "887ae642",
   "metadata": {},
   "outputs": [
    {
     "data": {
      "text/plain": [
       "array(['Low', 'Low', 'Low', 'Low', 'Low', 'Low', 'Low', 'Low', 'Low',\n",
       "       'Low', 'Low', 'High', 'High', 'Low', 'Low', 'Low', 'Low', 'Low',\n",
       "       'Low', 'Low', 'High', 'Low', 'Low', 'High', 'Low', 'Low', 'High',\n",
       "       'Low', 'Low', 'High', 'Low', 'Low', 'High', 'High', 'High', 'High',\n",
       "       'High', 'Low', 'Low', 'Low', 'Low', 'High', 'Low', 'Low', 'Low',\n",
       "       'Low', 'Low', 'Low', 'Low', 'High', 'Low', 'Low', 'High', 'Low',\n",
       "       'High', 'Low', 'Low', 'High', 'High', 'Low', 'Low', 'Low', 'Low',\n",
       "       'Low', 'Low', 'Low', 'Low', 'High', 'Low', 'High', 'Low', 'Low',\n",
       "       'Low', 'High', 'High', 'High', 'Low', 'Low', 'High', 'Low', 'Low',\n",
       "       'Low', 'Low', 'Low', 'Low', 'Low', 'Low', 'High', 'Low', 'Low',\n",
       "       'Low', 'High', 'High', 'Low', 'Low', 'Low', 'High', 'Low', 'Low',\n",
       "       'Low', 'Low', 'High', 'Low', 'Low', 'Low', 'Low', 'Low', 'Low',\n",
       "       'High', 'Low', 'High', 'Low', 'High', 'High', 'Low', 'Low', 'Low',\n",
       "       'Low', 'Low', 'Low', 'Low', 'Low', 'Low', 'High', 'Low', 'Low',\n",
       "       'Low', 'Low', 'High', 'Low', 'High', 'High', 'Low', 'Low', 'Low',\n",
       "       'Low', 'High', 'Low', 'Low', 'Low', 'Low', 'Low', 'Low', 'High',\n",
       "       'High', 'High', 'High', 'Low', 'Low', 'High', 'Low', 'High', 'Low',\n",
       "       'Low', 'High', 'Low', 'Low', 'Low', 'Low', 'High', 'Low', 'Low',\n",
       "       'High', 'Low', 'Low', 'Low', 'High', 'Low', 'Low', 'Low', 'Low',\n",
       "       'Low', 'Low', 'Low', 'Low', 'High', 'Low', 'Low', 'High', 'High',\n",
       "       'Low', 'Low', 'Low', 'High', 'Low', 'High', 'Low', 'Low', 'Low',\n",
       "       'Low', 'Low', 'High', 'High', 'Low', 'Low', 'Low', 'Low', 'High',\n",
       "       'Low', 'Low', 'High', 'High', 'Low', 'High', 'Low', 'High', 'Low',\n",
       "       'High', 'Low', 'High', 'Low', 'High', 'Low', 'Low', 'Low', 'Low',\n",
       "       'Low', 'Low', 'High', 'Low', 'Low', 'High', 'Low', 'Low', 'High',\n",
       "       'High', 'High', 'Low', 'Low', 'High', 'Low', 'Low', 'High', 'Low',\n",
       "       'Low', 'Low', 'High', 'Low', 'Low', 'Low', 'Low', 'Low', 'High',\n",
       "       'Low', 'High', 'Low', 'Low', 'Low', 'Low', 'Low', 'Low', 'Low',\n",
       "       'Low', 'High', 'Low', 'High', 'Low', 'Low', 'Low', 'High', 'High',\n",
       "       'High', 'High', 'High', 'High', 'Low', 'Low', 'Low', 'Low', 'Low',\n",
       "       'Low', 'Low', 'Low', 'Low', 'High', 'Low', 'Low', 'Low', 'Low',\n",
       "       'Low', 'Low', 'Low', 'Low', 'Low', 'Low', 'Low', 'Low', 'Low',\n",
       "       'Low', 'Low', 'High', 'Low', 'High', 'Low', 'Low', 'Low', 'Low',\n",
       "       'High', 'Low', 'Low', 'High', 'Low', 'Low', 'Low', 'Low', 'Low',\n",
       "       'Low', 'High', 'Low', 'Low', 'High', 'Low', 'Low', 'High', 'High',\n",
       "       'Low', 'Low', 'Low', 'Low', 'High', 'Low', 'Low', 'Low', 'Low',\n",
       "       'Low', 'High', 'Low', 'Low', 'Low', 'High', 'Low', 'Low', 'Low',\n",
       "       'High', 'High', 'Low', 'Low', 'Low', 'Low', 'Low', 'High', 'Low',\n",
       "       'Low', 'High', 'Low', 'Low', 'Low', 'Low', 'Low', 'High', 'Low',\n",
       "       'Low', 'Low', 'High', 'Low', 'Low', 'Low', 'High', 'Low', 'Low',\n",
       "       'High', 'Low', 'Low', 'Low', 'Low', 'High', 'Low', 'Low', 'Low',\n",
       "       'High', 'Low', 'Low', 'Low', 'Low', 'Low', 'Low', 'High', 'High',\n",
       "       'Low', 'Low', 'High', 'High', 'Low', 'Low', 'Low', 'High', 'High',\n",
       "       'Low', 'High', 'Low', 'Low', 'High', 'Low', 'High', 'Low', 'Low',\n",
       "       'High', 'High', 'High', 'Low'], dtype=object)"
      ]
     },
     "execution_count": 666,
     "metadata": {},
     "output_type": "execute_result"
    }
   ],
   "source": [
    "np.array(y_train_cl)"
   ]
  },
  {
   "cell_type": "code",
   "execution_count": 667,
   "id": "59839836",
   "metadata": {},
   "outputs": [
    {
     "data": {
      "text/plain": [
       "array(['Low', 'Low', 'High', 'Low', 'Low', 'Low', 'Low', 'Low', 'Low',\n",
       "       'Low', 'Low', 'Low', 'Low', 'Low', 'Low', 'High', 'Low', 'Low',\n",
       "       'High', 'Low', 'Low', 'Low', 'High', 'Low', 'Low', 'Low', 'High',\n",
       "       'Low', 'High', 'Low', 'Low', 'Low', 'Low', 'High', 'Low', 'High',\n",
       "       'Low', 'Low', 'Low', 'High', 'Low', 'Low', 'Low', 'High', 'Low',\n",
       "       'Low', 'Low', 'Low', 'Low', 'Low', 'High', 'High', 'High', 'Low',\n",
       "       'Low', 'Low', 'Low', 'Low', 'Low', 'Low', 'Low', 'Low', 'Low',\n",
       "       'High', 'High', 'Low', 'Low', 'High', 'High', 'Low', 'Low', 'Low',\n",
       "       'High', 'Low', 'High', 'Low', 'High', 'High', 'Low', 'High',\n",
       "       'High', 'Low', 'High', 'Low', 'Low', 'Low', 'High', 'High', 'Low',\n",
       "       'Low', 'Low', 'Low', 'Low', 'Low', 'Low', 'High', 'High', 'Low',\n",
       "       'Low', 'Low'], dtype=object)"
      ]
     },
     "execution_count": 667,
     "metadata": {},
     "output_type": "execute_result"
    }
   ],
   "source": [
    "np.array(y_test_cl)"
   ]
  },
  {
   "cell_type": "markdown",
   "id": "fdaadacc",
   "metadata": {},
   "source": [
    "## 1. Classification using K-Nearest Neighbor "
   ]
  },
  {
   "cell_type": "code",
   "execution_count": 731,
   "id": "5fb9d222",
   "metadata": {},
   "outputs": [
    {
     "name": "stderr",
     "output_type": "stream",
     "text": [
      "C:\\Users\\Hp\\anaconda3\\lib\\site-packages\\sklearn\\neighbors\\_classification.py:228: FutureWarning: Unlike other reduction functions (e.g. `skew`, `kurtosis`), the default behavior of `mode` typically preserves the axis it acts along. In SciPy 1.11.0, this behavior will change: the default value of `keepdims` will become False, the `axis` over which the statistic is taken will be eliminated, and the value None will no longer be accepted. Set `keepdims` to True or False to avoid this warning.\n",
      "  mode, _ = stats.mode(_y[neigh_ind, k], axis=1)\n",
      "C:\\Users\\Hp\\anaconda3\\lib\\site-packages\\sklearn\\neighbors\\_classification.py:228: FutureWarning: Unlike other reduction functions (e.g. `skew`, `kurtosis`), the default behavior of `mode` typically preserves the axis it acts along. In SciPy 1.11.0, this behavior will change: the default value of `keepdims` will become False, the `axis` over which the statistic is taken will be eliminated, and the value None will no longer be accepted. Set `keepdims` to True or False to avoid this warning.\n",
      "  mode, _ = stats.mode(_y[neigh_ind, k], axis=1)\n",
      "C:\\Users\\Hp\\anaconda3\\lib\\site-packages\\sklearn\\neighbors\\_classification.py:228: FutureWarning: Unlike other reduction functions (e.g. `skew`, `kurtosis`), the default behavior of `mode` typically preserves the axis it acts along. In SciPy 1.11.0, this behavior will change: the default value of `keepdims` will become False, the `axis` over which the statistic is taken will be eliminated, and the value None will no longer be accepted. Set `keepdims` to True or False to avoid this warning.\n",
      "  mode, _ = stats.mode(_y[neigh_ind, k], axis=1)\n",
      "C:\\Users\\Hp\\anaconda3\\lib\\site-packages\\sklearn\\neighbors\\_classification.py:228: FutureWarning: Unlike other reduction functions (e.g. `skew`, `kurtosis`), the default behavior of `mode` typically preserves the axis it acts along. In SciPy 1.11.0, this behavior will change: the default value of `keepdims` will become False, the `axis` over which the statistic is taken will be eliminated, and the value None will no longer be accepted. Set `keepdims` to True or False to avoid this warning.\n",
      "  mode, _ = stats.mode(_y[neigh_ind, k], axis=1)\n",
      "C:\\Users\\Hp\\anaconda3\\lib\\site-packages\\sklearn\\neighbors\\_classification.py:228: FutureWarning: Unlike other reduction functions (e.g. `skew`, `kurtosis`), the default behavior of `mode` typically preserves the axis it acts along. In SciPy 1.11.0, this behavior will change: the default value of `keepdims` will become False, the `axis` over which the statistic is taken will be eliminated, and the value None will no longer be accepted. Set `keepdims` to True or False to avoid this warning.\n",
      "  mode, _ = stats.mode(_y[neigh_ind, k], axis=1)\n",
      "C:\\Users\\Hp\\anaconda3\\lib\\site-packages\\sklearn\\neighbors\\_classification.py:228: FutureWarning: Unlike other reduction functions (e.g. `skew`, `kurtosis`), the default behavior of `mode` typically preserves the axis it acts along. In SciPy 1.11.0, this behavior will change: the default value of `keepdims` will become False, the `axis` over which the statistic is taken will be eliminated, and the value None will no longer be accepted. Set `keepdims` to True or False to avoid this warning.\n",
      "  mode, _ = stats.mode(_y[neigh_ind, k], axis=1)\n",
      "C:\\Users\\Hp\\anaconda3\\lib\\site-packages\\sklearn\\neighbors\\_classification.py:228: FutureWarning: Unlike other reduction functions (e.g. `skew`, `kurtosis`), the default behavior of `mode` typically preserves the axis it acts along. In SciPy 1.11.0, this behavior will change: the default value of `keepdims` will become False, the `axis` over which the statistic is taken will be eliminated, and the value None will no longer be accepted. Set `keepdims` to True or False to avoid this warning.\n",
      "  mode, _ = stats.mode(_y[neigh_ind, k], axis=1)\n",
      "C:\\Users\\Hp\\anaconda3\\lib\\site-packages\\sklearn\\neighbors\\_classification.py:228: FutureWarning: Unlike other reduction functions (e.g. `skew`, `kurtosis`), the default behavior of `mode` typically preserves the axis it acts along. In SciPy 1.11.0, this behavior will change: the default value of `keepdims` will become False, the `axis` over which the statistic is taken will be eliminated, and the value None will no longer be accepted. Set `keepdims` to True or False to avoid this warning.\n",
      "  mode, _ = stats.mode(_y[neigh_ind, k], axis=1)\n",
      "C:\\Users\\Hp\\anaconda3\\lib\\site-packages\\sklearn\\neighbors\\_classification.py:228: FutureWarning: Unlike other reduction functions (e.g. `skew`, `kurtosis`), the default behavior of `mode` typically preserves the axis it acts along. In SciPy 1.11.0, this behavior will change: the default value of `keepdims` will become False, the `axis` over which the statistic is taken will be eliminated, and the value None will no longer be accepted. Set `keepdims` to True or False to avoid this warning.\n",
      "  mode, _ = stats.mode(_y[neigh_ind, k], axis=1)\n",
      "C:\\Users\\Hp\\anaconda3\\lib\\site-packages\\sklearn\\neighbors\\_classification.py:228: FutureWarning: Unlike other reduction functions (e.g. `skew`, `kurtosis`), the default behavior of `mode` typically preserves the axis it acts along. In SciPy 1.11.0, this behavior will change: the default value of `keepdims` will become False, the `axis` over which the statistic is taken will be eliminated, and the value None will no longer be accepted. Set `keepdims` to True or False to avoid this warning.\n",
      "  mode, _ = stats.mode(_y[neigh_ind, k], axis=1)\n",
      "C:\\Users\\Hp\\anaconda3\\lib\\site-packages\\sklearn\\neighbors\\_classification.py:228: FutureWarning: Unlike other reduction functions (e.g. `skew`, `kurtosis`), the default behavior of `mode` typically preserves the axis it acts along. In SciPy 1.11.0, this behavior will change: the default value of `keepdims` will become False, the `axis` over which the statistic is taken will be eliminated, and the value None will no longer be accepted. Set `keepdims` to True or False to avoid this warning.\n",
      "  mode, _ = stats.mode(_y[neigh_ind, k], axis=1)\n",
      "C:\\Users\\Hp\\anaconda3\\lib\\site-packages\\sklearn\\neighbors\\_classification.py:228: FutureWarning: Unlike other reduction functions (e.g. `skew`, `kurtosis`), the default behavior of `mode` typically preserves the axis it acts along. In SciPy 1.11.0, this behavior will change: the default value of `keepdims` will become False, the `axis` over which the statistic is taken will be eliminated, and the value None will no longer be accepted. Set `keepdims` to True or False to avoid this warning.\n",
      "  mode, _ = stats.mode(_y[neigh_ind, k], axis=1)\n",
      "C:\\Users\\Hp\\anaconda3\\lib\\site-packages\\sklearn\\neighbors\\_classification.py:228: FutureWarning: Unlike other reduction functions (e.g. `skew`, `kurtosis`), the default behavior of `mode` typically preserves the axis it acts along. In SciPy 1.11.0, this behavior will change: the default value of `keepdims` will become False, the `axis` over which the statistic is taken will be eliminated, and the value None will no longer be accepted. Set `keepdims` to True or False to avoid this warning.\n",
      "  mode, _ = stats.mode(_y[neigh_ind, k], axis=1)\n",
      "C:\\Users\\Hp\\anaconda3\\lib\\site-packages\\sklearn\\neighbors\\_classification.py:228: FutureWarning: Unlike other reduction functions (e.g. `skew`, `kurtosis`), the default behavior of `mode` typically preserves the axis it acts along. In SciPy 1.11.0, this behavior will change: the default value of `keepdims` will become False, the `axis` over which the statistic is taken will be eliminated, and the value None will no longer be accepted. Set `keepdims` to True or False to avoid this warning.\n",
      "  mode, _ = stats.mode(_y[neigh_ind, k], axis=1)\n",
      "C:\\Users\\Hp\\anaconda3\\lib\\site-packages\\sklearn\\neighbors\\_classification.py:228: FutureWarning: Unlike other reduction functions (e.g. `skew`, `kurtosis`), the default behavior of `mode` typically preserves the axis it acts along. In SciPy 1.11.0, this behavior will change: the default value of `keepdims` will become False, the `axis` over which the statistic is taken will be eliminated, and the value None will no longer be accepted. Set `keepdims` to True or False to avoid this warning.\n",
      "  mode, _ = stats.mode(_y[neigh_ind, k], axis=1)\n",
      "C:\\Users\\Hp\\anaconda3\\lib\\site-packages\\sklearn\\neighbors\\_classification.py:228: FutureWarning: Unlike other reduction functions (e.g. `skew`, `kurtosis`), the default behavior of `mode` typically preserves the axis it acts along. In SciPy 1.11.0, this behavior will change: the default value of `keepdims` will become False, the `axis` over which the statistic is taken will be eliminated, and the value None will no longer be accepted. Set `keepdims` to True or False to avoid this warning.\n",
      "  mode, _ = stats.mode(_y[neigh_ind, k], axis=1)\n",
      "C:\\Users\\Hp\\anaconda3\\lib\\site-packages\\sklearn\\neighbors\\_classification.py:228: FutureWarning: Unlike other reduction functions (e.g. `skew`, `kurtosis`), the default behavior of `mode` typically preserves the axis it acts along. In SciPy 1.11.0, this behavior will change: the default value of `keepdims` will become False, the `axis` over which the statistic is taken will be eliminated, and the value None will no longer be accepted. Set `keepdims` to True or False to avoid this warning.\n",
      "  mode, _ = stats.mode(_y[neigh_ind, k], axis=1)\n"
     ]
    },
    {
     "name": "stderr",
     "output_type": "stream",
     "text": [
      "C:\\Users\\Hp\\anaconda3\\lib\\site-packages\\sklearn\\neighbors\\_classification.py:228: FutureWarning: Unlike other reduction functions (e.g. `skew`, `kurtosis`), the default behavior of `mode` typically preserves the axis it acts along. In SciPy 1.11.0, this behavior will change: the default value of `keepdims` will become False, the `axis` over which the statistic is taken will be eliminated, and the value None will no longer be accepted. Set `keepdims` to True or False to avoid this warning.\n",
      "  mode, _ = stats.mode(_y[neigh_ind, k], axis=1)\n",
      "C:\\Users\\Hp\\anaconda3\\lib\\site-packages\\sklearn\\neighbors\\_classification.py:228: FutureWarning: Unlike other reduction functions (e.g. `skew`, `kurtosis`), the default behavior of `mode` typically preserves the axis it acts along. In SciPy 1.11.0, this behavior will change: the default value of `keepdims` will become False, the `axis` over which the statistic is taken will be eliminated, and the value None will no longer be accepted. Set `keepdims` to True or False to avoid this warning.\n",
      "  mode, _ = stats.mode(_y[neigh_ind, k], axis=1)\n",
      "C:\\Users\\Hp\\anaconda3\\lib\\site-packages\\sklearn\\neighbors\\_classification.py:228: FutureWarning: Unlike other reduction functions (e.g. `skew`, `kurtosis`), the default behavior of `mode` typically preserves the axis it acts along. In SciPy 1.11.0, this behavior will change: the default value of `keepdims` will become False, the `axis` over which the statistic is taken will be eliminated, and the value None will no longer be accepted. Set `keepdims` to True or False to avoid this warning.\n",
      "  mode, _ = stats.mode(_y[neigh_ind, k], axis=1)\n",
      "C:\\Users\\Hp\\anaconda3\\lib\\site-packages\\sklearn\\neighbors\\_classification.py:228: FutureWarning: Unlike other reduction functions (e.g. `skew`, `kurtosis`), the default behavior of `mode` typically preserves the axis it acts along. In SciPy 1.11.0, this behavior will change: the default value of `keepdims` will become False, the `axis` over which the statistic is taken will be eliminated, and the value None will no longer be accepted. Set `keepdims` to True or False to avoid this warning.\n",
      "  mode, _ = stats.mode(_y[neigh_ind, k], axis=1)\n",
      "C:\\Users\\Hp\\anaconda3\\lib\\site-packages\\sklearn\\neighbors\\_classification.py:228: FutureWarning: Unlike other reduction functions (e.g. `skew`, `kurtosis`), the default behavior of `mode` typically preserves the axis it acts along. In SciPy 1.11.0, this behavior will change: the default value of `keepdims` will become False, the `axis` over which the statistic is taken will be eliminated, and the value None will no longer be accepted. Set `keepdims` to True or False to avoid this warning.\n",
      "  mode, _ = stats.mode(_y[neigh_ind, k], axis=1)\n",
      "C:\\Users\\Hp\\anaconda3\\lib\\site-packages\\sklearn\\neighbors\\_classification.py:228: FutureWarning: Unlike other reduction functions (e.g. `skew`, `kurtosis`), the default behavior of `mode` typically preserves the axis it acts along. In SciPy 1.11.0, this behavior will change: the default value of `keepdims` will become False, the `axis` over which the statistic is taken will be eliminated, and the value None will no longer be accepted. Set `keepdims` to True or False to avoid this warning.\n",
      "  mode, _ = stats.mode(_y[neigh_ind, k], axis=1)\n",
      "C:\\Users\\Hp\\anaconda3\\lib\\site-packages\\sklearn\\neighbors\\_classification.py:228: FutureWarning: Unlike other reduction functions (e.g. `skew`, `kurtosis`), the default behavior of `mode` typically preserves the axis it acts along. In SciPy 1.11.0, this behavior will change: the default value of `keepdims` will become False, the `axis` over which the statistic is taken will be eliminated, and the value None will no longer be accepted. Set `keepdims` to True or False to avoid this warning.\n",
      "  mode, _ = stats.mode(_y[neigh_ind, k], axis=1)\n",
      "C:\\Users\\Hp\\anaconda3\\lib\\site-packages\\sklearn\\neighbors\\_classification.py:228: FutureWarning: Unlike other reduction functions (e.g. `skew`, `kurtosis`), the default behavior of `mode` typically preserves the axis it acts along. In SciPy 1.11.0, this behavior will change: the default value of `keepdims` will become False, the `axis` over which the statistic is taken will be eliminated, and the value None will no longer be accepted. Set `keepdims` to True or False to avoid this warning.\n",
      "  mode, _ = stats.mode(_y[neigh_ind, k], axis=1)\n",
      "C:\\Users\\Hp\\anaconda3\\lib\\site-packages\\sklearn\\neighbors\\_classification.py:228: FutureWarning: Unlike other reduction functions (e.g. `skew`, `kurtosis`), the default behavior of `mode` typically preserves the axis it acts along. In SciPy 1.11.0, this behavior will change: the default value of `keepdims` will become False, the `axis` over which the statistic is taken will be eliminated, and the value None will no longer be accepted. Set `keepdims` to True or False to avoid this warning.\n",
      "  mode, _ = stats.mode(_y[neigh_ind, k], axis=1)\n",
      "C:\\Users\\Hp\\anaconda3\\lib\\site-packages\\sklearn\\neighbors\\_classification.py:228: FutureWarning: Unlike other reduction functions (e.g. `skew`, `kurtosis`), the default behavior of `mode` typically preserves the axis it acts along. In SciPy 1.11.0, this behavior will change: the default value of `keepdims` will become False, the `axis` over which the statistic is taken will be eliminated, and the value None will no longer be accepted. Set `keepdims` to True or False to avoid this warning.\n",
      "  mode, _ = stats.mode(_y[neigh_ind, k], axis=1)\n",
      "C:\\Users\\Hp\\anaconda3\\lib\\site-packages\\sklearn\\neighbors\\_classification.py:228: FutureWarning: Unlike other reduction functions (e.g. `skew`, `kurtosis`), the default behavior of `mode` typically preserves the axis it acts along. In SciPy 1.11.0, this behavior will change: the default value of `keepdims` will become False, the `axis` over which the statistic is taken will be eliminated, and the value None will no longer be accepted. Set `keepdims` to True or False to avoid this warning.\n",
      "  mode, _ = stats.mode(_y[neigh_ind, k], axis=1)\n",
      "C:\\Users\\Hp\\anaconda3\\lib\\site-packages\\sklearn\\neighbors\\_classification.py:228: FutureWarning: Unlike other reduction functions (e.g. `skew`, `kurtosis`), the default behavior of `mode` typically preserves the axis it acts along. In SciPy 1.11.0, this behavior will change: the default value of `keepdims` will become False, the `axis` over which the statistic is taken will be eliminated, and the value None will no longer be accepted. Set `keepdims` to True or False to avoid this warning.\n",
      "  mode, _ = stats.mode(_y[neigh_ind, k], axis=1)\n",
      "C:\\Users\\Hp\\anaconda3\\lib\\site-packages\\sklearn\\neighbors\\_classification.py:228: FutureWarning: Unlike other reduction functions (e.g. `skew`, `kurtosis`), the default behavior of `mode` typically preserves the axis it acts along. In SciPy 1.11.0, this behavior will change: the default value of `keepdims` will become False, the `axis` over which the statistic is taken will be eliminated, and the value None will no longer be accepted. Set `keepdims` to True or False to avoid this warning.\n",
      "  mode, _ = stats.mode(_y[neigh_ind, k], axis=1)\n"
     ]
    },
    {
     "data": {
      "image/png": "[encoded data removed]",
      "text/plain": [
       "<Figure size 640x480 with 1 Axes>"
      ]
     },
     "metadata": {},
     "output_type": "display_data"
    }
   ],
   "source": [
    "# K-Nearest Neighbor\n",
    "# Checking which K gives the best results for knn\n",
    "accuracies = []\n",
    "for each in range(10,40):\n",
    "    knn_temp = KNeighborsClassifier(n_neighbors = each)\n",
    "    knn_temp.fit(X_train, y_train_cl)\n",
    "    accuracies.append(knn_temp.score(X_test, y_test_cl) * 100)\n",
    "    \n",
    "plt.plot(range(10,40),accuracies)\n",
    "plt.xlabel(\"K\")\n",
    "plt.ylabel(\"Accuracy\")\n",
    "plt.show()\n",
    "\n",
    "# Comments on result : we have the highest accuracy As for K=15 we have our high accuracy and then accuracy starts decreasing with increasing value of K, so we will choose K=15 for our model."
   ]
  },
  {
   "cell_type": "code",
   "execution_count": 715,
   "id": "f5c9181d",
   "metadata": {},
   "outputs": [
    {
     "name": "stdout",
     "output_type": "stream",
     "text": [
      "Prediction Results of K-Nearest Neighbor Classification Model : \n",
      "\n",
      "['Low' 'Low' 'Low' 'Low' 'High' 'Low' 'Low' 'Low' 'Low' 'Low' 'Low' 'Low'\n",
      " 'Low' 'Low' 'Low' 'High' 'Low' 'Low' 'High' 'Low' 'Low' 'Low' 'High'\n",
      " 'Low' 'Low' 'Low' 'High' 'Low' 'High' 'Low' 'Low' 'Low' 'Low' 'High'\n",
      " 'Low' 'Low' 'Low' 'Low' 'Low' 'High' 'Low' 'Low' 'High' 'High' 'Low'\n",
      " 'Low' 'Low' 'Low' 'Low' 'Low' 'High' 'High' 'High' 'Low' 'Low' 'Low'\n",
      " 'Low' 'Low' 'Low' 'Low' 'Low' 'Low' 'Low' 'High' 'High' 'Low' 'Low'\n",
      " 'High' 'High' 'Low' 'Low' 'Low' 'Low' 'Low' 'High' 'Low' 'High' 'High'\n",
      " 'Low' 'Low' 'High' 'Low' 'High' 'High' 'Low' 'Low' 'High' 'High' 'Low'\n",
      " 'Low' 'Low' 'Low' 'Low' 'Low' 'Low' 'High' 'High' 'Low' 'Low' 'Low']\n",
      "\n",
      "\n",
      "Accuracy of K-Nearest Neighbor Classification Model : 93.0 %\n"
     ]
    },
    {
     "name": "stderr",
     "output_type": "stream",
     "text": [
      "C:\\Users\\Hp\\anaconda3\\lib\\site-packages\\sklearn\\neighbors\\_classification.py:228: FutureWarning: Unlike other reduction functions (e.g. `skew`, `kurtosis`), the default behavior of `mode` typically preserves the axis it acts along. In SciPy 1.11.0, this behavior will change: the default value of `keepdims` will become False, the `axis` over which the statistic is taken will be eliminated, and the value None will no longer be accepted. Set `keepdims` to True or False to avoid this warning.\n",
      "  mode, _ = stats.mode(_y[neigh_ind, k], axis=1)\n"
     ]
    }
   ],
   "source": [
    "# K-Nearest Neighbor Classification Model\n",
    "knn_classifier = KNeighborsClassifier(n_neighbors = 15)\n",
    "\n",
    "# Training the model\n",
    "knn_classifier.fit(X_train, y_train_cl)\n",
    "\n",
    "# Predicting the results for trained Knn Model\n",
    "y_pred_knn = knn_classifier.predict(X_test)\n",
    "print(f'Prediction Results of K-Nearest Neighbor Classification Model : \\n\\n{y_pred_knn}\\n\\n')\n",
    "\n",
    "# Calculating accuracy for Knn Model\n",
    "accuracy_knn = metrics.accuracy_score(y_test_cl, y_pred_knn) * 100\n",
    "print(f'Accuracy of K-Nearest Neighbor Classification Model : {accuracy_knn} %')"
   ]
  },
  {
   "cell_type": "code",
   "execution_count": 751,
   "id": "68e714a0",
   "metadata": {
    "scrolled": true
   },
   "outputs": [
    {
     "name": "stdout",
     "output_type": "stream",
     "text": [
      "Confusion Matrix of k-Nearest Neighbor : \n",
      "[[24  4]\n",
      " [ 3 69]]\n"
     ]
    },
    {
     "data": {
      "image/png": "[encoded data removed]",
      "text/plain": [
       "<Figure size 300x300 with 2 Axes>"
      ]
     },
     "metadata": {},
     "output_type": "display_data"
    }
   ],
   "source": [
    "# Confusion Matrix of knn\n",
    "cnm_knn = metrics.confusion_matrix(y_test_cl, y_pred_knn)\n",
    "\n",
    "print(f'Confusion Matrix of k-Nearest Neighbor : \\n{cnm_knn}')\n",
    "\n",
    "# Plotting the confusion matrix\n",
    "f, axes = plt.subplots(figsize =(3,3))\n",
    "sns.heatmap(cnm_knn, annot = True, linewidths=1.0, linecolor=\"white\", ax=axes, cmap = 'Set2')\n",
    "plt.title(\"Confusion Matrix of knn\")\n",
    "plt.xlabel(\"Predicted Output\")\n",
    "plt.ylabel(\"Actual Output\")\n",
    "plt.show()\n",
    "\n",
    "# Comments on Result : There very less number of false predictions than true predictions as per confusion matrix"
   ]
  },
  {
   "cell_type": "markdown",
   "id": "02f5493a",
   "metadata": {},
   "source": [
    "## 2. Classification using Support Vector Machine"
   ]
  },
  {
   "cell_type": "code",
   "execution_count": 716,
   "id": "d283284d",
   "metadata": {},
   "outputs": [
    {
     "name": "stdout",
     "output_type": "stream",
     "text": [
      "Prediction Results of Support Vector Classification Model : \n",
      "\n",
      "['Low' 'Low' 'High' 'Low' 'High' 'Low' 'Low' 'Low' 'Low' 'Low' 'Low' 'Low'\n",
      " 'Low' 'Low' 'Low' 'High' 'Low' 'Low' 'High' 'Low' 'Low' 'High' 'High'\n",
      " 'Low' 'Low' 'Low' 'High' 'Low' 'High' 'Low' 'Low' 'Low' 'Low' 'High'\n",
      " 'Low' 'Low' 'Low' 'Low' 'Low' 'High' 'Low' 'Low' 'Low' 'High' 'Low' 'Low'\n",
      " 'Low' 'Low' 'Low' 'Low' 'High' 'High' 'High' 'Low' 'Low' 'Low' 'Low'\n",
      " 'Low' 'Low' 'Low' 'Low' 'Low' 'Low' 'High' 'High' 'Low' 'Low' 'Low'\n",
      " 'High' 'Low' 'Low' 'Low' 'Low' 'Low' 'High' 'Low' 'High' 'High' 'Low'\n",
      " 'Low' 'High' 'Low' 'High' 'Low' 'Low' 'Low' 'High' 'High' 'Low' 'Low'\n",
      " 'Low' 'Low' 'Low' 'Low' 'Low' 'High' 'High' 'Low' 'Low' 'Low']\n",
      "\n",
      "\n",
      "Accuracy of Support Vector Classification Model : 94.0 %\n"
     ]
    }
   ],
   "source": [
    "# Support Vector Classification Model\n",
    "svm_classifier = SVC(C=1.0)\n",
    "\n",
    "# Training the model\n",
    "svm_classifier.fit(X_train, y_train_cl)\n",
    "\n",
    "# Predicting the results for trained support vector classifier\n",
    "y_pred_svc = svm_classifier.predict(X_test)\n",
    "print(f'Prediction Results of Support Vector Classification Model : \\n\\n{y_pred_svc}\\n\\n')\n",
    "\n",
    "# Calculating accuracies for support vector classifier\n",
    "accuracy_svc = metrics.accuracy_score(y_test_cl, y_pred_svc) * 100\n",
    "print(f'Accuracy of Support Vector Classification Model : {accuracy_svc} %')"
   ]
  },
  {
   "cell_type": "code",
   "execution_count": 753,
   "id": "42240a2f",
   "metadata": {},
   "outputs": [
    {
     "name": "stdout",
     "output_type": "stream",
     "text": [
      "Confusion Matrix of Support Vector Classifier : \n",
      "[[24  4]\n",
      " [ 2 70]]\n"
     ]
    },
    {
     "data": {
      "image/png": "[encoded data removed]",
      "text/plain": [
       "<Figure size 300x300 with 2 Axes>"
      ]
     },
     "metadata": {},
     "output_type": "display_data"
    }
   ],
   "source": [
    "# Confusion Matrix of Suport Vector Classifier\n",
    "cnm_svc = metrics.confusion_matrix(y_test_cl, y_pred_svc)\n",
    "\n",
    "print(f'Confusion Matrix of Support Vector Classifier : \\n{cnm_svc}')\n",
    "\n",
    "# Plotting the confusion matrix\n",
    "f, axes = plt.subplots(figsize =(3,3))\n",
    "sns.heatmap(cnm_svc, annot = True, linewidths=1.0, linecolor=\"white\", ax=axes, cmap = 'Set2')\n",
    "plt.title(\"Confusion Matrix of SVC\")\n",
    "plt.xlabel(\"Predicted Output\")\n",
    "plt.ylabel(\"Actual Output\")\n",
    "plt.show()\n",
    "\n",
    "# Comments on Result : There very less number of false predictions than true predictions as per confusion matrix"
   ]
  },
  {
   "cell_type": "markdown",
   "id": "90051d58",
   "metadata": {},
   "source": [
    "## 3. Classification using Random Forest"
   ]
  },
  {
   "cell_type": "code",
   "execution_count": 670,
   "id": "8d2da834",
   "metadata": {},
   "outputs": [
    {
     "name": "stdout",
     "output_type": "stream",
     "text": [
      "Prediction Results of Random Forest Classification Model : \n",
      "\n",
      "['Low' 'Low' 'High' 'Low' 'High' 'Low' 'Low' 'Low' 'Low' 'Low' 'Low' 'Low'\n",
      " 'Low' 'Low' 'Low' 'High' 'Low' 'Low' 'High' 'Low' 'Low' 'Low' 'High'\n",
      " 'Low' 'Low' 'Low' 'High' 'Low' 'High' 'Low' 'Low' 'High' 'Low' 'High'\n",
      " 'Low' 'Low' 'Low' 'Low' 'Low' 'High' 'Low' 'Low' 'Low' 'High' 'Low' 'Low'\n",
      " 'Low' 'Low' 'Low' 'Low' 'High' 'High' 'High' 'Low' 'Low' 'Low' 'Low'\n",
      " 'Low' 'Low' 'Low' 'Low' 'Low' 'Low' 'High' 'High' 'Low' 'Low' 'Low'\n",
      " 'High' 'Low' 'Low' 'Low' 'High' 'Low' 'High' 'Low' 'High' 'High' 'Low'\n",
      " 'Low' 'High' 'Low' 'High' 'Low' 'High' 'Low' 'High' 'High' 'Low' 'Low'\n",
      " 'Low' 'High' 'Low' 'Low' 'High' 'High' 'High' 'Low' 'Low' 'Low']\n",
      "\n",
      "\n",
      "Accuracy of Random Forest Classification Model : 92.0 %\n"
     ]
    }
   ],
   "source": [
    "# Random Forest Classification Model\n",
    "rf_classifier = RandomForestClassifier(n_estimators = 50)\n",
    "\n",
    "# Training the model\n",
    "rf_classifier.fit(X_train, y_train_cl)\n",
    "\n",
    "# Predicting results for Random Forest Classifier\n",
    "y_pred_rfc = rf_classifier.predict(X_test)\n",
    "print(f'Prediction Results of Random Forest Classification Model : \\n\\n{y_pred_rfc}\\n\\n')\n",
    "\n",
    "# Calculating accuracies for Random Forest Classifier\n",
    "accuracy_rfc = metrics.accuracy_score(y_test_cl, y_pred_rfc) * 100\n",
    "print(f'Accuracy of Random Forest Classification Model : {accuracy_rfc} %')"
   ]
  },
  {
   "cell_type": "code",
   "execution_count": 756,
   "id": "49bdd41f",
   "metadata": {},
   "outputs": [
    {
     "name": "stdout",
     "output_type": "stream",
     "text": [
      "Confusion Matrix of Random Forest Classifier : \n",
      "[[25  3]\n",
      " [ 5 67]]\n"
     ]
    },
    {
     "data": {
      "image/png": "[encoded data removed]",
      "text/plain": [
       "<Figure size 300x300 with 2 Axes>"
      ]
     },
     "metadata": {},
     "output_type": "display_data"
    }
   ],
   "source": [
    "# Confusion Matrix of Random Forest Classifier\n",
    "cnm_rfc = metrics.confusion_matrix(y_test_cl, y_pred_rfc)\n",
    "\n",
    "print(f'Confusion Matrix of Random Forest Classifier : \\n{cnm_rfc}')\n",
    "\n",
    "# Plotting the confusion matrix\n",
    "f, axes = plt.subplots(figsize =(3,3))\n",
    "sns.heatmap(cnm_rfc, annot = True, linewidths=1.0, linecolor=\"white\", ax=axes, cmap = 'Set2')\n",
    "plt.title(\"Confusion Matrix of RFC\")\n",
    "plt.xlabel(\"Predicted Output\")\n",
    "plt.ylabel(\"Actual Output\")\n",
    "plt.show()\n",
    "\n",
    "# Comments on Result : There comparatively less number of false predictions than true predictions as per confusion matrix"
   ]
  },
  {
   "cell_type": "markdown",
   "id": "cc0c4da1",
   "metadata": {},
   "source": [
    "## 4. Classification using Gradient Boosting"
   ]
  },
  {
   "cell_type": "code",
   "execution_count": 671,
   "id": "ef7cfa78",
   "metadata": {},
   "outputs": [
    {
     "name": "stdout",
     "output_type": "stream",
     "text": [
      "Prediction Results of Gradient Boosting Classification Model : \n",
      "\n",
      "['Low' 'Low' 'High' 'Low' 'Low' 'Low' 'Low' 'Low' 'Low' 'Low' 'Low' 'Low'\n",
      " 'Low' 'Low' 'Low' 'High' 'Low' 'Low' 'High' 'Low' 'Low' 'Low' 'High'\n",
      " 'Low' 'Low' 'Low' 'High' 'Low' 'High' 'Low' 'Low' 'High' 'Low' 'High'\n",
      " 'Low' 'Low' 'Low' 'Low' 'Low' 'High' 'Low' 'Low' 'Low' 'High' 'Low' 'Low'\n",
      " 'Low' 'Low' 'Low' 'Low' 'High' 'High' 'High' 'Low' 'Low' 'Low' 'Low'\n",
      " 'Low' 'Low' 'Low' 'Low' 'Low' 'Low' 'High' 'High' 'Low' 'Low' 'High'\n",
      " 'High' 'Low' 'Low' 'Low' 'High' 'Low' 'High' 'Low' 'High' 'High' 'Low'\n",
      " 'Low' 'High' 'Low' 'High' 'Low' 'High' 'Low' 'High' 'High' 'Low' 'Low'\n",
      " 'Low' 'High' 'Low' 'Low' 'High' 'Low' 'High' 'Low' 'Low' 'Low']\n",
      "\n",
      "\n",
      "Accuracy of Gradient Boosting Classification Model : 93.0 %\n"
     ]
    }
   ],
   "source": [
    "# Gradient Boosting Classification Model\n",
    "gb_classifier = GradientBoostingClassifier(n_estimators=85)\n",
    "\n",
    "# Training the model\n",
    "gb_classifier.fit(X_train, y_train_cl)\n",
    "\n",
    "# Predicting results for Gradient Boosting Classifier\n",
    "y_pred_gbc = gb_classifier.predict(X_test)\n",
    "print(f'Prediction Results of Gradient Boosting Classification Model : \\n\\n{y_pred_gbc}\\n\\n')\n",
    "\n",
    "# Calculating accuracies for Gredient boosting Classifier\n",
    "accuracy_gbc = metrics.accuracy_score(y_test_cl, y_pred_gbc) * 100\n",
    "print(f'Accuracy of Gradient Boosting Classification Model : {accuracy_gbc} %')"
   ]
  },
  {
   "cell_type": "code",
   "execution_count": 757,
   "id": "9e4cab49",
   "metadata": {},
   "outputs": [
    {
     "name": "stdout",
     "output_type": "stream",
     "text": [
      "Confusion Matrix of Gradient Boosting Classifier : \n",
      "[[25  3]\n",
      " [ 4 68]]\n"
     ]
    },
    {
     "data": {
      "image/png": "[encoded data removed]",
      "text/plain": [
       "<Figure size 300x300 with 2 Axes>"
      ]
     },
     "metadata": {},
     "output_type": "display_data"
    }
   ],
   "source": [
    "# Confusion Matrix of Gradient Boosting Classifier\n",
    "cnm_gbc = metrics.confusion_matrix(y_test_cl, y_pred_gbc)\n",
    "\n",
    "print(f'Confusion Matrix of Gradient Boosting Classifier : \\n{cnm_gbc}')\n",
    "\n",
    "# Plotting the confusion matrix\n",
    "f, axes = plt.subplots(figsize =(3,3))\n",
    "sns.heatmap(cnm_gbc, annot = True, linewidths=1.0, linecolor=\"white\", ax=axes, cmap = 'Set2')\n",
    "plt.title(\"Confusion Matrix of GBC\")\n",
    "plt.xlabel(\"Predicted Output\")\n",
    "plt.ylabel(\"Actual Output\")\n",
    "plt.show()\n",
    "\n",
    "# Comments on Result : There comparatively less number of false predictions than true predictions as per confusion matrix"
   ]
  },
  {
   "cell_type": "markdown",
   "id": "45880bbc",
   "metadata": {},
   "source": [
    "## Comparision of Classification Model Accuracies"
   ]
  },
  {
   "cell_type": "code",
   "execution_count": 717,
   "id": "93dbf2cb",
   "metadata": {},
   "outputs": [
    {
     "data": {
      "text/html": [
       "<div>\n",
       "<style scoped>\n",
       "    .dataframe tbody tr th:only-of-type {\n",
       "        vertical-align: middle;\n",
       "    }\n",
       "\n",
       "    .dataframe tbody tr th {\n",
       "        vertical-align: top;\n",
       "    }\n",
       "\n",
       "    .dataframe thead th {\n",
       "        text-align: right;\n",
       "    }\n",
       "</style>\n",
       "<table border=\"1\" class=\"dataframe\">\n",
       "  <thead>\n",
       "    <tr style=\"text-align: right;\">\n",
       "      <th></th>\n",
       "      <th>Classification Models</th>\n",
       "      <th>Accuracies</th>\n",
       "    </tr>\n",
       "  </thead>\n",
       "  <tbody>\n",
       "    <tr>\n",
       "      <th>0</th>\n",
       "      <td>Knn</td>\n",
       "      <td>93.0</td>\n",
       "    </tr>\n",
       "    <tr>\n",
       "      <th>1</th>\n",
       "      <td>SVC</td>\n",
       "      <td>94.0</td>\n",
       "    </tr>\n",
       "    <tr>\n",
       "      <th>2</th>\n",
       "      <td>RFC</td>\n",
       "      <td>92.0</td>\n",
       "    </tr>\n",
       "    <tr>\n",
       "      <th>3</th>\n",
       "      <td>GBC</td>\n",
       "      <td>93.0</td>\n",
       "    </tr>\n",
       "  </tbody>\n",
       "</table>\n",
       "</div>"
      ],
      "text/plain": [
       "  Classification Models  Accuracies\n",
       "0                   Knn        93.0\n",
       "1                   SVC        94.0\n",
       "2                   RFC        92.0\n",
       "3                   GBC        93.0"
      ]
     },
     "execution_count": 717,
     "metadata": {},
     "output_type": "execute_result"
    }
   ],
   "source": [
    "# Summarizing the accuracies of all Classification Models\n",
    "results_classification = pd.DataFrame({'Classification Models' : ['KNN','SVC','RFC', 'GBC'],\n",
    "                                  'Accuracies' : [accuracy_knn ,accuracy_svc ,accuracy_rfc, accuracy_gbc]})\n",
    "results_classification"
   ]
  },
  {
   "cell_type": "code",
   "execution_count": 718,
   "id": "689ddaa5",
   "metadata": {},
   "outputs": [
    {
     "data": {
      "image/png": "[encoded data removed]",
      "text/plain": [
       "<Figure size 640x480 with 1 Axes>"
      ]
     },
     "metadata": {},
     "output_type": "display_data"
    }
   ],
   "source": [
    "with sns.color_palette(\"pastel\"):\n",
    "    sns.barplot(x = results_classification['Classification Models'], y = results_classification['Accuracies'])"
   ]
  },
  {
   "cell_type": "markdown",
   "id": "2bb6bf2c",
   "metadata": {},
   "source": [
    "## Comparision of all the models"
   ]
  },
  {
   "cell_type": "code",
   "execution_count": 719,
   "id": "774985d2",
   "metadata": {},
   "outputs": [
    {
     "data": {
      "text/html": [
       "<div>\n",
       "<style scoped>\n",
       "    .dataframe tbody tr th:only-of-type {\n",
       "        vertical-align: middle;\n",
       "    }\n",
       "\n",
       "    .dataframe tbody tr th {\n",
       "        vertical-align: top;\n",
       "    }\n",
       "\n",
       "    .dataframe thead th {\n",
       "        text-align: right;\n",
       "    }\n",
       "</style>\n",
       "<table border=\"1\" class=\"dataframe\">\n",
       "  <thead>\n",
       "    <tr style=\"text-align: right;\">\n",
       "      <th></th>\n",
       "      <th>Models</th>\n",
       "      <th>Accuracies</th>\n",
       "    </tr>\n",
       "  </thead>\n",
       "  <tbody>\n",
       "    <tr>\n",
       "      <th>0</th>\n",
       "      <td>Linear Regressor</td>\n",
       "      <td>82.087417</td>\n",
       "    </tr>\n",
       "    <tr>\n",
       "      <th>1</th>\n",
       "      <td>Support Vector Regressor</td>\n",
       "      <td>74.719868</td>\n",
       "    </tr>\n",
       "    <tr>\n",
       "      <th>2</th>\n",
       "      <td>Random Forest Regressor</td>\n",
       "      <td>77.271735</td>\n",
       "    </tr>\n",
       "    <tr>\n",
       "      <th>3</th>\n",
       "      <td>Gradient Boosting Regressor</td>\n",
       "      <td>78.302427</td>\n",
       "    </tr>\n",
       "    <tr>\n",
       "      <th>4</th>\n",
       "      <td>Artificial Neural Network</td>\n",
       "      <td>81.268585</td>\n",
       "    </tr>\n",
       "    <tr>\n",
       "      <th>5</th>\n",
       "      <td>K-Nearest Neighbor</td>\n",
       "      <td>93.000000</td>\n",
       "    </tr>\n",
       "    <tr>\n",
       "      <th>6</th>\n",
       "      <td>Support Vector Classifier</td>\n",
       "      <td>94.000000</td>\n",
       "    </tr>\n",
       "    <tr>\n",
       "      <th>7</th>\n",
       "      <td>Random Forest Classifier</td>\n",
       "      <td>92.000000</td>\n",
       "    </tr>\n",
       "    <tr>\n",
       "      <th>8</th>\n",
       "      <td>Gradient Boosting Classifier</td>\n",
       "      <td>93.000000</td>\n",
       "    </tr>\n",
       "  </tbody>\n",
       "</table>\n",
       "</div>"
      ],
      "text/plain": [
       "                         Models  Accuracies\n",
       "0              Linear Regressor   82.087417\n",
       "1      Support Vector Regressor   74.719868\n",
       "2       Random Forest Regressor   77.271735\n",
       "3   Gradient Boosting Regressor   78.302427\n",
       "4     Artificial Neural Network   81.268585\n",
       "5            K-Nearest Neighbor   93.000000\n",
       "6     Support Vector Classifier   94.000000\n",
       "7      Random Forest Classifier   92.000000\n",
       "8  Gradient Boosting Classifier   93.000000"
      ]
     },
     "execution_count": 719,
     "metadata": {},
     "output_type": "execute_result"
    }
   ],
   "source": [
    "# Final comparision of all the models used so far\n",
    "\n",
    "final_result = pd.DataFrame({'Models' : ['Linear Regressor','Support Vector Regressor','Random Forest Regressor', 'Gradient Boosting Regressor', 'Artificial Neural Network', 'K-Nearest Neighbor','Support Vector Classifier','Random Forest Classifier', 'Gradient Boosting Classifier'],\n",
    "                                  'Accuracies' : [accuracy_lr, accuracy_svr, accuracy_rfr, accuracy_gbr, accuracy_ann, accuracy_knn, accuracy_svc, accuracy_rfc, accuracy_gbc]})\n",
    "final_result"
   ]
  },
  {
   "cell_type": "code",
   "execution_count": 720,
   "id": "96cdd0f4",
   "metadata": {},
   "outputs": [
    {
     "data": {
      "image/png": "[encoded data removed]",
      "text/plain": [
       "<Figure size 640x480 with 1 Axes>"
      ]
     },
     "metadata": {},
     "output_type": "display_data"
    }
   ],
   "source": [
    "with sns.color_palette(\"pastel\"):\n",
    "    sns.barplot(y = final_result['Models'], x = final_result['Accuracies'])"
   ]
  },
  {
   "cell_type": "markdown",
   "id": "720259ed",
   "metadata": {},
   "source": [
    "## Saving the Best Models"
   ]
  },
  {
   "cell_type": "code",
   "execution_count": 527,
   "id": "0a33ec44",
   "metadata": {},
   "outputs": [
    {
     "name": "stdout",
     "output_type": "stream",
     "text": [
      "     GRE Score  TOEFL Score  University Rating  SOP  LOR   CGPA  Research\n",
      "0          337          118                  4  4.5   4.5  9.65         1\n",
      "1          324          107                  4  4.0   4.5  8.87         1\n",
      "2          316          104                  3  3.0   3.5  8.00         1\n",
      "3          322          110                  3  3.5   2.5  8.67         1\n",
      "4          314          103                  2  2.0   3.0  8.21         0\n",
      "..         ...          ...                ...  ...   ...   ...       ...\n",
      "495        332          108                  5  4.5   4.0  9.02         1\n",
      "496        337          117                  5  5.0   5.0  9.87         1\n",
      "497        330          120                  5  4.5   5.0  9.56         1\n",
      "498        312          103                  4  4.0   5.0  8.43         0\n",
      "499        327          113                  4  4.5   4.5  9.04         0\n",
      "\n",
      "[500 rows x 7 columns]\n",
      "0      0.92\n",
      "1      0.76\n",
      "2      0.72\n",
      "3      0.80\n",
      "4      0.65\n",
      "       ... \n",
      "495    0.87\n",
      "496    0.96\n",
      "497    0.93\n",
      "498    0.73\n",
      "499    0.84\n",
      "Name: Chance of Admit , Length: 500, dtype: float64\n"
     ]
    }
   ],
   "source": [
    "# Comments on above results : As we can see in above graph, Support Vector Classifier has the maximum accuracy so we can use that model as our final model and save it to predict chance of admit for new data\n",
    "\n",
    "# Saving the model for future use\n",
    "# Printing our original set of input and output variables\n",
    "print(X)\n",
    "print(y)"
   ]
  },
  {
   "cell_type": "code",
   "execution_count": 528,
   "id": "d7968fa3",
   "metadata": {},
   "outputs": [
    {
     "data": {
      "text/plain": [
       "array(['High', 'Low', 'Low', 'Low', 'Low', 'High', 'Low', 'Low', 'Low',\n",
       "       'Low', 'Low', 'High', 'Low', 'Low', 'Low', 'Low', 'Low', 'Low',\n",
       "       'Low', 'Low', 'Low', 'Low', 'High', 'High', 'High', 'High', 'Low',\n",
       "       'Low', 'Low', 'Low', 'Low', 'Low', 'High', 'High', 'High', 'High',\n",
       "       'Low', 'Low', 'Low', 'Low', 'Low', 'Low', 'Low', 'High', 'High',\n",
       "       'High', 'High', 'High', 'High', 'Low', 'Low', 'Low', 'Low', 'Low',\n",
       "       'Low', 'Low', 'Low', 'Low', 'Low', 'Low', 'Low', 'Low', 'Low',\n",
       "       'Low', 'Low', 'Low', 'Low', 'Low', 'Low', 'Low', 'High', 'High',\n",
       "       'High', 'High', 'Low', 'Low', 'Low', 'Low', 'Low', 'Low', 'Low',\n",
       "       'High', 'High', 'High', 'High', 'Low', 'Low', 'Low', 'Low', 'Low',\n",
       "       'Low', 'Low', 'Low', 'Low', 'Low', 'Low', 'Low', 'High', 'High',\n",
       "       'Low', 'Low', 'Low', 'Low', 'Low', 'Low', 'Low', 'High', 'High',\n",
       "       'High', 'Low', 'Low', 'Low', 'Low', 'Low', 'Low', 'Low', 'Low',\n",
       "       'Low', 'Low', 'Low', 'High', 'High', 'Low', 'Low', 'Low', 'Low',\n",
       "       'High', 'Low', 'High', 'High', 'High', 'Low', 'Low', 'Low', 'High',\n",
       "       'High', 'Low', 'Low', 'Low', 'Low', 'High', 'High', 'High', 'High',\n",
       "       'Low', 'High', 'Low', 'High', 'High', 'Low', 'High', 'High',\n",
       "       'High', 'Low', 'Low', 'Low', 'Low', 'Low', 'Low', 'Low', 'Low',\n",
       "       'Low', 'Low', 'Low', 'High', 'Low', 'Low', 'Low', 'Low', 'Low',\n",
       "       'Low', 'High', 'High', 'High', 'High', 'High', 'High', 'High',\n",
       "       'Low', 'Low', 'Low', 'Low', 'Low', 'Low', 'Low', 'High', 'High',\n",
       "       'High', 'High', 'High', 'High', 'High', 'High', 'High', 'Low',\n",
       "       'Low', 'Low', 'Low', 'Low', 'Low', 'Low', 'Low', 'High', 'High',\n",
       "       'Low', 'Low', 'Low', 'Low', 'Low', 'Low', 'Low', 'High', 'High',\n",
       "       'High', 'High', 'High', 'High', 'High', 'High', 'Low', 'Low',\n",
       "       'Low', 'Low', 'Low', 'Low', 'Low', 'Low', 'Low', 'Low', 'High',\n",
       "       'Low', 'Low', 'Low', 'Low', 'High', 'High', 'High', 'High', 'Low',\n",
       "       'Low', 'Low', 'Low', 'Low', 'Low', 'Low', 'High', 'Low', 'Low',\n",
       "       'Low', 'Low', 'Low', 'Low', 'Low', 'High', 'High', 'Low', 'Low',\n",
       "       'Low', 'Low', 'High', 'High', 'Low', 'Low', 'Low', 'Low', 'Low',\n",
       "       'Low', 'Low', 'High', 'Low', 'Low', 'Low', 'Low', 'Low', 'Low',\n",
       "       'Low', 'High', 'Low', 'Low', 'Low', 'Low', 'Low', 'High', 'Low',\n",
       "       'High', 'High', 'High', 'High', 'High', 'Low', 'Low', 'Low', 'Low',\n",
       "       'Low', 'Low', 'Low', 'Low', 'High', 'High', 'Low', 'Low', 'Low',\n",
       "       'Low', 'Low', 'Low', 'Low', 'Low', 'Low', 'Low', 'Low', 'Low',\n",
       "       'High', 'Low', 'Low', 'Low', 'Low', 'Low', 'Low', 'Low', 'Low',\n",
       "       'Low', 'Low', 'Low', 'Low', 'Low', 'High', 'Low', 'Low', 'Low',\n",
       "       'Low', 'Low', 'Low', 'Low', 'Low', 'Low', 'High', 'Low', 'High',\n",
       "       'High', 'High', 'Low', 'Low', 'Low', 'Low', 'Low', 'Low', 'Low',\n",
       "       'Low', 'Low', 'Low', 'Low', 'Low', 'Low', 'Low', 'Low', 'Low',\n",
       "       'Low', 'Low', 'Low', 'High', 'High', 'High', 'High', 'Low', 'Low',\n",
       "       'High', 'Low', 'Low', 'Low', 'Low', 'Low', 'High', 'High', 'Low',\n",
       "       'Low', 'Low', 'Low', 'Low', 'Low', 'Low', 'Low', 'Low', 'High',\n",
       "       'Low', 'High', 'High', 'Low', 'Low', 'Low', 'Low', 'Low', 'Low',\n",
       "       'High', 'Low', 'High', 'High', 'High', 'High', 'Low', 'High',\n",
       "       'Low', 'Low', 'Low', 'High', 'Low', 'Low', 'Low', 'Low', 'Low',\n",
       "       'Low', 'Low', 'Low', 'Low', 'Low', 'Low', 'Low', 'Low', 'Low',\n",
       "       'Low', 'Low', 'Low', 'Low', 'Low', 'High', 'High', 'High', 'Low',\n",
       "       'Low', 'Low', 'High', 'Low', 'Low', 'High', 'Low', 'Low', 'Low',\n",
       "       'Low', 'Low', 'Low', 'Low', 'Low', 'Low', 'High', 'High', 'High',\n",
       "       'High', 'High', 'High', 'Low', 'Low', 'High', 'High', 'High',\n",
       "       'Low', 'Low', 'Low', 'Low', 'Low', 'Low', 'High', 'Low', 'Low',\n",
       "       'Low', 'Low', 'Low', 'Low', 'Low', 'Low', 'High', 'High', 'High',\n",
       "       'Low', 'High', 'Low', 'Low', 'Low', 'Low', 'Low', 'Low', 'Low',\n",
       "       'Low', 'Low', 'High', 'Low', 'Low', 'Low', 'Low', 'Low', 'Low',\n",
       "       'Low', 'Low', 'Low', 'Low', 'Low', 'Low', 'High', 'High', 'High',\n",
       "       'Low', 'High'], dtype=object)"
      ]
     },
     "execution_count": 528,
     "metadata": {},
     "output_type": "execute_result"
    }
   ],
   "source": [
    "# Converting entire y into categorical values\n",
    "y_cl = pd.cut(y, bins=[0,0.8,1.0], labels = ['Low', 'High'])\n",
    "y_cl = np.array(y_cl)\n",
    "y_cl"
   ]
  },
  {
   "cell_type": "code",
   "execution_count": 529,
   "id": "afdd0fe0",
   "metadata": {},
   "outputs": [
    {
     "data": {
      "text/plain": [
       "array([[0.94      , 0.92857143, 0.75      , ..., 0.875     , 0.91346154,\n",
       "        1.        ],\n",
       "       [0.68      , 0.53571429, 0.75      , ..., 0.875     , 0.66346154,\n",
       "        1.        ],\n",
       "       [0.52      , 0.42857143, 0.5       , ..., 0.625     , 0.38461538,\n",
       "        1.        ],\n",
       "       ...,\n",
       "       [0.8       , 1.        , 1.        , ..., 1.        , 0.88461538,\n",
       "        1.        ],\n",
       "       [0.44      , 0.39285714, 0.75      , ..., 1.        , 0.5224359 ,\n",
       "        0.        ],\n",
       "       [0.74      , 0.75      , 0.75      , ..., 0.875     , 0.71794872,\n",
       "        0.        ]])"
      ]
     },
     "execution_count": 529,
     "metadata": {},
     "output_type": "execute_result"
    }
   ],
   "source": [
    "# Scaling the entire input features\n",
    "X_scaled = scaler.fit_transform(X)\n",
    "X_scaled"
   ]
  },
  {
   "cell_type": "markdown",
   "id": "5ef52526",
   "metadata": {},
   "source": [
    "## Using the saved models to predict chances for new inputs"
   ]
  },
  {
   "cell_type": "code",
   "execution_count": 839,
   "id": "f3407a99",
   "metadata": {},
   "outputs": [],
   "source": [
    "# Need to predict results for below 2 sets of inputs\n",
    "\n",
    "# Input 1\n",
    "GRE1 = 310\n",
    "TOEFL1 = 115\n",
    "UR1 = 4\n",
    "SOP1 = 4.5\n",
    "LOR1 = 5.0\n",
    "CGPA1 = 9.2\n",
    "research1 = 1\n",
    "\n",
    "# Input 2\n",
    "GRE2 = 300\n",
    "TOEFL2 = 100\n",
    "UR2 = 5\n",
    "SOP2 = 4.5\n",
    "LOR2 = 4.5\n",
    "CGPA2 = 9.0\n",
    "research2 = 0"
   ]
  },
  {
   "cell_type": "code",
   "execution_count": 840,
   "id": "4f18ab8e",
   "metadata": {},
   "outputs": [
    {
     "data": {
      "text/plain": [
       "LinearRegression()"
      ]
     },
     "execution_count": 840,
     "metadata": {},
     "output_type": "execute_result"
    }
   ],
   "source": [
    "# Creating Linear Regression Model as final Regressor\n",
    "final_regressor = LinearRegression()\n",
    "\n",
    "# Training the model on entire dataset\n",
    "final_regressor.fit(X_scaled, y)"
   ]
  },
  {
   "cell_type": "code",
   "execution_count": 841,
   "id": "00e39ac7",
   "metadata": {},
   "outputs": [
    {
     "data": {
      "text/plain": [
       "['Graduate_Admission_Prediction_Regression']"
      ]
     },
     "execution_count": 841,
     "metadata": {},
     "output_type": "execute_result"
    }
   ],
   "source": [
    "# Saving the regressor as \"Graduate_Admission_Prediction_Regression\" for future use\n",
    "joblib.dump(final_regressor, \"Graduate_Admission_Prediction_Regression\")"
   ]
  },
  {
   "cell_type": "code",
   "execution_count": 842,
   "id": "b179d508",
   "metadata": {},
   "outputs": [],
   "source": [
    "# Loading \"Graduate_Admission_Prediction_Regression\" Regressor\n",
    "admission_regressor = joblib.load(\"Graduate_Admission_Prediction_Regression\") "
   ]
  },
  {
   "cell_type": "code",
   "execution_count": 843,
   "id": "46ff5778",
   "metadata": {},
   "outputs": [
    {
     "data": {
      "text/plain": [
       "Index(['GRE Score', 'TOEFL Score', 'University Rating', 'SOP', 'LOR ', 'CGPA',\n",
       "       'Research'],\n",
       "      dtype='object')"
      ]
     },
     "execution_count": 843,
     "metadata": {},
     "output_type": "execute_result"
    }
   ],
   "source": [
    "# Displaying Columns of original input data to know the sequence of input\n",
    "X.columns"
   ]
  },
  {
   "cell_type": "code",
   "execution_count": 853,
   "id": "895dba28",
   "metadata": {},
   "outputs": [
    {
     "name": "stdout",
     "output_type": "stream",
     "text": [
      "Chance of Admit is \"84.85255252365344  %\"\n"
     ]
    },
    {
     "name": "stderr",
     "output_type": "stream",
     "text": [
      "C:\\Users\\Hp\\anaconda3\\lib\\site-packages\\sklearn\\base.py:450: UserWarning: X does not have valid feature names, but MinMaxScaler was fitted with feature names\n",
      "  warnings.warn(\n"
     ]
    }
   ],
   "source": [
    "# Making prediction for random given feature data using Regressor\n",
    "regression_pred1 = admission_regressor.predict(scaler.transform([[GRE1, TOEFL1, UR1, SOP1, LOR1, CGPA1, research1]]))\n",
    "print(f'Chance of Admit is \"{regression_pred1[0] * 100}  %\"')"
   ]
  },
  {
   "cell_type": "code",
   "execution_count": 854,
   "id": "76f275e3",
   "metadata": {},
   "outputs": [
    {
     "name": "stdout",
     "output_type": "stream",
     "text": [
      "Chance of Admit is \"73.77983821053925 %\"\n"
     ]
    },
    {
     "name": "stderr",
     "output_type": "stream",
     "text": [
      "C:\\Users\\Hp\\anaconda3\\lib\\site-packages\\sklearn\\base.py:450: UserWarning: X does not have valid feature names, but MinMaxScaler was fitted with feature names\n",
      "  warnings.warn(\n"
     ]
    }
   ],
   "source": [
    "# Making prediction for random given feature data using Regressor\n",
    "regression_pred2 = admission_regressor.predict(scaler.transform([[GRE2, TOEFL2, UR2, SOP2, LOR2, CGPA2, research2]]))\n",
    "print(f'Chance of Admit is \"{regression_pred2[0] * 100} %\"')"
   ]
  },
  {
   "cell_type": "code",
   "execution_count": 855,
   "id": "68ee7c9d",
   "metadata": {},
   "outputs": [
    {
     "data": {
      "text/plain": [
       "SVC()"
      ]
     },
     "execution_count": 855,
     "metadata": {},
     "output_type": "execute_result"
    }
   ],
   "source": [
    "# Creating Support Vector Classifier Model as final Classifier\n",
    "final_classifier = SVC()\n",
    "\n",
    "# Training the model on entire dataset\n",
    "final_classifier.fit(X_scaled, y_cl)"
   ]
  },
  {
   "cell_type": "code",
   "execution_count": 856,
   "id": "79aabb65",
   "metadata": {},
   "outputs": [
    {
     "data": {
      "text/plain": [
       "['Graduate_Admission_Prediction_Classification']"
      ]
     },
     "execution_count": 856,
     "metadata": {},
     "output_type": "execute_result"
    }
   ],
   "source": [
    "# Saving the classifier as \"Graduate_Admission_Prediction_Classification\" for future use\n",
    "joblib.dump(final_classifier, \"Graduate_Admission_Prediction_Classification\")"
   ]
  },
  {
   "cell_type": "code",
   "execution_count": 857,
   "id": "c3ab7d9f",
   "metadata": {},
   "outputs": [],
   "source": [
    "# Loading \"Graduate_Admission_Prediction_Classification\" Classifier\n",
    "admission_classifier = joblib.load(\"Graduate_Admission_Prediction_Classification\") "
   ]
  },
  {
   "cell_type": "code",
   "execution_count": 858,
   "id": "b679e3ab",
   "metadata": {},
   "outputs": [
    {
     "data": {
      "text/plain": [
       "Index(['GRE Score', 'TOEFL Score', 'University Rating', 'SOP', 'LOR ', 'CGPA',\n",
       "       'Research'],\n",
       "      dtype='object')"
      ]
     },
     "execution_count": 858,
     "metadata": {},
     "output_type": "execute_result"
    }
   ],
   "source": [
    "# Displaying Columns of original input data to know the sequence of input\n",
    "X.columns"
   ]
  },
  {
   "cell_type": "code",
   "execution_count": 859,
   "id": "1c1751bd",
   "metadata": {},
   "outputs": [
    {
     "name": "stdout",
     "output_type": "stream",
     "text": [
      "Chance of Admit is \"High\"\n"
     ]
    },
    {
     "name": "stderr",
     "output_type": "stream",
     "text": [
      "C:\\Users\\Hp\\anaconda3\\lib\\site-packages\\sklearn\\base.py:450: UserWarning: X does not have valid feature names, but MinMaxScaler was fitted with feature names\n",
      "  warnings.warn(\n"
     ]
    }
   ],
   "source": [
    "# Making prediction for random given feature data using Classifier\n",
    "classification_pred1 = admission_classifier.predict(scaler.transform([[GRE1, TOEFL1, UR1, SOP1, LOR1, CGPA1, research1]]))\n",
    "print(f'Chance of Admit is \"{classification_pred1[0]}\"')"
   ]
  },
  {
   "cell_type": "code",
   "execution_count": 860,
   "id": "1dbca6a9",
   "metadata": {},
   "outputs": [
    {
     "name": "stdout",
     "output_type": "stream",
     "text": [
      "Chance of Admit is \"Low\"\n"
     ]
    },
    {
     "name": "stderr",
     "output_type": "stream",
     "text": [
      "C:\\Users\\Hp\\anaconda3\\lib\\site-packages\\sklearn\\base.py:450: UserWarning: X does not have valid feature names, but MinMaxScaler was fitted with feature names\n",
      "  warnings.warn(\n"
     ]
    }
   ],
   "source": [
    "# Making prediction for random given feature data using Classifier\n",
    "classification_pred2 = admission_classifier.predict(scaler.transform([[GRE2, TOEFL2, UR2, SOP2, LOR2, CGPA2, research2]]))\n",
    "print(f'Chance of Admit is \"{classification_pred2[0]}\"')"
   ]
  },
  {
   "cell_type": "code",
   "execution_count": 861,
   "id": "d8361825",
   "metadata": {},
   "outputs": [
    {
     "data": {
      "text/html": [
       "<div>\n",
       "<style scoped>\n",
       "    .dataframe tbody tr th:only-of-type {\n",
       "        vertical-align: middle;\n",
       "    }\n",
       "\n",
       "    .dataframe tbody tr th {\n",
       "        vertical-align: top;\n",
       "    }\n",
       "\n",
       "    .dataframe thead th {\n",
       "        text-align: right;\n",
       "    }\n",
       "</style>\n",
       "<table border=\"1\" class=\"dataframe\">\n",
       "  <thead>\n",
       "    <tr style=\"text-align: right;\">\n",
       "      <th></th>\n",
       "      <th>GRE Score</th>\n",
       "      <th>TOEFL Score</th>\n",
       "      <th>University Rating</th>\n",
       "      <th>SOP</th>\n",
       "      <th>LOR</th>\n",
       "      <th>CGPA</th>\n",
       "      <th>Research</th>\n",
       "      <th>Chance of Admit(%)</th>\n",
       "      <th>Chance of Admit(High/Low)</th>\n",
       "    </tr>\n",
       "  </thead>\n",
       "  <tbody>\n",
       "    <tr>\n",
       "      <th>0</th>\n",
       "      <td>310</td>\n",
       "      <td>115</td>\n",
       "      <td>4</td>\n",
       "      <td>4.5</td>\n",
       "      <td>5.0</td>\n",
       "      <td>9.2</td>\n",
       "      <td>1</td>\n",
       "      <td>84.852553</td>\n",
       "      <td>High</td>\n",
       "    </tr>\n",
       "    <tr>\n",
       "      <th>1</th>\n",
       "      <td>300</td>\n",
       "      <td>100</td>\n",
       "      <td>5</td>\n",
       "      <td>4.5</td>\n",
       "      <td>4.5</td>\n",
       "      <td>9.0</td>\n",
       "      <td>0</td>\n",
       "      <td>73.779838</td>\n",
       "      <td>Low</td>\n",
       "    </tr>\n",
       "  </tbody>\n",
       "</table>\n",
       "</div>"
      ],
      "text/plain": [
       "   GRE Score  TOEFL Score  University Rating  SOP  LOR  CGPA  Research  \\\n",
       "0        310          115                  4  4.5  5.0   9.2         1   \n",
       "1        300          100                  5  4.5  4.5   9.0         0   \n",
       "\n",
       "   Chance of Admit(%) Chance of Admit(High/Low)  \n",
       "0           84.852553                      High  \n",
       "1           73.779838                       Low  "
      ]
     },
     "execution_count": 861,
     "metadata": {},
     "output_type": "execute_result"
    }
   ],
   "source": [
    "# Showing the Final Result using both Regression and Classification on 2 new Inputs\n",
    "output = pd.DataFrame({'GRE Score' : [GRE1, GRE2],\n",
    "                       'TOEFL Score' : [TOEFL1, TOEFL2],\n",
    "                       'University Rating' : [UR1, UR2],\n",
    "                       'SOP' : [SOP1, SOP2],\n",
    "                       'LOR' : [LOR1, LOR2],\n",
    "                       'CGPA' : [CGPA1, CGPA2],\n",
    "                       'Research' : [research1, research2],\n",
    "                       'Chance of Admit(%)' : [regression_pred1[0] * 100 , regression_pred2[0] * 100],\n",
    "                       'Chance of Admit(High/Low)' : [classification_pred1[0], classification_pred2[0]]})\n",
    "output"
   ]
  },
  {
   "cell_type": "code",
   "execution_count": null,
   "id": "cf2a1ae7",
   "metadata": {},
   "outputs": [],
   "source": []
  },
  {
   "cell_type": "code",
   "execution_count": null,
   "id": "d58d5ed8",
   "metadata": {},
   "outputs": [],
   "source": []
  }
 ],
 "metadata": {
  "kernelspec": {
   "display_name": "Python 3 (ipykernel)",
   "language": "python",
   "name": "python3"
  },
  "language_info": {
   "codemirror_mode": {
    "name": "ipython",
    "version": 3
   },
   "file_extension": ".py",
   "mimetype": "text/x-python",
   "name": "python",
   "nbconvert_exporter": "python",
   "pygments_lexer": "ipython3",
   "version": "3.9.13"
  }
 },
 "nbformat": 4,
 "nbformat_minor": 5
}
